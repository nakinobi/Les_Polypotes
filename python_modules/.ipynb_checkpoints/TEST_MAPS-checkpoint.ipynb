{
 "cells": [
  {
   "cell_type": "code",
   "execution_count": 1,
   "metadata": {
    "extensions": {
     "jupyter_dashboards": {
      "version": 1,
      "views": {
       "default_view": {}
      }
     }
    }
   },
   "outputs": [],
   "source": [
    "import pandas as pd\n",
    "import folium\n",
    "from folium.plugins import FastMarkerCluster\n",
    "from ipywidgets import interact, FloatSlider, interact_manual, Textarea, Layout\n",
    "import warnings\n",
    "import ipywidgets as widgets\n",
    "import json\n",
    "from IPython.display import HTML\n",
    "import base64\n",
    "\n",
    "#L'arbresle Latitude : 45.8333 Longitude : 4.6167\n",
    "#global_result = {\"ORLEAN|47.902964,1.909251\": [\"toto\",\n",
    " #                             \"titi\",\n",
    "  #                            \"tata\"],\n",
    "   #                \"L'ARBRESLE|45.8333,4.6167\": [\"le gamin\"]\n",
    "    #               }\n",
    "\n",
    "def create_download_link(password=\"\"):\n",
    "    if password != \"BNP\":\n",
    "        print(\"INCORECT PASSWORD - Contact administratore\")\n",
    "        return \n",
    "    with open('polypote.json', 'rb') as outfile:\n",
    "            global_result = json.load(outfile)\n",
    "    max_length = max([len(global_result[x]) for x in global_result.keys()])\n",
    "    for k in global_result.keys():\n",
    "        if len(global_result[k]) != max_length:\n",
    "            global_result[k] += [\"\"]*(max_length- len(global_result[k]))\n",
    "\n",
    "    df = pd.DataFrame.from_dict(global_result)\n",
    "    csv = df.to_csv()\n",
    "    b64 = base64.b64encode(csv.encode())\n",
    "    payload = b64.decode()\n",
    "    title = \"Download polypote file\"\n",
    "    filename = \"data.csv\"\n",
    "    html = '<a download=\"{filename}\" href=\"data:text/csv;base64,{payload}\" target=\"_blank\">{title}</a>'\n",
    "    html = html.format(payload=payload,title=title,filename=filename)\n",
    "    return HTML(html)\n",
    "\n"
   ]
  },
  {
   "cell_type": "code",
   "execution_count": null,
   "metadata": {
    "extensions": {
     "jupyter_dashboards": {
      "version": 1,
      "views": {
       "default_view": {}
      }
     }
    }
   },
   "outputs": [],
   "source": []
  },
  {
   "cell_type": "markdown",
   "metadata": {
    "extensions": {
     "jupyter_dashboards": {
      "version": 1,
      "views": {
       "default_view": {}
      }
     }
    }
   },
   "source": [
    "# ADD POLYPOTE"
   ]
  },
  {
   "cell_type": "code",
   "execution_count": 2,
   "metadata": {
    "extensions": {
     "jupyter_dashboards": {
      "version": 1,
      "views": {
       "default_view": {}
      }
     }
    }
   },
   "outputs": [],
   "source": [
    "def add_pote(city=\"L'ARBRESLE\", coord=\"45.8333,4.6167\", name=\"alex\"):\n",
    "    with open('polypote.json', 'r') as outfile:\n",
    "            global_result = json.load(outfile)\n",
    "    key = city+\"|\"+coord.replace(\" \",\"\")\n",
    "    if key in global_result:\n",
    "        global_result[key] += [name]\n",
    "    else:\n",
    "        global_result[key] = [name]\n",
    "    with open('polypote.json', 'w') as outfile:\n",
    "        json.dump(global_result, outfile, indent=4)\n",
    "    return \"polypote added - please refresh page\""
   ]
  },
  {
   "cell_type": "code",
   "execution_count": 3,
   "metadata": {
    "extensions": {
     "jupyter_dashboards": {
      "version": 1,
      "views": {
       "default_view": {}
      }
     }
    }
   },
   "outputs": [
    {
     "data": {
      "application/vnd.jupyter.widget-view+json": {
       "model_id": "4333437536ae4c2d8806678fc0bb592c",
       "version_major": 2,
       "version_minor": 0
      },
      "text/plain": [
       "interactive(children=(Text(value=\"L'ARBRESLE\", description='city'), Text(value='45.8333,4.6167', description='…"
      ]
     },
     "metadata": {},
     "output_type": "display_data"
    },
    {
     "data": {
      "text/plain": [
       "<function __main__.add_pote(city=\"L'ARBRESLE\", coord='45.8333,4.6167', name='alex')>"
      ]
     },
     "execution_count": 3,
     "metadata": {},
     "output_type": "execute_result"
    }
   ],
   "source": [
    "interact_manual(add_pote, city=\"L'ARBRESLE\", coord=\"45.8333,4.6167\", name=\"alex\")"
   ]
  },
  {
   "cell_type": "code",
   "execution_count": 4,
   "metadata": {
    "extensions": {
     "jupyter_dashboards": {
      "version": 1,
      "views": {
       "default_view": {}
      }
     }
    }
   },
   "outputs": [],
   "source": [
    "def display_map():\n",
    "    with open('polypote.json', 'r') as outfile:\n",
    "            global_result = json.load(outfile)\n",
    "    folium_map = folium.Map(location = [48.856578,2.351828],\n",
    "                            zoom_start = 6,\n",
    "                            tiles='CartoDB dark_matter')\n",
    "    for key in global_result:\n",
    "        city = key.split(\"|\")[0]\n",
    "        latitude = float(key.split(\"|\")[1].split(\",\")[0])\n",
    "        logitude = float(key.split(\"|\")[1].split(\",\")[1])\n",
    "        text = city + \" \" + str(len(global_result[key])) + \" polypote(s) : \" + \", \".join(global_result[key])\n",
    "        folium.Marker([latitude, logitude], popup = text).add_to(folium_map)\n",
    "    return folium_map"
   ]
  },
  {
   "cell_type": "markdown",
   "metadata": {
    "extensions": {
     "jupyter_dashboards": {
      "version": 1,
      "views": {
       "default_view": {}
      }
     }
    }
   },
   "source": [
    "# MAP"
   ]
  },
  {
   "cell_type": "code",
   "execution_count": 5,
   "metadata": {
    "extensions": {
     "jupyter_dashboards": {
      "version": 1,
      "views": {
       "default_view": {}
      }
     }
    }
   },
   "outputs": [
    {
     "ename": "FileNotFoundError",
     "evalue": "[Errno 2] No such file or directory: 'polypote.json'",
     "output_type": "error",
     "traceback": [
      "\u001b[1;31m---------------------------------------------------------------------------\u001b[0m",
      "\u001b[1;31mFileNotFoundError\u001b[0m                         Traceback (most recent call last)",
      "\u001b[1;32m<ipython-input-5-3dff1c1facf9>\u001b[0m in \u001b[0;36m<module>\u001b[1;34m\u001b[0m\n\u001b[1;32m----> 1\u001b[1;33m \u001b[0mdisplay_map\u001b[0m\u001b[1;33m(\u001b[0m\u001b[1;33m)\u001b[0m\u001b[1;33m\u001b[0m\u001b[1;33m\u001b[0m\u001b[0m\n\u001b[0m",
      "\u001b[1;32m<ipython-input-4-07d4d2560a76>\u001b[0m in \u001b[0;36mdisplay_map\u001b[1;34m()\u001b[0m\n\u001b[0;32m      1\u001b[0m \u001b[1;32mdef\u001b[0m \u001b[0mdisplay_map\u001b[0m\u001b[1;33m(\u001b[0m\u001b[1;33m)\u001b[0m\u001b[1;33m:\u001b[0m\u001b[1;33m\u001b[0m\u001b[1;33m\u001b[0m\u001b[0m\n\u001b[1;32m----> 2\u001b[1;33m     \u001b[1;32mwith\u001b[0m \u001b[0mopen\u001b[0m\u001b[1;33m(\u001b[0m\u001b[1;34m'polypote.json'\u001b[0m\u001b[1;33m,\u001b[0m \u001b[1;34m'r'\u001b[0m\u001b[1;33m)\u001b[0m \u001b[1;32mas\u001b[0m \u001b[0moutfile\u001b[0m\u001b[1;33m:\u001b[0m\u001b[1;33m\u001b[0m\u001b[1;33m\u001b[0m\u001b[0m\n\u001b[0m\u001b[0;32m      3\u001b[0m             \u001b[0mglobal_result\u001b[0m \u001b[1;33m=\u001b[0m \u001b[0mjson\u001b[0m\u001b[1;33m.\u001b[0m\u001b[0mload\u001b[0m\u001b[1;33m(\u001b[0m\u001b[0moutfile\u001b[0m\u001b[1;33m)\u001b[0m\u001b[1;33m\u001b[0m\u001b[1;33m\u001b[0m\u001b[0m\n\u001b[0;32m      4\u001b[0m     folium_map = folium.Map(location = [48.856578,2.351828],\n\u001b[0;32m      5\u001b[0m                             \u001b[0mzoom_start\u001b[0m \u001b[1;33m=\u001b[0m \u001b[1;36m6\u001b[0m\u001b[1;33m,\u001b[0m\u001b[1;33m\u001b[0m\u001b[1;33m\u001b[0m\u001b[0m\n",
      "\u001b[1;31mFileNotFoundError\u001b[0m: [Errno 2] No such file or directory: 'polypote.json'"
     ]
    }
   ],
   "source": [
    "display_map()"
   ]
  },
  {
   "cell_type": "markdown",
   "metadata": {
    "extensions": {
     "jupyter_dashboards": {
      "version": 1,
      "views": {
       "default_view": {}
      }
     }
    }
   },
   "source": [
    "# DOWNLOAD database"
   ]
  },
  {
   "cell_type": "code",
   "execution_count": null,
   "metadata": {
    "extensions": {
     "jupyter_dashboards": {
      "version": 1,
      "views": {
       "default_view": {}
      }
     }
    }
   },
   "outputs": [],
   "source": [
    "interact_manual(create_download_link, password=\"password\")"
   ]
  },
  {
   "cell_type": "code",
   "execution_count": null,
   "metadata": {
    "extensions": {
     "jupyter_dashboards": {
      "version": 1,
      "views": {
       "default_view": {}
      }
     }
    }
   },
   "outputs": [],
   "source": [
    "print('toto')"
   ]
  },
  {
   "cell_type": "code",
   "execution_count": null,
   "metadata": {
    "extensions": {
     "jupyter_dashboards": {
      "version": 1,
      "views": {
       "default_view": {}
      }
     }
    }
   },
   "outputs": [],
   "source": []
  },
  {
   "cell_type": "code",
   "execution_count": null,
   "metadata": {
    "extensions": {
     "jupyter_dashboards": {
      "version": 1,
      "views": {
       "default_view": {}
      }
     }
    }
   },
   "outputs": [],
   "source": []
  }
 ],
 "metadata": {
  "extensions": {
   "jupyter_dashboards": {
    "activeView": "default_view",
    "version": 1,
    "views": {
     "default_view": {
      "cellMargin": 10,
      "defaultCellHeight": 40,
      "maxColumns": 12,
      "name": "active_view",
      "type": "grid"
     }
    }
   }
  },
  "kernelspec": {
   "display_name": "Python 3",
   "language": "python",
   "name": "python3"
  },
  "language_info": {
   "codemirror_mode": {
    "name": "ipython",
    "version": 3
   },
   "file_extension": ".py",
   "mimetype": "text/x-python",
   "name": "python",
   "nbconvert_exporter": "python",
   "pygments_lexer": "ipython3",
   "version": "3.8.5"
  }
 },
 "nbformat": 4,
 "nbformat_minor": 2
}
