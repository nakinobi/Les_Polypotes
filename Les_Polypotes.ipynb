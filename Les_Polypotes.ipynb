{
 "cells": [
  {
   "cell_type": "code",
   "execution_count": 6,
   "metadata": {
    "extensions": {
     "jupyter_dashboards": {
      "version": 1,
      "views": {
       "default_view": {
        "hidden": true
       }
      }
     }
    }
   },
   "outputs": [],
   "source": [
    "import ipywidgets as w\n",
    "import os\n",
    "import python_modules.commands as cmd\n",
    "import pandas as pd\n",
    "import sys\n",
    "import folium\n",
    "import numpy as np\n",
    "import datetime\n",
    "import time\n",
    "from IPython.display import Image\n",
    "import emoji\n",
    "import tabulate\n",
    "\n",
    "# Global variables\n",
    "root = os.getcwd()\n",
    "stdout = w.Output()\n",
    "\n",
    "# Default content\n",
    "config = cmd.read_config(root) \n",
    "questions = cmd.read_questions(root)\n",
    "tuto = cmd.read_tuto_screen(root)\n",
    "inscr_form_opt = cmd.read_inscr_form(root)\n",
    "\n",
    "#html layout\n",
    "err_mess = \" style='color:#ed6d6d; background-color:#111111;'\"\n",
    "sc_title = \" style='font-size:40px; padding-top:30px; padding-bottom:30px; background-color:#111111'\"\n",
    "\n",
    "# user infos\n",
    "glob_usr_mail = \"\""
   ]
  },
  {
   "cell_type": "code",
   "execution_count": 7,
   "metadata": {
    "extensions": {
     "jupyter_dashboards": {
      "version": 1,
      "views": {
       "default_view": {
        "hidden": true
       }
      }
     }
    }
   },
   "outputs": [],
   "source": [
    "\n",
    "class auth_screen:\n",
    "    def __init__(self):\n",
    "        # Styles\n",
    "        style = {'description_width': 'initial'}\n",
    "        \n",
    "        # Label Widgets\n",
    "        self.screen_title = w.HTML(\"<center\"+sc_title+\">Connexion</center>\")\n",
    "        \n",
    "        # Interactive Widgets\n",
    "        self.username_entry = w.Text(value=\"@gmail.com\", description=\"Adresse mail\", style=style, layout=w.Layout(width=\"260px\"))\n",
    "        self.userpw_entry = w.Password(description=\"Mot de passe\", style=style, layout=w.Layout(width=\"270px\"))\n",
    "        self.connect_button = w.Button(description=emoji.emojize(':green_circle:')+\" Se connecter \")\n",
    "        self.reset_pw = w.Button(description=\"Mot de passe oublié\")\n",
    "        self.create_account_but = w.Button(description=\"Créer un compte\")\n",
    "        \n",
    "        \n",
    "        # Actions on buttons\n",
    "        self.connect_button.on_click(self.callback_connect)\n",
    "        self.reset_pw.on_click(self.callback_resetPW)\n",
    "        self.create_account_but.on_click(self.callback_create)\n",
    "        \n",
    "        #Images\n",
    "        self.solo_pote = w.HTML(\"<center><img src='solo_pote.png' width=150 height=150 align='center'/></center>\")\n",
    "        \n",
    "    def init_mess(self):\n",
    "        # messages        \n",
    "        self.waiting_mess = w.HTML('<center'+err_mess+'>Connection en cours ...</center>')\n",
    "        self.mail_not_valid = w.HTML(\"<center\"+err_mess+\">Veuillez entrer une adresse Gmail valide (...@gmail.com)</center>\")\n",
    "        self.mail_send = w.HTML(\"<center\"+err_mess+\">Nous vous avons envoyé un Email de réinitialisation à \" + str(self.username_entry.value) + \"</center>\")\n",
    "        self.wrong_pw = w.HTML(\"<center\"+err_mess+\">Votre mot de passe est incorrect</center>\")\n",
    "        self.unknow_user = w.HTML(\"<center\"+err_mess+\">Votre adresse mail n'est pas reconnue</center>\")\n",
    "        self.already_token = w.HTML(\"<center\"+err_mess+\">Vous devez d'abord réinitialiser votre mot de passe</center>\")\n",
    "        self.better_create_account = w.HTML(\"<center\"+err_mess+\">Votre adresse mail n'est pas reconnue. Vous devriez d'abord créer un compte.</center>\")\n",
    "        \n",
    "    def show(self):\n",
    "        self.__init__()\n",
    "        self.init_mess()\n",
    "        \n",
    "        box_list = [self.screen_title, self.username_entry, self.userpw_entry, self.connect_button, [self.create_account_but, self.reset_pw]]\n",
    "        out = cmd.center_widget(box_list)\n",
    "        \n",
    "        with stdout:\n",
    "            display(self.solo_pote)\n",
    "            display(out)\n",
    "        display(stdout)\n",
    "        \n",
    "    \n",
    "    def show_mess(self, mess):\n",
    "        if mess == 'wait':\n",
    "            with stdout:\n",
    "                self.hide_mess()\n",
    "                display(self.waiting_mess)\n",
    "        if mess == 'not_gmail':\n",
    "            with stdout:\n",
    "                self.hide_mess()\n",
    "                display(self.mail_not_valid)\n",
    "        if mess == 'mail_sent':\n",
    "            with stdout:\n",
    "                self.hide_mess()\n",
    "                display(self.mail_send)\n",
    "        if mess == 'wrong_pw':\n",
    "            with stdout:\n",
    "                self.hide_mess()\n",
    "                display(self.wrong_pw)\n",
    "        if mess == 'unknow_mail':\n",
    "            with stdout:\n",
    "                self.hide_mess()\n",
    "                display(self.unknow_user)\n",
    "        if mess == \"token\":\n",
    "            with stdout:\n",
    "                self.hide_mess()\n",
    "                display(self.already_token)\n",
    "        if mess == \"better_create_account\":\n",
    "            with stdout:\n",
    "                self.hide_mess()\n",
    "                display(self.better_create_account)\n",
    "        \n",
    "    def hide(self):\n",
    "        self.hide_mess()\n",
    "        self.username_entry.close()\n",
    "        self.userpw_entry.close()\n",
    "        self.connect_button.close()\n",
    "        self.reset_pw.close()\n",
    "        self.create_account_but.close()\n",
    "        self.screen_title.close()\n",
    "        self.solo_pote.close()\n",
    "        \n",
    "    \n",
    "    def hide_mess(self):\n",
    "        self.waiting_mess.close()\n",
    "        self.mail_not_valid.close()\n",
    "        self.mail_send.close()\n",
    "        self.wrong_pw.close()\n",
    "        self.unknow_user.close()\n",
    "        self.already_token.close()\n",
    "        self.better_create_account.close()\n",
    "        self.init_mess()\n",
    "        \n",
    "\n",
    "    def callback_connect(self, b):\n",
    "        self.user_info = {\"ID\" : self.username_entry.value, \"PW\" : self.userpw_entry.value}\n",
    "        \n",
    "\n",
    "        #Check that the email adresse is correct \n",
    "        if not \"@gmail.com\" in self.user_info['ID']:\n",
    "            self.show_mess('not_gmail')\n",
    "            return\n",
    "\n",
    "        #Go to DB to authentify user\n",
    "        bdd = cmd.refresh(root) \n",
    "        #print(\"saved mail\", self.user_info['ID'])\n",
    "        if self.user_info['ID'] in bdd.index.values.tolist():\n",
    "            if bdd.loc[self.user_info['ID'], 'USER_PW'] == self.user_info['PW']:\n",
    "\n",
    "                #Redirect to either question or main_screen\n",
    "                self.show_mess('wait')\n",
    "                \n",
    "                if bdd.loc[self.user_info['ID'], 'IS_POLYTECH'] != 'oui':\n",
    "                    # User should answer the questions and see the tuto before acessing main_screen\n",
    "                    \n",
    "                    ##### ACCESS TO SIGNIN_SCREEN #####\n",
    "                    self.hide()\n",
    "                    sign_sc.show()\n",
    "                    ###################################\n",
    "                    \n",
    "                else:\n",
    "                    \n",
    "                    ##### ACCESS TO MAIN_SCREEN #####\n",
    "                    glob_usr_mail = self.user_info['ID']\n",
    "                    self.user_id = self.user_info\n",
    "                    self.hide()\n",
    "                    main_sc.show()\n",
    "                    #################################\n",
    "\n",
    "            else:\n",
    "                self.show_mess('wrong_pw')\n",
    "                return\n",
    "        else:\n",
    "            self.show_mess('unknow_mail')\n",
    "            return\n",
    "    \n",
    "    def callback_resetPW(self, b):\n",
    "        self.user_info = {\"ID\" : self.username_entry.value, \"PW\" : self.userpw_entry.value}\n",
    "        \n",
    "        # Display informing user to check out his mailbox\n",
    "        receiver = self.user_info[\"ID\"]\n",
    "        if not cmd.check_mail_domain(receiver, config):\n",
    "            self.show_mess('not_gmail')\n",
    "            return\n",
    "        \n",
    "        bdd = cmd.refresh(root)\n",
    "        # If user is not in BDD propose to create_account\n",
    "        if not receiver in bdd.index:\n",
    "            self.show_mess(\"better_create_account\")\n",
    "            return\n",
    "        \n",
    "        #Check that the password has changed before authorizing another password reset \n",
    "        print('token <' + str(bdd.loc[receiver, \"TOKEN\"]) + '>')\n",
    "        try:\n",
    "            a = str(bdd.loc[receiver, \"TOKEN\"])\n",
    "            if len(a) > 3:\n",
    "                token_empty = False\n",
    "            else:\n",
    "                token_empty = True\n",
    "        except:\n",
    "            token_empty = True\n",
    "        \n",
    "        if token_empty:\n",
    "            cmd.send_token_email(receiver, root, config, 'reset')\n",
    "            \n",
    "            ########## ACCESS TO RESET PW ###########\n",
    "            self.hide()\n",
    "            reset_sc.show(True)\n",
    "            return\n",
    "            #########################################\n",
    "\n",
    "        else:\n",
    "            ########## ACCESS TO RESET PW ###########\n",
    "            self.hide()\n",
    "            reset_sc.show(False)\n",
    "            return\n",
    "            #########################################\n",
    "\n",
    "    def callback_create(self, b):\n",
    "        # Redirect to create_screen\n",
    "        self.user_info = {\"ID\" : self.username_entry.value, \"PW\" : self.userpw_entry.value}\n",
    "        \n",
    "        ########## ACCESS TO CREATE ACOUNT ###########\n",
    "        self.hide()\n",
    "        create_sc.show()\n",
    "        ##############################################\n",
    "        \n",
    "\n",
    "    \n",
    "\n",
    "        \n",
    "        \n",
    "class reset_pw_screen:\n",
    "    def __init__(self):\n",
    "        self.screen_title = w.HTML(\"<center\"+sc_title+\">Réinitialisation de mot de passe</center>\")\n",
    "        \n",
    "        self.token_entry = w.Text(description=\"Code secret\")\n",
    "        self.new_password_entry = w.Password(description=\"Nouveau mot de passe\")\n",
    "        self.new_password_entry_2 = w.Password(description=\"Confirmer votre nouveau mot de passe\")\n",
    "        self.submit = w.Button(description=\"Valider\")\n",
    "        \n",
    "        # Callback functions\n",
    "        self.submit.on_click(self.callback_check_submit)\n",
    "        \n",
    "        #Images\n",
    "        self.solo_pote = w.HTML(\"<center><img src='solo_pote.png' width=150 height=150 align='center'/></center>\")\n",
    "    \n",
    "    def init_mess(self):\n",
    "        #Mesages\n",
    "        self.token_invalid = w.HTML(\"<center\"+err_mess+\">Mauvais message secret, veuillez réessayer</center>\")\n",
    "        self.pw_no_match = w.HTML(\"<center\"+err_mess+\">Les mots de passes ne correspondent pas</center>\")\n",
    "        self.mail_send = w.HTML(\"<center\"+err_mess+\">Nous vous avons envoyé un Email de réinitialisation à \" + str(self.user['ID']) + \"</center>\")\n",
    "        self.pw_too_short = w.HTML(\"<center\"+err_mess+\">Votre mot de passe doit contenir au moins \" + str(config[\"min_pw_length\"]) + \" caractères</center>\")\n",
    "        \n",
    "    def show(self, is_mail_sent):\n",
    "        self.user = auth_sc.user_info\n",
    "        self.__init__()\n",
    "        self.init_mess()\n",
    "        if is_mail_sent:\n",
    "            w_list = [self.screen_title, self.mail_send, self.token_entry, self.new_password_entry, self.new_password_entry_2, self.submit]\n",
    "        else:\n",
    "            w_list = [self.screen_title, self.token_entry, self.new_password_entry, self.new_password_entry_2, self.submit]\n",
    "        out = cmd.center_widget(w_list)\n",
    "        with stdout:\n",
    "            display(self.solo_pote)\n",
    "            display(out)\n",
    "        display(stdout)\n",
    "    \n",
    "    def hide(self):\n",
    "        self.token_entry.close()\n",
    "        self.new_password_entry.close()\n",
    "        self.new_password_entry_2.close()\n",
    "        self.submit.close()\n",
    "        self.screen_title.close()\n",
    "        self.solo_pote.close()\n",
    "        self.hide_mess()\n",
    "        \n",
    "    def show_mess(self, mess):\n",
    "        if mess == 'token_invalid':\n",
    "            with stdout:\n",
    "                self.hide_mess()\n",
    "                display(self.token_invalid)\n",
    "        if mess == \"pw_no_match\":\n",
    "            with stdout:\n",
    "                self.hide_mess()\n",
    "                display(self.pw_no_match)\n",
    "        if mess == \"mail_sent\":\n",
    "            with stdout:\n",
    "                self.hide_mess()\n",
    "                display(self.mail_send)\n",
    "        if mess==\"pw_too_short\":\n",
    "            with stdout:\n",
    "                self.hide_mess()\n",
    "                display(self.pw_too_short)\n",
    "            \n",
    "    \n",
    "    def hide_mess(self):\n",
    "        self.token_invalid.close()\n",
    "        self.pw_no_match.close()\n",
    "        self.mail_send.close()\n",
    "        self.pw_too_short.close()\n",
    "        self.init_mess()\n",
    "        \n",
    "    def callback_check_submit(self, b):\n",
    "        bdd = cmd.refresh(root)\n",
    "        if self.token_entry.value == bdd.loc[self.user['ID'], 'TOKEN']:\n",
    "            if self.new_password_entry.value == self.new_password_entry_2.value:\n",
    "                if len(str(self.new_password_entry.value)) >= config[\"min_pw_length\"]:\n",
    "                    bdd.loc[self.user['ID'], 'TOKEN'] = str()\n",
    "                    bdd.loc[self.user['ID'], 'USER_PW'] = self.new_password_entry.value\n",
    "                    filepath = '\\\\'.join([root, 'data', 'BDD.json'])\n",
    "                    bdd.to_json(filepath)\n",
    "\n",
    "                    # Redirect to auth_screen\n",
    "\n",
    "                    ###### ACCESS TO AUTH SCREEN #####\n",
    "                    self.hide()\n",
    "                    auth_sc.show()\n",
    "                    ##################################\n",
    "                else:\n",
    "                    self.show_mess(\"pw_too_short\")\n",
    "                \n",
    "            else:\n",
    "                self.show_mess(\"pw_no_match\")\n",
    "                return\n",
    "        else:\n",
    "            self.show_mess('token_invalid')\n",
    "\n",
    "\n",
    "\n",
    "class create_account_screen:\n",
    "    def __init__(self):\n",
    "        self.screen_title = w.HTML(\"<center\"+sc_title+\">Création de compte</center>\")\n",
    "        \n",
    "        self.user_mail = w.Text(description=\"Adresse mail\", value=\"@gmail.com\")\n",
    "        self.pw_entry = w.Password(description=\"Mot de passe\")\n",
    "        self.pw_entry_2 = w.Password(description=\"Mot de passe\")\n",
    "        self.submit_but = w.Button(description=\"Créer\")\n",
    "        self.token_entry = w.Text(description=\"Code secret\")\n",
    "        self.confirm_creation = w.Button(description=\"Terminer\")\n",
    "        self.back_to_authscreen = w.Button(description=\"Retour\")\n",
    "        \n",
    "        #CAllback functions\n",
    "        self.confirm_creation.on_click(self.callback_check_token)\n",
    "        self.back_to_authscreen.on_click(self.back)\n",
    "        self.submit_but.on_click(self.callback_check_and_send)\n",
    "        \n",
    "        #Images\n",
    "        self.solo_pote = w.HTML(\"<center><img src='solo_pote.png' width=150 height=150 align='center'/></center>\")\n",
    "        \n",
    "    def init_mess(self):\n",
    "        # Messages\n",
    "        self.mail_not_valid = w.HTML(\"<center\"+err_mess+\">Veuillez entrer une adresse Gmail valide (...@gmail.com)</center\")\n",
    "        self.pw_no_match = w.HTML(\"<center\"+err_mess+\">Les mots de passes ne correspondent pas</center>\")\n",
    "        self.mail_send = w.HTML(\"<center\"+err_mess+\">Nous vous avons envoyé un Email de confirmation à \" + str(self.user_mail.value)+ \"</center>\")\n",
    "        self.user_already_in_bdd = w.HTML(\"<center>Vous avez déja un compte dans Les Polypotes</center>\")\n",
    "        self.token_no_match = w.HTML(\"<center\"+err_mess+\">Votre code secret est incorrect. Vous pouvez recliquer sur 'Créer' pour renvoyer un code secret</center>\")\n",
    "        self.pw_too_short = w.HTML(\"<center\"+err_mess+\">Votre mot de passe doit contenir au moins \" + str(config[\"min_pw_length\"]) + \" caractères</center>\")\n",
    "        \n",
    "    def show(self):\n",
    "        self.__init__()\n",
    "        self.init_mess()\n",
    "        \n",
    "        box_list = [self.screen_title, \n",
    "                    self.user_mail, \n",
    "                    self.pw_entry, \n",
    "                    self.pw_entry_2, \n",
    "                    [self.back_to_authscreen, self.submit_but]]\n",
    "        show_box = cmd.center_widget(box_list)\n",
    "        \n",
    "        with stdout:\n",
    "            display(self.solo_pote)\n",
    "            display(show_box)\n",
    "\n",
    "    def hide(self):\n",
    "        self.user_mail.close()\n",
    "        self.pw_entry.close()\n",
    "        self.pw_entry_2.close()\n",
    "        self.submit_but.close()\n",
    "        self.mail_send.close()\n",
    "        self.token_entry.close()\n",
    "        self.confirm_creation.close()\n",
    "        self.back_to_authscreen.close()\n",
    "        self.screen_title.close()\n",
    "        self.solo_pote.close()\n",
    "        self.hide_mess()\n",
    "\n",
    "    def show_mess(self, mess):\n",
    "        if mess == 'mail_not_valid':\n",
    "            with stdout:\n",
    "                self.hide_mess()\n",
    "                display(self.mail_not_valid)\n",
    "        if mess == \"pw_no_match\":\n",
    "            with stdout:\n",
    "                self.hide_mess()\n",
    "                display(self.pw_no_match)\n",
    "        if mess == \"mail_sent\":\n",
    "            with stdout:\n",
    "                self.hide_mess()\n",
    "                display(self.mail_send)\n",
    "        if mess == \"user_already_in_bdd\":\n",
    "            with stdout:\n",
    "                self.hide_mess()\n",
    "                display(self.user_already_in_bdd)\n",
    "        if mess == 'token_no_match':\n",
    "            with stdout:\n",
    "                self.hide_mess()\n",
    "                display(self.token_no_match)\n",
    "        if mess == \"pw_too_short\":\n",
    "            with stdout:\n",
    "                self.hide_mess()\n",
    "                display(self.pw_too_short)\n",
    "\n",
    "    def hide_mess(self):\n",
    "        self.mail_not_valid.close()\n",
    "        self.pw_no_match.close()\n",
    "        self.mail_send.close()\n",
    "        self.pw_too_short.close()\n",
    "        self.init_mess()\n",
    "    \n",
    "    def show_child(self):\n",
    "        self.tmp = self.user_mail.value, self.pw_entry.value, self.pw_entry_2.value\n",
    "        self.hide()\n",
    "        self.__init__()\n",
    "        self.user_mail.value, self.pw_entry.value, self.pw_entry_2.value = self.tmp[0], self.tmp[1], self.tmp[2]\n",
    "        self.init_mess()\n",
    "        \n",
    "        \n",
    "        sub_list = [self.screen_title, \n",
    "                    self.mail_send, \n",
    "                    self.token_entry, \n",
    "                    [self.back_to_authscreen, self.confirm_creation]]\n",
    "        sub_out = cmd.center_widget(sub_list)\n",
    "        with stdout:\n",
    "            display(self.solo_pote)\n",
    "            display(sub_out)\n",
    "\n",
    "    def callback_check_and_send(self, b):\n",
    "        bdd = cmd.refresh(root)\n",
    "        if cmd.check_mail_domain(self.user_mail.value, config):\n",
    "            if not self.user_mail.value in bdd.index:\n",
    "                if self.pw_entry.value == self.pw_entry_2.value:\n",
    "                    if len(str(self.pw_entry.value)+'a') > config[\"min_pw_length\"]:\n",
    "                        self.show_child()\n",
    "                        token = cmd.send_token_email(self.user_mail.value, root, config, \"create\")\n",
    "                        user_info = {'ID': self.user_mail.value,\n",
    "                                    'TOKEN': token,\n",
    "                                    'USER_PW': self.pw_entry.value}\n",
    "                        bdd = cmd.add_user(bdd, user_info)\n",
    "                        cmd.refresh(root, bdd)\n",
    "                        return\n",
    "                    \n",
    "                    else:\n",
    "                        self.show_mess(\"pw_too_short\")\n",
    "                        return\n",
    "                else:\n",
    "                    self.show_mess('pw_no_match')\n",
    "                    return\n",
    "            else:\n",
    "                self.show_mess('user_already_in_bdd')\n",
    "                return\n",
    "        else:\n",
    "            self.show_mess('mail_not_valid')\n",
    "            return\n",
    "\n",
    "    def callback_check_token(self, b):\n",
    "        bdd = cmd.refresh(root)\n",
    "        if bdd.loc[self.user_mail.value, \"TOKEN\"] == self.token_entry.value:\n",
    "            bdd.loc[self.user_mail.value, \"TOKEN\"] = \"\"\n",
    "            cmd.refresh(root, bdd)\n",
    "            # Redirect to auth_screen\n",
    "            print('good')\n",
    "            \n",
    "            #### ACCES TO AUTH SCREEN #####\n",
    "            self.hide()\n",
    "            auth_sc.show()\n",
    "            ###############################\n",
    "            \n",
    "        else:\n",
    "            self.show_mess('token_no_match')\n",
    "    \n",
    "    def back(self, b):\n",
    "        \n",
    "        ##### ACCESS TO AUTH SCREEN #####\n",
    "        self.hide()\n",
    "        auth_sc.show()\n",
    "        #################################\n",
    "\n",
    "\n",
    "\n",
    "        \n",
    "        "
   ]
  },
  {
   "cell_type": "code",
   "execution_count": 8,
   "metadata": {
    "extensions": {
     "jupyter_dashboards": {
      "version": 1,
      "views": {
       "default_view": {
        "hidden": true
       }
      }
     }
    }
   },
   "outputs": [],
   "source": [
    "class signin_screen:\n",
    "    def __init__(self):\n",
    "        # Main widgets\n",
    "        self.screen_title = w.HTML(\"<center\"+sc_title+\">Les questions</center>\")\n",
    "        \n",
    "        self.lab_quest1 = w.Label(value=questions['q1'])\n",
    "        self.entry_quest1 = w.Text(description=\"Réponse :\")\n",
    "        self.lab_quest2 = w.Label(value=questions['q2'])\n",
    "        self.entry_quest2 = w.Text(description=\"Réponse :\")\n",
    "        self.lab_quest3 = w.Label(value=questions['q3'])\n",
    "        self.entry_quest3 = w.Text(description=\"Réponse :\")\n",
    "        self.valide_answer = w.Button(description=\"Valider\")\n",
    "        \n",
    "        self.spacing = w.HTML(\"<center style='padding-top: 20px'> </center>\")\n",
    "        \n",
    "        #callback functions\n",
    "        self.valide_answer.on_click(self.callback_check_answers)\n",
    "    \n",
    "    def init_mess(self):\n",
    "        # messages\n",
    "        self.wrong_ans_1 = w.HTML(\"<center\"+err_mess+\">Mauvaise réponse 1</center>\")\n",
    "        self.wrong_ans_2 = w.HTML(\"<center\"+err_mess+\">Mauvaise réponse 2</center>\")\n",
    "        self.wrong_ans_3 = w.HTML(\"<center\"+err_mess+\">Mauvaise réponse 3</center>\")\n",
    "        \n",
    "        \n",
    "        \n",
    "    def show(self):\n",
    "        self.__init__()\n",
    "        self.init_mess()\n",
    "        \n",
    "        box_list = [self.screen_title, \n",
    "                    self.spacing, \n",
    "                    self.lab_quest1, \n",
    "                    self.entry_quest1, \n",
    "                    self.spacing, \n",
    "                    self.lab_quest2,\n",
    "                    self.entry_quest2, \n",
    "                    self.spacing, \n",
    "                    self.lab_quest3,\n",
    "                    self.entry_quest3,\n",
    "                    self.spacing,\n",
    "                    self.spacing,\n",
    "                    self.valide_answer]\n",
    "        disp_box = cmd.center_widget(box_list)\n",
    "        \n",
    "        with stdout:\n",
    "            display(disp_box)\n",
    "        display(stdout)\n",
    "    \n",
    "    def show_mess(self, mess):\n",
    "        if mess == 'wrong1':\n",
    "            with stdout:\n",
    "                self.hide_mess()\n",
    "                display(self.wrong_ans_1)\n",
    "        if mess == 'wrong2':\n",
    "            with stdout:\n",
    "                self.hide_mess()\n",
    "                display(self.wrong_ans_2)\n",
    "        if mess == 'wrong3':\n",
    "            with stdout:\n",
    "                self.hide_mess()\n",
    "                display(self.wrong_ans_3)\n",
    "        \n",
    "        \n",
    "    def hide(self):\n",
    "        self.lab_quest1.close()\n",
    "        self.entry_quest1.close()\n",
    "        self.lab_quest2.close()\n",
    "        self.entry_quest2.close()\n",
    "        self.lab_quest3.close()\n",
    "        self.entry_quest3.close()\n",
    "        self.valide_answer.close()\n",
    "        self.screen_title.close()\n",
    "        self.spacing.close()\n",
    "        self.hide_mess()\n",
    "    \n",
    "    def hide_mess(self):\n",
    "        self.wrong_ans_1.close()\n",
    "        self.wrong_ans_2.close()\n",
    "        self.wrong_ans_3.close()\n",
    "        self.init_mess()\n",
    "    \n",
    "    def callback_check_answers(self, b):\n",
    "        answers = {'a1' : self.entry_quest1.value,\n",
    "                   'a2' : self.entry_quest2.value,\n",
    "                   'a3' : self.entry_quest3.value}\n",
    "        \n",
    "        res = cmd.check_answers(answers) # result is dict with same entries as 'answers'\n",
    "        \n",
    "        all_good = True\n",
    "        if res['a1'] == False:\n",
    "            all_good = False\n",
    "            self.show_mess('wrong1')\n",
    "        if res['a2'] == False:\n",
    "            all_good = False\n",
    "            self.show_mess('wrong2')\n",
    "        if res['a3'] == False:\n",
    "            all_good = False\n",
    "            self.show_mess('wrong3')\n",
    "        \n",
    "        if all_good == False:\n",
    "            return\n",
    "        else:\n",
    "            bdd = cmd.refresh(root)\n",
    "            user_id = auth_sc.user_info\n",
    "            bdd.loc[user_id['ID'], 'IS_POLYTECH'] = 'oui'\n",
    "            cmd.refresh(root, bdd)\n",
    "            \n",
    "            ##### ACCESS TO TUTO #####\n",
    "            self.hide()\n",
    "            tutoriel_sc.show()\n",
    "            ##########################\n",
    "    \n",
    "\n",
    "\n",
    "class tuto_screen:\n",
    "    def __init__(self):\n",
    "        # Main widgets\n",
    "        self.screen_title = w.HTML(\"<center\"+sc_title+\">Tutoriel</center>\")\n",
    "        self.actual_screen = 1\n",
    "        self.screen_nb = len(tuto.keys())\n",
    "        \n",
    "        # Dynamic display\n",
    "    def init_dynamic(self):\n",
    "        self.screen_title = w.HTML(\"<center\"+sc_title+\">Tutoriel</center>\")\n",
    "        self.message = w.HTML(\"a\")\n",
    "        self.next_but = w.Button(description=\"Suivant\")\n",
    "        self.next_but.on_click(self.callback_next)\n",
    "        self.back_but = w.Button(description='Précédent')\n",
    "        self.back_but.on_click(self.callback_back)\n",
    "    \n",
    "    \n",
    "    def show(self):\n",
    "        self.__init__()\n",
    "        self.init_dynamic()\n",
    "        self.actual_screen = 1\n",
    "        self.message.value = \"<center>\"+tuto['screen1']+\"</center>\"\n",
    "        \n",
    "        w_list = [self.screen_title,\n",
    "                    self.message,\n",
    "                    self.next_but]\n",
    "        w_box = cmd.center_widget(w_list)\n",
    "        \n",
    "        with stdout:\n",
    "            display(w_box)\n",
    "        display(stdout)\n",
    "    \n",
    "    def hide_curr_mess(self):\n",
    "        self.message.close()\n",
    "        self.back_but.close()\n",
    "        self.next_but.close()\n",
    "        self.screen_title.close()\n",
    "        self.init_dynamic()\n",
    "\n",
    "    def callback_next(self, b):\n",
    "        self.hide_curr_mess()\n",
    "        self.actual_screen += 1 \n",
    "        \n",
    "        if self.actual_screen > self.screen_nb:\n",
    "            \n",
    "            ##### ACCESS TO inscr_screen #####\n",
    "            # auto_hide\n",
    "            inscr_sc.show()\n",
    "            ##################################\n",
    "            \n",
    "          \n",
    "        if self.actual_screen <= self.screen_nb:\n",
    "            self.message = w.HTML(\"<center>\"+ tuto['screen'+str(self.actual_screen)] +\"</center>\")\n",
    "            \n",
    "            w_list = [self.screen_title,\n",
    "                      self.message, \n",
    "                      [self.back_but, self.next_but]]\n",
    "            \n",
    "            w_box = cmd.center_widget(w_list)\n",
    "            \n",
    "            with stdout:\n",
    "                display(w_box)\n",
    "            display(stdout)\n",
    "    \n",
    "    def callback_back(self, b):\n",
    "        self.hide_curr_mess()\n",
    "        self.actual_screen -= 1\n",
    "        if self.actual_screen > 1:\n",
    "            self.message.value = \"<center>\"+ tuto['screen'+str(self.actual_screen)] +\"</center>\"\n",
    "            w_list = [self.screen_title, \n",
    "                      self.message, \n",
    "                      [self.back_but, self.next_but]]\n",
    "            w_box = cmd.center_widget(w_list)\n",
    "            with stdout:\n",
    "                display(w_box)\n",
    "            display(stdout)\n",
    "        else:\n",
    "            self.actual_screen = 1\n",
    "            self.message.value =  \"<center>\"+ tuto['screen'+str(self.actual_screen)] +\"</center>\"\n",
    "            w_list = [\n",
    "                self.screen_title,\n",
    "                self.message, \n",
    "                self.next_but\n",
    "            ]\n",
    "            w_box = cmd.center_widget(w_list)\n",
    "            with stdout:\n",
    "                display(w_box)\n",
    "            display(stdout)\n",
    "\n",
    "            \n",
    "            \n",
    "            \n",
    "            \n",
    "class inscr_screen():\n",
    "    def __init__(self):\n",
    "        # Misc config\n",
    "        promo_list = [i for i in range(inscr_form_opt[\"promo_list_bounds\"][0], inscr_form_opt[\"promo_list_bounds\"][1] +1)]\n",
    "        self.df_ville_fr = cmd.read_communes(root)\n",
    "        self.pays = cmd.read_liste_pays_monde(root)\n",
    "        now = datetime.datetime.now()\n",
    "        self.date = datetime.datetime.timestamp(now)\n",
    "        \n",
    "        \n",
    "        # Main widgets\n",
    "        self.spacing = w.HTML(\"<center style='padding-top: 20px'> </center>\")\n",
    "        self.screen_title = w.HTML(\"<center\"+sc_title+\">Inscription</center>\")\n",
    "        self.lab_name = w.HTML(value=\"<center style='padding-right: 20px'>Nom Prénom *</center>\")           # mandaotry\n",
    "        self.entry_name = w.Text(layout=w.Layout(width='200px'))\n",
    "        self.lab_fbname = w.HTML(value=\"<center style='padding-right: 5px'>Pseudo Facebook</center>\")\n",
    "        self.entry_fbname = w.Text(layout=w.Layout(width='200px'))\n",
    "        self.lab_promo = w.HTML(value=\"<center style='padding-right: 58px'>Promo *</center>\")               # Mandatory\n",
    "        self.entry_promo = w.Dropdown(options=promo_list, \n",
    "                                      value=promo_list[0],\n",
    "                                     layout=w.Layout(width='200px'))   # mandatory\n",
    "        self.lab_ecole = w.HTML(value=\"<center style='padding-right: 66px'>Ecole *</center>\")\n",
    "        self.entry_ecole = w.Dropdown(options=inscr_form_opt[\"polytech_list\"],\n",
    "                                     layout=w.Layout(width='200px')) #mandatory\n",
    "        self.lab_ville = w.HTML(value=\"<center style='padding-right: 72px'>Ville *</center>\") \n",
    "        self.entry_ville = w.Combobox(placeholder='Entrez une ville',\n",
    "                                      options=self.df_ville_fr['nom_commune'].values.tolist(),\n",
    "                                      ensure_option=False,\n",
    "                                     layout=w.Layout(width='200px')) # mandatory\n",
    "        self.lab_code_post = w.HTML(value=\"<center style='padding-right: 29px'>Code postal *</center>\")\n",
    "        self.entry_code_post = w.Text(layout=w.Layout(width='200px')) # mandatory\n",
    "        self.lab_pays = w.HTML(value=\"<center style='padding-right: 72px'>Pays *</center>\")\n",
    "        self.entry_pays = w.Combobox(placeholder='Entrez un pays',\n",
    "                                      options=self.pays['PAYS'].values.tolist(),\n",
    "                                      ensure_option=False,\n",
    "                                    layout=w.Layout(width='200px')) # mandatory\n",
    "        self.deso_que_fr = w.Label(value=\"Nous n'avons pas encore intégré toutes les villes de tous les pays\")\n",
    "        \n",
    "        #Buttons\n",
    "        self.submit_but = w.Button(description=\"Soumettre\")\n",
    "        self.submit_but.on_click(self.callback_update) \n",
    "        #self.add_city_but = w.Button(description=\"Proposer une ville\")\n",
    "    \n",
    "    def init_mess(self):\n",
    "        self.mess_name = w.Label(value=\"<center\"+err_mess+\">Champ 'Nom Prénom' invalide</center>\")\n",
    "        self.mess_ville = w.Label(value=\"<center\"+err_mess+\">Champ 'Ville' invalide</center>\")\n",
    "        self.mess_cp = w.Label(value=\"<center\"+err_mess+\">Champ 'Code Postal' invalide</center>\")\n",
    "        self.mess_pays = w.Label(value=\"<center\"+err_mess+\">Champ 'Pays' invalide</center>\")\n",
    "        \n",
    "        \n",
    "    def show(self):\n",
    "        self.__init__()\n",
    "        self.init_mess()\n",
    "        \n",
    "        w_list = [\n",
    "            self.screen_title,\n",
    "            [self.lab_name, self.entry_name], \n",
    "            self.spacing,\n",
    "            [self.lab_fbname,self.entry_fbname],\n",
    "            self.spacing,\n",
    "            [self.lab_promo,self.entry_promo],\n",
    "            self.spacing,\n",
    "            [self.lab_ecole,self.entry_ecole],\n",
    "            self.spacing,\n",
    "            [self.lab_ville,self.entry_ville],\n",
    "            self.spacing,\n",
    "            [self.lab_code_post, self.entry_code_post],\n",
    "            self.spacing,\n",
    "            [self.lab_pays, self.entry_pays],\n",
    "            self.deso_que_fr,\n",
    "            self.spacing,\n",
    "            self.spacing,\n",
    "            self.submit_but]\n",
    "        \n",
    "        w_box = cmd.center_widget(w_list)\n",
    "        \n",
    "        with stdout:\n",
    "            display(w_box)\n",
    "        display(stdout)   \n",
    "        \n",
    "    def hide(self):\n",
    "        self.lab_name.close() \n",
    "        self.entry_name.close()\n",
    "        self.lab_fbname.close()\n",
    "        self.entry_fbname.close() \n",
    "        self.lab_promo.close()\n",
    "        self.entry_promo.close()\n",
    "        self.lab_ecole.close()\n",
    "        self.entry_ecole.close()\n",
    "        self.lab_ville.close()\n",
    "        self.entry_ville.close()\n",
    "        self.submit_but.close()\n",
    "        self.screen_title.close()\n",
    "        self.lab_code_post.close()\n",
    "        self.entry_code_post.close()\n",
    "        self.lab_pays.close()\n",
    "        self.entry_pays.close()\n",
    "        self.deso_que_fr.close()\n",
    "        self.spacing.close()\n",
    "        #self.hide_mess()\n",
    "    \n",
    "    def show_mess(self, mess):\n",
    "        if mess == 'entry_name':\n",
    "            with stdout:\n",
    "                self.hide_mess()\n",
    "                display(self.mess_name)\n",
    "            display(stdout)\n",
    "        if mess == 'ville':\n",
    "            with stdout:\n",
    "                self.hide_mess()\n",
    "                display(self.mess_ville)\n",
    "            display(stdout)\n",
    "        if mess == \"entry_code_post\":\n",
    "            with stdout:\n",
    "                self.hide_mess()\n",
    "                display(self.mess_cp)\n",
    "            display(stdout)\n",
    "        if mess == \"entry_pays\":\n",
    "            with stdout:\n",
    "                self.hide_mess()\n",
    "                display(self.mess_pays)\n",
    "            display(stdout)\n",
    "    \n",
    "    def hide_mess(self):\n",
    "        self.mess_name.close()\n",
    "        self.mess_ville.close()\n",
    "        self.mess_cp.close()\n",
    "        self.mess_pays.close()\n",
    "        self.init_mess()\n",
    "   \n",
    "    def callback_update(self, b):\n",
    "        \n",
    "        # CHECK ALL MANDATORY FIELDS ARE FILLED\n",
    "        flag = True\n",
    "        if cmd.is_empty(self.entry_name.value):\n",
    "            self.show_mess('entry_name')\n",
    "            flag = False\n",
    "            \n",
    "        if cmd.is_empty(self.entry_ville.value):\n",
    "            self.show_mess('ville')\n",
    "            flag = False\n",
    "        \n",
    "        if cmd.is_empty(self.entry_code_post.value):\n",
    "            self.show_mess('entry_code_post')\n",
    "            flag = False\n",
    "        \n",
    "        if cmd.is_empty(self.entry_pays.value):\n",
    "            self.show_mess('entry_pays')\n",
    "            flag = False\n",
    "        \n",
    "        if flag == False:\n",
    "            return\n",
    "            \n",
    "        ##### TODO: A revoir ##############################\n",
    "        # find CITY latlong\n",
    "        if self.entry_pays.value.lower().replace(\" \",\"\") == 'france':\n",
    "            lat, long, ret = cmd.find_latlong(self.df_ville_fr, self.entry_code_post.value)\n",
    "        elif self.entry_pays.value.lower().replace(\" \",\"\") == 'belgique':\n",
    "            print()\n",
    "        else:\n",
    "            self.show_mess('ville_not_found')\n",
    "            # Que faire\n",
    "        ####################################################\n",
    "        \n",
    "        # Write in BDD\n",
    "        bdd = cmd.refresh(root)\n",
    "        update_dic = {\"USER_ID\"  : str(self.entry_name.value),\n",
    "                      'PSEUDO_FB': str(self.entry_fbname.value),\n",
    "                      \"PROMO\"    : str(self.entry_promo.value),\n",
    "                      \"ECOLE\"    : str(self.entry_ecole.value),\n",
    "                      \"VILLE\"    : str(self.entry_ville.value),\n",
    "                      \"INSCRIPTION\": int(self.date),\n",
    "                      \"LAT\"      : lat,\n",
    "                      'LONG'     : long,\n",
    "                      'IS_BANNED': 'non'}\n",
    "            \n",
    "        bdd, error = cmd.update_user(bdd, update_dic, glob_usr_mail)\n",
    "        cmd.refresh(root, bdd)\n",
    "        \n",
    "        if error == 0:\n",
    "            update_dic = {\"USER_MAIL\" : glob_usr_mail,\n",
    "                          \"USER_ID\" : str(self.entry_name.value),\n",
    "                          \"CONTENT_ID\" : \"inscription\",\n",
    "                          \"CONTENT\" : \"\"}\n",
    "            error = cmd.add_log(root, update_dic, glob_usr_mail)\n",
    "            if error == 0:\n",
    "                \n",
    "                #### ACCESS TO MAIN SCREEN ####\n",
    "                self.hide()\n",
    "                main_sc.show()\n",
    "                ###############################\n",
    "                \n",
    "        else:\n",
    "            return\n",
    "        \n",
    "        \n",
    "        \n",
    "        \n",
    "       \n",
    "\n",
    "\n",
    " "
   ]
  },
  {
   "cell_type": "code",
   "execution_count": 15,
   "metadata": {
    "extensions": {
     "jupyter_dashboards": {
      "version": 1,
      "views": {
       "default_view": {
        "hidden": true
       }
      }
     }
    }
   },
   "outputs": [],
   "source": [
    "class main_screen:\n",
    "    def __init__(self):\n",
    "        bdd = cmd.refresh(root)\n",
    "        \n",
    "        #Main widgets\n",
    "        self.map = folium.Map(location=[45, 1.9], zoom_start=2)\n",
    "        self.map_disp = folium.Figure(width=1130, height=500)\n",
    "        self.coord_table = w.HTML(\" \")\n",
    "        self.logs_table = w.HTML(\" \")\n",
    "        self.search_bar = w.Combobox(placeholder='Recherche',\n",
    "                                      options=bdd['USER_ID'].values.tolist(),\n",
    "                                      ensure_option=True,\n",
    "                                      layout={'width':'100%'}) # mandatory\n",
    "        self.search_but = w.Button(description=emoji.emojize(':magnifying_glass_tilted_left:') + \"  Rechercher\",\n",
    "                                  layout={'padding':\"0px 0px 0px 0px\",\n",
    "                                         'float':'right'})# top, right, bottom, left\n",
    "        \n",
    "        self.disconnect_but = w.Button(description=emoji.emojize(':red_circle:') + \" Se Déconnecter\",\n",
    "                                       layout={'width':'auto'})\n",
    "        self.setting_but = w.Button(description=emoji.emojize(':gear:') + \" Paramètres Compte\",\n",
    "                                    layout={'width':'auto'})\n",
    "        \n",
    "        # Labels and other\n",
    "        self.lab_coord_table = w.HTML(\"<h2>Coordonnées</h2>\")\n",
    "        self.screen_title = w.HTML(\"<center\"+sc_title+\">Les Polypotes</center>\", layout={'grid_area':'sc_title'})\n",
    "        \n",
    "        #Images\n",
    "        self.solo_pote = w.HTML(\"<center><img src='solo_pote.png' width=100 height=100 align='center'/></center>\")\n",
    "        \n",
    "        # Callbacks\n",
    "        self.search_but.on_click(self.callback_find)\n",
    "        self.disconnect_but.on_click(self.callback_disconnect)\n",
    "        self.setting_but.on_click(self.callback_setting)\n",
    "        \n",
    "        \n",
    "    def init_dynamic(self):\n",
    "        print()\n",
    "    \n",
    "    def show(self):\n",
    "        self.__init__()\n",
    "        self.init_dynamic()\n",
    "        \n",
    "        self.fill_map()\n",
    "        self.fill_coord_table()\n",
    "        #self.fill_logs_table()\n",
    "        \n",
    "        \n",
    "        # Define outputs\n",
    "        self.coord_table_out = w.Output(layout={'width': 'auto', 'grid_area':'table'})\n",
    "        self.map_out = w.Output(layout={'width': 'auto', 'grid_area':'map'})\n",
    "        self.coord_table_out.append_display_data(self.coord_table)\n",
    "        self.map_out.append_display_data(self.map_disp)\n",
    "        \n",
    "        # Organize widgets\n",
    "        self.search_disp = w.HBox(children=[self.search_bar, \n",
    "                                            self.search_but], \n",
    "                                  layout={'width':'1135px',\n",
    "                                          'grid_area':'search'})\n",
    "        self.left_sider = w.VBox(children=[self.solo_pote,\n",
    "                                      self.screen_title,\n",
    "                                      #self.setting_but,\n",
    "                                      self.disconnect_but],\n",
    "                            layout={'width':'auto',\n",
    "                                    'grid_area' : 'left',\n",
    "                                    'padding' : \"0px 30px 0px 0px\"}) # top, right, bottom, left\n",
    "        \n",
    "        self.grid_out = w.GridBox(children=[self.coord_table_out,\n",
    "                                            self.map_out,\n",
    "                                            self.left_sider,\n",
    "                                            self.search_disp],\n",
    "                                  layout=w.Layout(grid_template_rows='auto auto auto auto',\n",
    "                                                  grid_template_columns='15% 35% 30% 20%',\n",
    "                                                  grid_template_areas='''\n",
    "                                                  \"left search search .\"\n",
    "                                                  \"left map   map .\"\n",
    "                                                  \"left map   map .\"\n",
    "                                                  \". table table .\"\n",
    "                                                  ''')\n",
    "                                 )\n",
    "        \n",
    "        \n",
    "        with stdout:\n",
    "            display(self.grid_out)\n",
    "        display(stdout)\n",
    "\n",
    "    def hide(self):\n",
    "        self.grid_out.close()\n",
    "        self.left_sider.close()\n",
    "        self.map_out.clear_output()\n",
    "        self.coord_table_out.clear_output()\n",
    "        self.solo_pote.close()\n",
    "        self.screen_title.close()\n",
    "        self.lab_coord_table.close()\n",
    "        self.disconnect_but.close()\n",
    "        self.search_but.close()\n",
    "        self.search_bar.close()\n",
    "        self.logs_table.close()\n",
    "    \n",
    "    def callback_disconnect(self, b):\n",
    "        glob_usr_mail = \"\"\n",
    "        self.hide()\n",
    "        auth_sc.show()\n",
    "    \n",
    "    def callback_find(self, b):\n",
    "        bdd = cmd.refresh(root)\n",
    "        keyword = str(self.search_bar.value)\n",
    "        ind = bdd[bdd['USER_ID']==keyword].index.values\n",
    "        \n",
    "        \n",
    "    \n",
    "    def callback_setting(self, b):\n",
    "        self.hide()\n",
    "        param_sc.show()\n",
    "        \n",
    "        \n",
    "    \n",
    "    def fill_map(self, filtred=False):\n",
    "        bdd = cmd.refresh(root)\n",
    "        self.map = cmd.create_map(bdd, self.map)\n",
    "        self.map.add_to(self.map_disp)\n",
    "                \n",
    "    def fill_coord_table(self, filtred=False):\n",
    "        bdd = cmd.refresh(root)\n",
    "        self.coord_table = cmd.create_coord_table(bdd)\n",
    "\n",
    "    def fill_logs_table(self):\n",
    "        logs = cmd.read_logs(root)\n",
    "        logs_disp = logs\n",
    "        self.logs_table = w.HTML(tabulate.tabulate(logs_disp, headers=logs_disp.columns, tablefmt=\"html\"))\n",
    "        \n",
    "        \n",
    "\n",
    "class param_screen():\n",
    "    def __init__(self):\n",
    "        \n",
    "        # Main widgets\n",
    "        self.screen_title = w.HTML(\"<center\"+sc_title+\">Paramètres du compte</center>\")\n",
    "        \n",
    "        self.lab_visible = w.HTML(\"Visibilité\", \n",
    "                                 layout={'padding': \"0px 50px 0px 0px\"})# top, right, bottom, left\n",
    "        self.visible_but = w.ToggleButtons(options=[' Visible ', ' Caché '],\n",
    "                                           tooltips=['Etre caché permet aux autres utilisateurs de ne pas voir vos informations'],\n",
    "                                           icons=['check', 'close'])\n",
    "        self.lab_del_account = w.HTML(\"Supprimer le compte\",\n",
    "                                     layout={'padding': \"0px 50px 0px 0px\"})\n",
    "        self.del_account_but = w.Button(description=\"Supprimer\",\n",
    "                                        button_style='danger')\n",
    "        \n",
    "        self.return_but = w.Button(description=\"Enregistrer et quitter\",\n",
    "                                   button_style=\"success\")\n",
    "        \n",
    "        \n",
    "        \n",
    "        #Callbacks\n",
    "        self.visible_but.observe(self.callback_visible, 'Caché')\n",
    "        self.del_account_but.on_click(self.callback_del_account)\n",
    "        self.return_but.on_click(self.callback_return)\n",
    "        \n",
    "        #Images\n",
    "        self.solo_pote = w.HTML(\"<center><img src='solo_pote.png' width=150 height=150 align='center'/></center>\")\n",
    "        \n",
    "    def show(self):\n",
    "        w_list = [self.solo_pote,\n",
    "                  self.screen_title,\n",
    "                 [self.lab_visible, self.visible_but],\n",
    "                 [self.lab_del_account, self.del_account_but],\n",
    "                 self.return_but]\n",
    "        w_box = cmd.center_widget(w_list)\n",
    "        \n",
    "        with stdout:\n",
    "            display(w_box)\n",
    "        display(stdout)\n",
    "    \n",
    "    def hide(self):\n",
    "        self.screen_title.close()\n",
    "        self.lab_visible.close()\n",
    "        self.visible_but.close()\n",
    "        self.lab_del_account.close()\n",
    "        self.del_account_but.close()\n",
    "        self.return_but.close()\n",
    "        self.solo_pote.close()\n",
    "        \n",
    "        self.__init__()\n",
    "        \n",
    "    def callback_visible(self, b):\n",
    "        \n",
    "        print()\n",
    "    \n",
    "    def callback_del_account(self, b):\n",
    "        \n",
    "        print()\n",
    "    \n",
    "    def callback_return(self, b):\n",
    "        self.hide()\n",
    "        main_sc.show()\n",
    "        \n",
    "\n",
    "class del_account():\n",
    "    def __init__(self):\n",
    "        self.screen_title = w.HTML(\"<center\"+sc_title+\">Supprimer le compte ?</center>\")\n",
    "        self.solo_pote = w.HTML(\"<center><img src='solo_pote.png' width=150 height=150 align='center'/></center>\")\n",
    "        self.del_but = w.Button(description=\"Supprimer\")\n",
    "        self.cancel = w.Button(description=\"Annuler\")\n",
    "        \n",
    "        self.del_but.onclick(self.callback_delete)\n",
    "        self.cancel.on_click(self.callback_cancel)\n",
    "        \n",
    "    def show(self):\n",
    "        w_list = [self.solo_pote,\n",
    "                 self.Screen_title,\n",
    "                 [self.cancel, self.del_but]]\n",
    "        w_box = cmd.center_widget(w_list)\n",
    "        \n",
    "        with stdout:\n",
    "            display(w_box)\n",
    "        display(stdout)\n",
    "    \n",
    "    def hide(self):\n",
    "        self.screen_title.close()\n",
    "        self.solo_pote.close()\n",
    "        self.del_but.close()\n",
    "        self.cancel.close()\n",
    "    \n",
    "    def callback_cancel(self, b):\n",
    "        self.hide()\n",
    "        param_sc.show()\n",
    "    \n",
    "    def callback_delete(self, b):\n",
    "        bdd = cmd.refresh(root)\n",
    "        bdd = bdd.drop(index=[glob_usr_mail])\n",
    "        cmd.refresh(root, bdd)\n",
    "        \n",
    "        glob_usr_mail\n",
    "        self.hide()\n",
    "        auth_sc.show()\n",
    "        "
   ]
  },
  {
   "cell_type": "code",
   "execution_count": 16,
   "metadata": {
    "extensions": {
     "jupyter_dashboards": {
      "version": 1,
      "views": {
       "default_view": {
        "col": 0,
        "height": 20,
        "row": 0,
        "width": 12
       }
      }
     }
    },
    "scrolled": true
   },
   "outputs": [
    {
     "name": "stdout",
     "output_type": "stream",
     "text": [
      "\n"
     ]
    },
    {
     "data": {
      "application/vnd.jupyter.widget-view+json": {
       "model_id": "82f12c15cabc441cbb8e18bbdead3bee",
       "version_major": 2,
       "version_minor": 0
      },
      "text/plain": [
       "Output(outputs=({'output_type': 'display_data', 'data': {'text/plain': \"GridBox(children=(Output(layout=Layout…"
      ]
     },
     "metadata": {},
     "output_type": "display_data"
    }
   ],
   "source": [
    "auth_sc = auth_screen()\n",
    "reset_sc = reset_pw_screen()\n",
    "create_sc = create_account_screen()\n",
    "\n",
    "sign_sc = signin_screen() #questions\n",
    "tutoriel_sc = tuto_screen()\n",
    "inscr_sc = inscr_screen()\n",
    "\n",
    "main_sc = main_screen()\n",
    "param_sc = param_screen()\n",
    "\n",
    "#inscr_sc.show()\n",
    "main_sc.show()\n",
    "\n",
    "#os.system(\"voila --debug\")\n",
    "\n",
    "#auth_sc.show()\n"
   ]
  },
  {
   "cell_type": "markdown",
   "metadata": {
    "extensions": {
     "jupyter_dashboards": {
      "version": 1,
      "views": {
       "default_view": {
        "col": 0,
        "height": 2,
        "row": 20,
        "width": 1
       }
      }
     }
    }
   },
   "source": [
    "## "
   ]
  },
  {
   "cell_type": "code",
   "execution_count": null,
   "metadata": {
    "extensions": {
     "jupyter_dashboards": {
      "version": 1,
      "views": {
       "default_view": {
        "hidden": true
       }
      }
     }
    }
   },
   "outputs": [],
   "source": []
  }
 ],
 "metadata": {
  "extensions": {
   "jupyter_dashboards": {
    "activeView": "default_view",
    "version": 1,
    "views": {
     "default_view": {
      "cellMargin": 10,
      "defaultCellHeight": 40,
      "maxColumns": 12,
      "name": "active_view",
      "type": "grid"
     }
    }
   }
  },
  "kernelspec": {
   "display_name": "Python 3",
   "language": "python",
   "name": "python3"
  },
  "language_info": {
   "codemirror_mode": {
    "name": "ipython",
    "version": 3
   },
   "file_extension": ".py",
   "mimetype": "text/x-python",
   "name": "python",
   "nbconvert_exporter": "python",
   "pygments_lexer": "ipython3",
   "version": "3.8.5"
  },
  "voila": {
   "theme": "dark"
  },
  "widgets": {
   "application/vnd.jupyter.widget-state+json": {
    "state": {
     "002876a3d8014fe1be231b41916b4283": {
      "model_module": "@jupyter-widgets/controls",
      "model_module_version": "1.5.0",
      "model_name": "DescriptionStyleModel",
      "state": {
       "description_width": ""
      }
     },
     "00414ce90dc14582a424fdd9e41dcc3a": {
      "model_module": "@jupyter-widgets/base",
      "model_module_version": "1.2.0",
      "model_name": "LayoutModel",
      "state": {}
     },
     "00b3f0ee4ab74968af5cdaadf2780dbe": {
      "model_module": "@jupyter-widgets/controls",
      "model_module_version": "1.5.0",
      "model_name": "LabelModel",
      "state": {
       "layout": "IPY_MODEL_8e2a751a6bff4de5bfc875fec9243775",
       "style": "IPY_MODEL_be45055b208f4e8aa619beb215bca2bf",
       "value": "Nous vous avons envoyé un Email de réinitialisation à @ail.com"
      }
     },
     "00bea233c5b3433b91c365965abef0f7": {
      "model_module": "@jupyter-widgets/controls",
      "model_module_version": "1.5.0",
      "model_name": "DescriptionStyleModel",
      "state": {
       "description_width": ""
      }
     },
     "00f309a8ef844ed993e66e9f4f446509": {
      "model_module": "@jupyter-widgets/base",
      "model_module_version": "1.2.0",
      "model_name": "LayoutModel",
      "state": {}
     },
     "010bdb775fc34e36aa08ae2632aef08e": {
      "model_module": "@jupyter-widgets/controls",
      "model_module_version": "1.5.0",
      "model_name": "DescriptionStyleModel",
      "state": {
       "description_width": ""
      }
     },
     "011ef67433e541af98bc11cf15d3cf0e": {
      "model_module": "@jupyter-widgets/controls",
      "model_module_version": "1.5.0",
      "model_name": "DescriptionStyleModel",
      "state": {
       "description_width": ""
      }
     },
     "0153d011efda4f298e5ef8bec25f0249": {
      "model_module": "@jupyter-widgets/base",
      "model_module_version": "1.2.0",
      "model_name": "LayoutModel",
      "state": {}
     },
     "016b1e79eff147e7b8e28a61a0c53151": {
      "model_module": "@jupyter-widgets/controls",
      "model_module_version": "1.5.0",
      "model_name": "DescriptionStyleModel",
      "state": {
       "description_width": ""
      }
     },
     "021e363d5fed4fdab48337617b02c13b": {
      "model_module": "@jupyter-widgets/controls",
      "model_module_version": "1.5.0",
      "model_name": "DescriptionStyleModel",
      "state": {
       "description_width": ""
      }
     },
     "02a62df58ad649d7beb89a09ba3a601d": {
      "model_module": "@jupyter-widgets/base",
      "model_module_version": "1.2.0",
      "model_name": "LayoutModel",
      "state": {}
     },
     "03b0b4de1f3d4c1ea1647e89ea4ccd52": {
      "model_module": "@jupyter-widgets/base",
      "model_module_version": "1.2.0",
      "model_name": "LayoutModel",
      "state": {}
     },
     "042c18c58a394e95879ac7c04a4dc7df": {
      "model_module": "@jupyter-widgets/controls",
      "model_module_version": "1.5.0",
      "model_name": "DescriptionStyleModel",
      "state": {
       "description_width": ""
      }
     },
     "04333c2111cf45d580fc183aec19cf20": {
      "model_module": "@jupyter-widgets/base",
      "model_module_version": "1.2.0",
      "model_name": "LayoutModel",
      "state": {}
     },
     "0447f50e36794ba9935fd65c71654319": {
      "model_module": "@jupyter-widgets/base",
      "model_module_version": "1.2.0",
      "model_name": "LayoutModel",
      "state": {}
     },
     "047e9206346f424f8d14d0f0b2c8668a": {
      "model_module": "@jupyter-widgets/controls",
      "model_module_version": "1.5.0",
      "model_name": "DescriptionStyleModel",
      "state": {
       "description_width": ""
      }
     },
     "04e4453aa29040b3b90ce4a435cdb579": {
      "model_module": "@jupyter-widgets/controls",
      "model_module_version": "1.5.0",
      "model_name": "DescriptionStyleModel",
      "state": {
       "description_width": ""
      }
     },
     "0529e5520d52408fb19caa1831373d93": {
      "model_module": "@jupyter-widgets/controls",
      "model_module_version": "1.5.0",
      "model_name": "DescriptionStyleModel",
      "state": {
       "description_width": ""
      }
     },
     "053d8311783d48d6bff4e93979fcbbab": {
      "model_module": "@jupyter-widgets/base",
      "model_module_version": "1.2.0",
      "model_name": "LayoutModel",
      "state": {}
     },
     "05da16a4d98f4fad927172cfc1c6bb90": {
      "model_module": "@jupyter-widgets/controls",
      "model_module_version": "1.5.0",
      "model_name": "DescriptionStyleModel",
      "state": {
       "description_width": ""
      }
     },
     "063999f62f8a4e8a907be991588858f6": {
      "model_module": "@jupyter-widgets/controls",
      "model_module_version": "1.5.0",
      "model_name": "ButtonModel",
      "state": {
       "description": "Se connecter",
       "layout": "IPY_MODEL_19fb83b896b44382be7c548cac256284",
       "style": "IPY_MODEL_af0fe36da2a74d59912922ad077e8546"
      }
     },
     "0681e173b12c40eba20fcedecc48df52": {
      "model_module": "@jupyter-widgets/controls",
      "model_module_version": "1.5.0",
      "model_name": "DescriptionStyleModel",
      "state": {
       "description_width": ""
      }
     },
     "071bc014f4df462c92118e8dd4fefb10": {
      "model_module": "@jupyter-widgets/controls",
      "model_module_version": "1.5.0",
      "model_name": "DescriptionStyleModel",
      "state": {
       "description_width": ""
      }
     },
     "071e2ee0061d482d95d48a861334677a": {
      "model_module": "@jupyter-widgets/controls",
      "model_module_version": "1.5.0",
      "model_name": "LabelModel",
      "state": {
       "layout": "IPY_MODEL_978e352bb87e43d2b1bfd133f2638815",
       "style": "IPY_MODEL_79ef4dde3c44429c8d17b44787280c9e",
       "value": "Veuillez entrer une adresse Gmail valide (...@gmail.com)"
      }
     },
     "07394ec289074205895331055a3fe2ac": {
      "model_module": "@jupyter-widgets/base",
      "model_module_version": "1.2.0",
      "model_name": "LayoutModel",
      "state": {}
     },
     "074e8c22d25543719b4e898af13e6222": {
      "model_module": "@jupyter-widgets/controls",
      "model_module_version": "1.5.0",
      "model_name": "ButtonStyleModel",
      "state": {}
     },
     "07852c0bc16148df90e8da44471bae48": {
      "model_module": "@jupyter-widgets/controls",
      "model_module_version": "1.5.0",
      "model_name": "ButtonModel",
      "state": {
       "description": "Se connecter",
       "layout": "IPY_MODEL_3e429b1b25c54eaaa85a610a65b40142",
       "style": "IPY_MODEL_a11bc312bc994872a6a4de82cb19885b"
      }
     },
     "07922f074e58411dbe77f22569acc3e4": {
      "model_module": "@jupyter-widgets/controls",
      "model_module_version": "1.5.0",
      "model_name": "ButtonModel",
      "state": {
       "description": "Mot de passe oublié",
       "layout": "IPY_MODEL_38dad6d0a5b54cf1be5c4aec82edeab0",
       "style": "IPY_MODEL_1809b1f646ef404db37e690409f877b9"
      }
     },
     "07fb2c4b3a2e4e55a120de2494084e67": {
      "model_module": "@jupyter-widgets/controls",
      "model_module_version": "1.5.0",
      "model_name": "DescriptionStyleModel",
      "state": {
       "description_width": ""
      }
     },
     "080d73f5237249228957f6c06921b835": {
      "model_module": "@jupyter-widgets/controls",
      "model_module_version": "1.5.0",
      "model_name": "LabelModel",
      "state": {
       "layout": "IPY_MODEL_46f5015d922449eeb64a6b6f331df4e9",
       "style": "IPY_MODEL_b25df67b99eb4cf2a946bb653a9e4354",
       "value": "Votre adresse mail n'est pas reconnue"
      }
     },
     "086a144653f444c98a6c432d1fd19df4": {
      "model_module": "@jupyter-widgets/controls",
      "model_module_version": "1.5.0",
      "model_name": "DescriptionStyleModel",
      "state": {
       "description_width": ""
      }
     },
     "08899b1f48684818a4baa2343b436e61": {
      "model_module": "@jupyter-widgets/controls",
      "model_module_version": "1.5.0",
      "model_name": "LabelModel",
      "state": {
       "layout": "IPY_MODEL_3d23bcb5fef3412cbffe9a117a56f69a",
       "style": "IPY_MODEL_b651f278797a4ab68d9c7ac507bcf928",
       "value": "Nous vous avons envoyé un Email de réinitialisation à @gmail.com"
      }
     },
     "08cb39c71599469abc084862ea3d84d4": {
      "model_module": "@jupyter-widgets/controls",
      "model_module_version": "1.5.0",
      "model_name": "LabelModel",
      "state": {
       "layout": "IPY_MODEL_6b12ef388b224330962b7323ea3d86cd",
       "style": "IPY_MODEL_38b457a4b1c04edc8ac985bd583c9f49",
       "value": "Votre adresse mail n'est pas reconnue"
      }
     },
     "08dccd13314747afb3b147d8554e0f18": {
      "model_module": "@jupyter-widgets/controls",
      "model_module_version": "1.5.0",
      "model_name": "DescriptionStyleModel",
      "state": {
       "description_width": ""
      }
     },
     "08e960c9d7db4272afbb72a5a1c5cc21": {
      "model_module": "@jupyter-widgets/controls",
      "model_module_version": "1.5.0",
      "model_name": "LabelModel",
      "state": {
       "layout": "IPY_MODEL_0b915841db6d4bbe9880b276a8930e59",
       "style": "IPY_MODEL_7e6d3df7e7ba4153829848388c4b6518",
       "value": "Votre mot de passe est incorrect"
      }
     },
     "094974c0624a4982b65dc949ddd97b44": {
      "model_module": "@jupyter-widgets/base",
      "model_module_version": "1.2.0",
      "model_name": "LayoutModel",
      "state": {}
     },
     "096b2a1d6aee4f199ae420be11d5d4a5": {
      "model_module": "@jupyter-widgets/base",
      "model_module_version": "1.2.0",
      "model_name": "LayoutModel",
      "state": {}
     },
     "0999a6a1deac4c16be90611a8ae4b526": {
      "model_module": "@jupyter-widgets/base",
      "model_module_version": "1.2.0",
      "model_name": "LayoutModel",
      "state": {}
     },
     "099c4513ee5c478aa0349a86c739fb66": {
      "model_module": "@jupyter-widgets/base",
      "model_module_version": "1.2.0",
      "model_name": "LayoutModel",
      "state": {}
     },
     "09d0abe3d0e349f6a92dee096efa8108": {
      "model_module": "@jupyter-widgets/controls",
      "model_module_version": "1.5.0",
      "model_name": "ButtonModel",
      "state": {
       "description": "Mot de passe oublié",
       "layout": "IPY_MODEL_a4d33c690add4820bf22ad0d99e70bc3",
       "style": "IPY_MODEL_8975f98279eb48128530318304a8db2c"
      }
     },
     "09d0f2b089f24da69d20cc818603ab72": {
      "model_module": "@jupyter-widgets/controls",
      "model_module_version": "1.5.0",
      "model_name": "LabelModel",
      "state": {
       "layout": "IPY_MODEL_a77e49ae61234fdda20c3b6ba085f5a7",
       "style": "IPY_MODEL_15a3d4bb53d449afbc3e5d2ecc894b8a",
       "value": "Connection en cours ..."
      }
     },
     "09d405049196489b814e34bba76eeab8": {
      "model_module": "@jupyter-widgets/controls",
      "model_module_version": "1.5.0",
      "model_name": "TextModel",
      "state": {
       "description": "Adresse mail",
       "layout": "IPY_MODEL_a997bec7f0f748d9a87d59d098aafb37",
       "style": "IPY_MODEL_d2621c6fd104486abd6eed06e32781b5",
       "value": "alex.capelle97@gmail.com"
      }
     },
     "0a0ac86c0beb435ca761badcace51960": {
      "model_module": "@jupyter-widgets/controls",
      "model_module_version": "1.5.0",
      "model_name": "DescriptionStyleModel",
      "state": {
       "description_width": ""
      }
     },
     "0a107102c5ef42ac9bf56c0ae9f59191": {
      "model_module": "@jupyter-widgets/base",
      "model_module_version": "1.2.0",
      "model_name": "LayoutModel",
      "state": {}
     },
     "0a59be41cec54854823776502dd4d57e": {
      "model_module": "@jupyter-widgets/base",
      "model_module_version": "1.2.0",
      "model_name": "LayoutModel",
      "state": {}
     },
     "0a8cac90b95e41569226c3e982594b36": {
      "model_module": "@jupyter-widgets/controls",
      "model_module_version": "1.5.0",
      "model_name": "DescriptionStyleModel",
      "state": {
       "description_width": ""
      }
     },
     "0a982e31ec0b4cca9eadb6c59ce0e0ed": {
      "model_module": "@jupyter-widgets/controls",
      "model_module_version": "1.5.0",
      "model_name": "DescriptionStyleModel",
      "state": {
       "description_width": ""
      }
     },
     "0aa199dc5d264a4ca0d192e577a426e5": {
      "model_module": "@jupyter-widgets/base",
      "model_module_version": "1.2.0",
      "model_name": "LayoutModel",
      "state": {}
     },
     "0b02197ac794471f8134ce6f3be87bb9": {
      "model_module": "@jupyter-widgets/base",
      "model_module_version": "1.2.0",
      "model_name": "LayoutModel",
      "state": {}
     },
     "0b191966aa5a4bc7bba40f57560a4e0c": {
      "model_module": "@jupyter-widgets/controls",
      "model_module_version": "1.5.0",
      "model_name": "DescriptionStyleModel",
      "state": {
       "description_width": ""
      }
     },
     "0b65ff73062f4aebb88ed890b143df66": {
      "model_module": "@jupyter-widgets/controls",
      "model_module_version": "1.5.0",
      "model_name": "ButtonStyleModel",
      "state": {}
     },
     "0b915841db6d4bbe9880b276a8930e59": {
      "model_module": "@jupyter-widgets/base",
      "model_module_version": "1.2.0",
      "model_name": "LayoutModel",
      "state": {}
     },
     "0bc62204674940648d086a01c1dfa2d9": {
      "model_module": "@jupyter-widgets/base",
      "model_module_version": "1.2.0",
      "model_name": "LayoutModel",
      "state": {}
     },
     "0c0a6cf9fbfc4771a03c88b4e23d29bf": {
      "model_module": "@jupyter-widgets/base",
      "model_module_version": "1.2.0",
      "model_name": "LayoutModel",
      "state": {}
     },
     "0cd008f4e2bd4f9d8f5d8c46a549283e": {
      "model_module": "@jupyter-widgets/controls",
      "model_module_version": "1.5.0",
      "model_name": "LabelModel",
      "state": {
       "layout": "IPY_MODEL_fe8faed967414a23b0c99bd5d73eff1a",
       "style": "IPY_MODEL_2140f90dfeb8476ca0adae2465ebff1c",
       "value": "Veuillez entrer une adresse Gmail valide (...@gmail.com)"
      }
     },
     "0d6a253aa75c4c4f8aafefa2d378d671": {
      "model_module": "@jupyter-widgets/base",
      "model_module_version": "1.2.0",
      "model_name": "LayoutModel",
      "state": {}
     },
     "0d8d91acc22c43d5b6a814d2a4dead9d": {
      "model_module": "@jupyter-widgets/controls",
      "model_module_version": "1.5.0",
      "model_name": "ButtonModel",
      "state": {
       "description": "Se connecter",
       "layout": "IPY_MODEL_e696d81c4ab0479390f70de5705abea4",
       "style": "IPY_MODEL_acb52324e6df4bfaa955f3dd404b1962"
      }
     },
     "0db037760f3b44d9b55f766d31caff01": {
      "model_module": "@jupyter-widgets/base",
      "model_module_version": "1.2.0",
      "model_name": "LayoutModel",
      "state": {}
     },
     "0de9793ed0f743e9a3932df26fc2ca77": {
      "model_module": "@jupyter-widgets/controls",
      "model_module_version": "1.5.0",
      "model_name": "ButtonStyleModel",
      "state": {}
     },
     "0decaaa26304415c9a9dbb6216676e93": {
      "model_module": "@jupyter-widgets/controls",
      "model_module_version": "1.5.0",
      "model_name": "DescriptionStyleModel",
      "state": {
       "description_width": ""
      }
     },
     "0e0580714b6543e89b898bea334e61ec": {
      "model_module": "@jupyter-widgets/controls",
      "model_module_version": "1.5.0",
      "model_name": "DescriptionStyleModel",
      "state": {
       "description_width": ""
      }
     },
     "0e34746b610c489a8e63a2d6ab522d3e": {
      "model_module": "@jupyter-widgets/controls",
      "model_module_version": "1.5.0",
      "model_name": "DescriptionStyleModel",
      "state": {
       "description_width": ""
      }
     },
     "0e7aed24868c4390814c417689d08120": {
      "model_module": "@jupyter-widgets/base",
      "model_module_version": "1.2.0",
      "model_name": "LayoutModel",
      "state": {}
     },
     "0e94fc588a4343de91a9c693fe2d19f3": {
      "model_module": "@jupyter-widgets/controls",
      "model_module_version": "1.5.0",
      "model_name": "TextModel",
      "state": {
       "description": "Adresse mail",
       "layout": "IPY_MODEL_1a066ed326df4408929771e29b40c18f",
       "style": "IPY_MODEL_ef63e3333e2b4185a6f433b72511c80b",
       "value": "alex.capelle97@gmail.com"
      }
     },
     "0f07512edf054423a783266b013ea9bf": {
      "model_module": "@jupyter-widgets/base",
      "model_module_version": "1.2.0",
      "model_name": "LayoutModel",
      "state": {}
     },
     "0f092ae477d14a2a979087f5f59cc675": {
      "model_module": "@jupyter-widgets/controls",
      "model_module_version": "1.5.0",
      "model_name": "LabelModel",
      "state": {
       "layout": "IPY_MODEL_e3b78994463d4305a264a0b361834aca",
       "style": "IPY_MODEL_8a6fa486479c471fa8d36a3b997db8f3",
       "value": "Nous vous avons envoyé un Email de réinitialisation à @gmail.com"
      }
     },
     "0f3a9a1f6a904726a5fc4c9cd6397717": {
      "model_module": "@jupyter-widgets/base",
      "model_module_version": "1.2.0",
      "model_name": "LayoutModel",
      "state": {}
     },
     "0fa886cffd6c414fb70111978d975da5": {
      "model_module": "@jupyter-widgets/controls",
      "model_module_version": "1.5.0",
      "model_name": "ButtonModel",
      "state": {
       "description": "Mot de passe oublié",
       "layout": "IPY_MODEL_971e258b52834de7b25f6742ceb25500",
       "style": "IPY_MODEL_a45319f4418842a1847afa3c62a97e64"
      }
     },
     "1021d7f27c484c4690c4f6747514c5f4": {
      "model_module": "@jupyter-widgets/controls",
      "model_module_version": "1.5.0",
      "model_name": "ButtonStyleModel",
      "state": {}
     },
     "1022f8e2af0949fdb5c4cd3e0e722289": {
      "model_module": "@jupyter-widgets/base",
      "model_module_version": "1.2.0",
      "model_name": "LayoutModel",
      "state": {}
     },
     "103f19e1233945d097134fdc3eeb58dc": {
      "model_module": "@jupyter-widgets/controls",
      "model_module_version": "1.5.0",
      "model_name": "LabelModel",
      "state": {
       "layout": "IPY_MODEL_e358ecce596b465c90839dc53412476a",
       "style": "IPY_MODEL_3a6ef89d92874aabbf462601dcd41d7d",
       "value": "Connection en cours ..."
      }
     },
     "10ae0f52a9804258af103d66cfbc7ed1": {
      "model_module": "@jupyter-widgets/controls",
      "model_module_version": "1.5.0",
      "model_name": "TextModel",
      "state": {
       "description": "Adresse mail",
       "layout": "IPY_MODEL_3ce508e0fd294bb288eb845541a95b15",
       "style": "IPY_MODEL_a80084c8e70c48db99fd5b57f24e5179",
       "value": "@gmail.com"
      }
     },
     "10e7edfc5e0744a5a7dfb1c7e83beb26": {
      "model_module": "@jupyter-widgets/base",
      "model_module_version": "1.2.0",
      "model_name": "LayoutModel",
      "state": {}
     },
     "10fd9f2188a74eb2a6fb09bfccc12ce2": {
      "model_module": "@jupyter-widgets/controls",
      "model_module_version": "1.5.0",
      "model_name": "DescriptionStyleModel",
      "state": {
       "description_width": ""
      }
     },
     "112b9b8845fe43889eda60b7c7c68898": {
      "model_module": "@jupyter-widgets/controls",
      "model_module_version": "1.5.0",
      "model_name": "DescriptionStyleModel",
      "state": {
       "description_width": ""
      }
     },
     "115efa7b06004b8c9563cfa516c09ee3": {
      "model_module": "@jupyter-widgets/base",
      "model_module_version": "1.2.0",
      "model_name": "LayoutModel",
      "state": {}
     },
     "121b4b75a5d14ea4957e97e3f8b526c6": {
      "model_module": "@jupyter-widgets/controls",
      "model_module_version": "1.5.0",
      "model_name": "PasswordModel",
      "state": {
       "description": "Mot de passe",
       "layout": "IPY_MODEL_287fcde3cd6b4c8aa2e1439b2121513c",
       "style": "IPY_MODEL_d837a2cf723248e4b0af285123e7ed0c"
      }
     },
     "1244b12a750348279508ccb23573716d": {
      "model_module": "@jupyter-widgets/controls",
      "model_module_version": "1.5.0",
      "model_name": "LabelModel",
      "state": {
       "layout": "IPY_MODEL_2e5e0033409045ee82d68c16ee729d19",
       "style": "IPY_MODEL_13ec373c51894cad9458989f1cc90be2",
       "value": "Veuillez entrer une adresse Gmail valide (...@gmail.com)"
      }
     },
     "1247dde7ba5e4e1d970471976459b158": {
      "model_module": "@jupyter-widgets/controls",
      "model_module_version": "1.5.0",
      "model_name": "LabelModel",
      "state": {
       "layout": "IPY_MODEL_78edca48875b4190bacda6a84eae032e",
       "style": "IPY_MODEL_8290bcb7f6d0410c941dcc1badf05dd7",
       "value": "Veuillez entrer une adresse Gmail valide (...@gmail.com)"
      }
     },
     "1275c9459b734cfabd7e93056353ccd0": {
      "model_module": "@jupyter-widgets/controls",
      "model_module_version": "1.5.0",
      "model_name": "DescriptionStyleModel",
      "state": {
       "description_width": ""
      }
     },
     "12f768214ee540d6979c4e2af22b2ea1": {
      "model_module": "@jupyter-widgets/base",
      "model_module_version": "1.2.0",
      "model_name": "LayoutModel",
      "state": {}
     },
     "1387f0673447409d92d282c14ea527d6": {
      "model_module": "@jupyter-widgets/controls",
      "model_module_version": "1.5.0",
      "model_name": "DescriptionStyleModel",
      "state": {
       "description_width": ""
      }
     },
     "13ec373c51894cad9458989f1cc90be2": {
      "model_module": "@jupyter-widgets/controls",
      "model_module_version": "1.5.0",
      "model_name": "DescriptionStyleModel",
      "state": {
       "description_width": ""
      }
     },
     "1431785549454f0089dc5d47a2b95ba7": {
      "model_module": "@jupyter-widgets/controls",
      "model_module_version": "1.5.0",
      "model_name": "LabelModel",
      "state": {
       "layout": "IPY_MODEL_ea3cfd0cdb6844ba8dca8f00466926af",
       "style": "IPY_MODEL_d21cef8284214e9e9aed67d513643973",
       "value": "Votre mot de passe est incorrect"
      }
     },
     "146b438a413d4b49b4512fb202794454": {
      "model_module": "@jupyter-widgets/controls",
      "model_module_version": "1.5.0",
      "model_name": "DescriptionStyleModel",
      "state": {
       "description_width": ""
      }
     },
     "148af817b3994f10a56285720d879092": {
      "model_module": "@jupyter-widgets/controls",
      "model_module_version": "1.5.0",
      "model_name": "DescriptionStyleModel",
      "state": {
       "description_width": ""
      }
     },
     "148cda1c33c449599f404a077f121940": {
      "model_module": "@jupyter-widgets/controls",
      "model_module_version": "1.5.0",
      "model_name": "LabelModel",
      "state": {
       "layout": "IPY_MODEL_afa79e27b15d48739383bed25eea3878",
       "style": "IPY_MODEL_4c4b954fa45249da8e12348e4db7f39f",
       "value": "Connection en cours ..."
      }
     },
     "15077578c7a149228e0c40e40f3087be": {
      "model_module": "@jupyter-widgets/controls",
      "model_module_version": "1.5.0",
      "model_name": "PasswordModel",
      "state": {
       "description": "Mot de passe",
       "layout": "IPY_MODEL_4efe50c55d064bef82285b918b631430",
       "style": "IPY_MODEL_2dfedcd4eda94759915de8ea828666aa"
      }
     },
     "1540740faecd4acebf5edd77040a7725": {
      "model_module": "@jupyter-widgets/base",
      "model_module_version": "1.2.0",
      "model_name": "LayoutModel",
      "state": {}
     },
     "15a3d4bb53d449afbc3e5d2ecc894b8a": {
      "model_module": "@jupyter-widgets/controls",
      "model_module_version": "1.5.0",
      "model_name": "DescriptionStyleModel",
      "state": {
       "description_width": ""
      }
     },
     "1669460804644cf4a817e009e6138ea0": {
      "model_module": "@jupyter-widgets/controls",
      "model_module_version": "1.5.0",
      "model_name": "ButtonModel",
      "state": {
       "description": "Mot de passe oublié",
       "layout": "IPY_MODEL_7d4821bea0164594be0ef37a23cd8326",
       "style": "IPY_MODEL_6b43732d1f6e4fc1b608850a4f29df06"
      }
     },
     "16e4e0f5a3634075a797286671c92475": {
      "model_module": "@jupyter-widgets/controls",
      "model_module_version": "1.5.0",
      "model_name": "DescriptionStyleModel",
      "state": {
       "description_width": ""
      }
     },
     "1723ce4fa0674b6689e89a5963c842c8": {
      "model_module": "@jupyter-widgets/base",
      "model_module_version": "1.2.0",
      "model_name": "LayoutModel",
      "state": {}
     },
     "17dd4ff56ff64051a4f348ae5c298d7b": {
      "model_module": "@jupyter-widgets/base",
      "model_module_version": "1.2.0",
      "model_name": "LayoutModel",
      "state": {}
     },
     "1809b1f646ef404db37e690409f877b9": {
      "model_module": "@jupyter-widgets/controls",
      "model_module_version": "1.5.0",
      "model_name": "ButtonStyleModel",
      "state": {}
     },
     "1866fd2ad73c4f0e85986a1f7e7ad732": {
      "model_module": "@jupyter-widgets/controls",
      "model_module_version": "1.5.0",
      "model_name": "DescriptionStyleModel",
      "state": {
       "description_width": ""
      }
     },
     "18bb5243844d47ce977a17c5f423c4a1": {
      "model_module": "@jupyter-widgets/controls",
      "model_module_version": "1.5.0",
      "model_name": "DescriptionStyleModel",
      "state": {
       "description_width": ""
      }
     },
     "18e880c5b95d4e9d9013534793360610": {
      "model_module": "@jupyter-widgets/controls",
      "model_module_version": "1.5.0",
      "model_name": "LabelModel",
      "state": {
       "layout": "IPY_MODEL_f7eaeafc3c7442ac8c5d86b1ffd53a13",
       "style": "IPY_MODEL_b189e001c00a49b188c0523f6603c8b3",
       "value": "Connection en cours ..."
      }
     },
     "18f7d19045ca406d9c23a81294c037d2": {
      "model_module": "@jupyter-widgets/controls",
      "model_module_version": "1.5.0",
      "model_name": "DescriptionStyleModel",
      "state": {
       "description_width": ""
      }
     },
     "193552e50aaa424aa6626c60fa8dfdf7": {
      "model_module": "@jupyter-widgets/controls",
      "model_module_version": "1.5.0",
      "model_name": "ButtonModel",
      "state": {
       "description": "Mot de passe oublié",
       "layout": "IPY_MODEL_60ee6d8d399a432b816249c053f134f4",
       "style": "IPY_MODEL_709b8d9af4ab48ef96c564fd6895421a"
      }
     },
     "19fb83b896b44382be7c548cac256284": {
      "model_module": "@jupyter-widgets/base",
      "model_module_version": "1.2.0",
      "model_name": "LayoutModel",
      "state": {}
     },
     "1a066ed326df4408929771e29b40c18f": {
      "model_module": "@jupyter-widgets/base",
      "model_module_version": "1.2.0",
      "model_name": "LayoutModel",
      "state": {}
     },
     "1b3642d4dd9246539f8d65c64b89f149": {
      "model_module": "@jupyter-widgets/controls",
      "model_module_version": "1.5.0",
      "model_name": "DescriptionStyleModel",
      "state": {
       "description_width": ""
      }
     },
     "1ba31039013043099255865acb3ca986": {
      "model_module": "@jupyter-widgets/base",
      "model_module_version": "1.2.0",
      "model_name": "LayoutModel",
      "state": {}
     },
     "1ba85c7afab1433293b729c8515fdf9b": {
      "model_module": "@jupyter-widgets/controls",
      "model_module_version": "1.5.0",
      "model_name": "LabelModel",
      "state": {
       "layout": "IPY_MODEL_3e17aedf0bdc4d50a0472b39cec06035",
       "style": "IPY_MODEL_4039a13f3bad4ce7a05819beecee1266",
       "value": "Connection en cours ..."
      }
     },
     "1bea59322792482b8b8299afdf3f1178": {
      "model_module": "@jupyter-widgets/base",
      "model_module_version": "1.2.0",
      "model_name": "LayoutModel",
      "state": {}
     },
     "1c031ff9115940ecaa0781a550a288e8": {
      "model_module": "@jupyter-widgets/controls",
      "model_module_version": "1.5.0",
      "model_name": "LabelModel",
      "state": {
       "layout": "IPY_MODEL_0c0a6cf9fbfc4771a03c88b4e23d29bf",
       "style": "IPY_MODEL_775b54f49c4a4ec5b67c3917cadc842b",
       "value": "Nous vous avons envoyé un Email de réinitialisation à q@gmail.com"
      }
     },
     "1c51448ca1324d3d84652a13b9751ce5": {
      "model_module": "@jupyter-widgets/controls",
      "model_module_version": "1.5.0",
      "model_name": "ButtonModel",
      "state": {
       "description": "Mot de passe oublié",
       "layout": "IPY_MODEL_ff293c8fe8564145bf251bcb49781caf",
       "style": "IPY_MODEL_b75739bed85f415fa029547aa91c9135"
      }
     },
     "1c678195506a464a9863274f1df602b2": {
      "model_module": "@jupyter-widgets/base",
      "model_module_version": "1.2.0",
      "model_name": "LayoutModel",
      "state": {}
     },
     "1c6aea59545a460babccdc8ace7a1e5b": {
      "model_module": "@jupyter-widgets/controls",
      "model_module_version": "1.5.0",
      "model_name": "DescriptionStyleModel",
      "state": {
       "description_width": ""
      }
     },
     "1c8a4cddeca44ea0b6df605a3c2f07dd": {
      "model_module": "@jupyter-widgets/controls",
      "model_module_version": "1.5.0",
      "model_name": "PasswordModel",
      "state": {
       "description": "Mot de passe",
       "layout": "IPY_MODEL_60b3ee57b1fe46e9b5bd2af3d9d3797c",
       "style": "IPY_MODEL_5ddd64d9eb294e97a9b2be82dd81d447",
       "value": "a"
      }
     },
     "1c8cd882b6994350b6a528be9d3727e3": {
      "model_module": "@jupyter-widgets/base",
      "model_module_version": "1.2.0",
      "model_name": "LayoutModel",
      "state": {}
     },
     "1d7f82e95e744655993d70667e74be5b": {
      "model_module": "@jupyter-widgets/controls",
      "model_module_version": "1.5.0",
      "model_name": "PasswordModel",
      "state": {
       "description": "Mot de passe",
       "layout": "IPY_MODEL_966abfa93bd64af49ae7f4083ba44a03",
       "style": "IPY_MODEL_c221d09ce83c4fcebfa0a7cf43c96c4c"
      }
     },
     "1dc46144ccb940a498aa70f42cb89b6a": {
      "model_module": "@jupyter-widgets/base",
      "model_module_version": "1.2.0",
      "model_name": "LayoutModel",
      "state": {}
     },
     "1e471b00e71140f6b2017968e4b1657d": {
      "model_module": "@jupyter-widgets/controls",
      "model_module_version": "1.5.0",
      "model_name": "DescriptionStyleModel",
      "state": {
       "description_width": ""
      }
     },
     "1e7220a0605d42298ac128d04c299ed3": {
      "model_module": "@jupyter-widgets/controls",
      "model_module_version": "1.5.0",
      "model_name": "DescriptionStyleModel",
      "state": {
       "description_width": ""
      }
     },
     "1f30e45a73a54ac8a272c788648d24ef": {
      "model_module": "@jupyter-widgets/controls",
      "model_module_version": "1.5.0",
      "model_name": "DescriptionStyleModel",
      "state": {
       "description_width": ""
      }
     },
     "1faaf0895a98482281240ee42a814a31": {
      "model_module": "@jupyter-widgets/base",
      "model_module_version": "1.2.0",
      "model_name": "LayoutModel",
      "state": {}
     },
     "1fc57cbbb04345ad81c01d3aa6ba6faa": {
      "model_module": "@jupyter-widgets/controls",
      "model_module_version": "1.5.0",
      "model_name": "ButtonModel",
      "state": {
       "description": "Mot de passe oublié",
       "layout": "IPY_MODEL_30d5c72d4bb442baae4ebf8cf418304a",
       "style": "IPY_MODEL_0b65ff73062f4aebb88ed890b143df66"
      }
     },
     "20f62f0f6be746179589f22bc759d804": {
      "model_module": "@jupyter-widgets/base",
      "model_module_version": "1.2.0",
      "model_name": "LayoutModel",
      "state": {}
     },
     "2140f90dfeb8476ca0adae2465ebff1c": {
      "model_module": "@jupyter-widgets/controls",
      "model_module_version": "1.5.0",
      "model_name": "DescriptionStyleModel",
      "state": {
       "description_width": ""
      }
     },
     "21544e2915d84715af95ad8bff02e554": {
      "model_module": "@jupyter-widgets/base",
      "model_module_version": "1.2.0",
      "model_name": "LayoutModel",
      "state": {}
     },
     "21ea0d1c94f94a8b8a0bbeb478b6ea1d": {
      "model_module": "@jupyter-widgets/controls",
      "model_module_version": "1.5.0",
      "model_name": "PasswordModel",
      "state": {
       "description": "Mot de passe",
       "layout": "IPY_MODEL_d601f29953ac40b5b694ae2ec2260df6",
       "style": "IPY_MODEL_71144bafd0f74fe3929c8f5d950cb0ad"
      }
     },
     "2263fd1cbfb34ddd9faf6a21043c0ef3": {
      "model_module": "@jupyter-widgets/controls",
      "model_module_version": "1.5.0",
      "model_name": "DescriptionStyleModel",
      "state": {
       "description_width": ""
      }
     },
     "2289415991f7422eb9200c3af53a9cb7": {
      "model_module": "@jupyter-widgets/base",
      "model_module_version": "1.2.0",
      "model_name": "LayoutModel",
      "state": {}
     },
     "23ad5794673c48cd8548751a808a2b12": {
      "model_module": "@jupyter-widgets/base",
      "model_module_version": "1.2.0",
      "model_name": "LayoutModel",
      "state": {}
     },
     "23c972c413464866acc89fb428940287": {
      "model_module": "@jupyter-widgets/controls",
      "model_module_version": "1.5.0",
      "model_name": "DescriptionStyleModel",
      "state": {
       "description_width": ""
      }
     },
     "23e53e2d5ae64a33bf3c146eea26680f": {
      "model_module": "@jupyter-widgets/controls",
      "model_module_version": "1.5.0",
      "model_name": "DescriptionStyleModel",
      "state": {
       "description_width": ""
      }
     },
     "241df38dde7146fba6e30ff5028077fd": {
      "model_module": "@jupyter-widgets/base",
      "model_module_version": "1.2.0",
      "model_name": "LayoutModel",
      "state": {}
     },
     "241fe05ea0d640a1b6cc1168dd6bd036": {
      "model_module": "@jupyter-widgets/base",
      "model_module_version": "1.2.0",
      "model_name": "LayoutModel",
      "state": {}
     },
     "24392591b60e4644b20598c01d6f081c": {
      "model_module": "@jupyter-widgets/controls",
      "model_module_version": "1.5.0",
      "model_name": "ButtonModel",
      "state": {
       "description": "Mot de passe oublié",
       "layout": "IPY_MODEL_6284e5c2c565402fac5a7c0dd7ccb472",
       "style": "IPY_MODEL_287f134cb6d44dbe9cff5d8fab42b8ce"
      }
     },
     "249ead35d7f54dd89f6ae07e8e6051a2": {
      "model_module": "@jupyter-widgets/controls",
      "model_module_version": "1.5.0",
      "model_name": "LabelModel",
      "state": {
       "layout": "IPY_MODEL_df9dc0ee04214ac0bce64f8aef1e36b9",
       "style": "IPY_MODEL_1e471b00e71140f6b2017968e4b1657d",
       "value": "Votre adresse mail n'est pas reconnue"
      }
     },
     "25228f8be91b41ce96e69d0f6e7b10ce": {
      "model_module": "@jupyter-widgets/controls",
      "model_module_version": "1.5.0",
      "model_name": "ButtonStyleModel",
      "state": {}
     },
     "266a689bedac48c783c00dc2ca5d18f2": {
      "model_module": "@jupyter-widgets/controls",
      "model_module_version": "1.5.0",
      "model_name": "DescriptionStyleModel",
      "state": {
       "description_width": ""
      }
     },
     "268c8cbcf18c4c30bdb94c6f7703cf0d": {
      "model_module": "@jupyter-widgets/base",
      "model_module_version": "1.2.0",
      "model_name": "LayoutModel",
      "state": {}
     },
     "26b3a140d5674b72b51ec2758625e38f": {
      "model_module": "@jupyter-widgets/base",
      "model_module_version": "1.2.0",
      "model_name": "LayoutModel",
      "state": {}
     },
     "26e29b422567462a882b7a48dea3dff0": {
      "model_module": "@jupyter-widgets/controls",
      "model_module_version": "1.5.0",
      "model_name": "LabelModel",
      "state": {
       "layout": "IPY_MODEL_db2b5e0751e04ba994ed1fb79d5e05d0",
       "style": "IPY_MODEL_ce455861ad0944c894164369b8eaa408",
       "value": "Connection en cours ..."
      }
     },
     "2725c102419040f9ad431405a8b1d9e2": {
      "model_module": "@jupyter-widgets/controls",
      "model_module_version": "1.5.0",
      "model_name": "DescriptionStyleModel",
      "state": {
       "description_width": ""
      }
     },
     "2755673721e140d485a1178c7ae90263": {
      "model_module": "@jupyter-widgets/controls",
      "model_module_version": "1.5.0",
      "model_name": "DescriptionStyleModel",
      "state": {
       "description_width": ""
      }
     },
     "2757710ff259483f9540de51560aacf1": {
      "model_module": "@jupyter-widgets/controls",
      "model_module_version": "1.5.0",
      "model_name": "DescriptionStyleModel",
      "state": {
       "description_width": ""
      }
     },
     "27fff9b92e52493888e189ab2a36a9c5": {
      "model_module": "@jupyter-widgets/controls",
      "model_module_version": "1.5.0",
      "model_name": "DescriptionStyleModel",
      "state": {
       "description_width": ""
      }
     },
     "28307da21709471cba8f42181ce15817": {
      "model_module": "@jupyter-widgets/controls",
      "model_module_version": "1.5.0",
      "model_name": "ButtonStyleModel",
      "state": {}
     },
     "287f134cb6d44dbe9cff5d8fab42b8ce": {
      "model_module": "@jupyter-widgets/controls",
      "model_module_version": "1.5.0",
      "model_name": "ButtonStyleModel",
      "state": {}
     },
     "287fcde3cd6b4c8aa2e1439b2121513c": {
      "model_module": "@jupyter-widgets/base",
      "model_module_version": "1.2.0",
      "model_name": "LayoutModel",
      "state": {}
     },
     "28a37497a5e54ba584d5914196ad6484": {
      "model_module": "@jupyter-widgets/controls",
      "model_module_version": "1.5.0",
      "model_name": "PasswordModel",
      "state": {
       "description": "Mot de passe",
       "layout": "IPY_MODEL_c7d6c971cbe34f729835a884740da536",
       "style": "IPY_MODEL_673c1bd5164a4f80b411575fed59f44e"
      }
     },
     "2900ebbfd50644568692b4b85c20ed67": {
      "model_module": "@jupyter-widgets/base",
      "model_module_version": "1.2.0",
      "model_name": "LayoutModel",
      "state": {}
     },
     "290b010e0d524c4b82812e771e9f4b12": {
      "model_module": "@jupyter-widgets/controls",
      "model_module_version": "1.5.0",
      "model_name": "DescriptionStyleModel",
      "state": {
       "description_width": ""
      }
     },
     "294722ab747c432f82e241c861eab95d": {
      "model_module": "@jupyter-widgets/base",
      "model_module_version": "1.2.0",
      "model_name": "LayoutModel",
      "state": {}
     },
     "2949de8653cb48babb35664e42355cc0": {
      "model_module": "@jupyter-widgets/base",
      "model_module_version": "1.2.0",
      "model_name": "LayoutModel",
      "state": {}
     },
     "294a7f713f0d455d98dae36df93a4a7c": {
      "model_module": "@jupyter-widgets/base",
      "model_module_version": "1.2.0",
      "model_name": "LayoutModel",
      "state": {}
     },
     "296718f35dd74619a5e77deb91053565": {
      "model_module": "@jupyter-widgets/controls",
      "model_module_version": "1.5.0",
      "model_name": "ButtonStyleModel",
      "state": {}
     },
     "297e4c07bd3a4698ac3b64ef93ad28e9": {
      "model_module": "@jupyter-widgets/base",
      "model_module_version": "1.2.0",
      "model_name": "LayoutModel",
      "state": {}
     },
     "29dcc6e4d88a49658084bb00a404ec37": {
      "model_module": "@jupyter-widgets/base",
      "model_module_version": "1.2.0",
      "model_name": "LayoutModel",
      "state": {}
     },
     "29dfbff27b874c60a85acf06ab8e373a": {
      "model_module": "@jupyter-widgets/controls",
      "model_module_version": "1.5.0",
      "model_name": "ButtonModel",
      "state": {
       "description": "Se connecter",
       "layout": "IPY_MODEL_8bb514be1ac0413e9381ebd0b9004fd4",
       "style": "IPY_MODEL_28307da21709471cba8f42181ce15817"
      }
     },
     "2a6bf70911964de0b4b554d1e821aa1d": {
      "model_module": "@jupyter-widgets/base",
      "model_module_version": "1.2.0",
      "model_name": "LayoutModel",
      "state": {}
     },
     "2ac0fb60989842698d91a24e856cfa30": {
      "model_module": "@jupyter-widgets/base",
      "model_module_version": "1.2.0",
      "model_name": "LayoutModel",
      "state": {}
     },
     "2bf7e2889da54cdba1b10ab7ec91bd4b": {
      "model_module": "@jupyter-widgets/controls",
      "model_module_version": "1.5.0",
      "model_name": "ButtonModel",
      "state": {
       "description": "Mot de passe oublié",
       "layout": "IPY_MODEL_88ff66d6e3be4474a92119c55620ae5a",
       "style": "IPY_MODEL_79564dc0e0b44a4196a63a2e366f238a"
      }
     },
     "2c10cd11f410425e8b3d56064d03bc71": {
      "model_module": "@jupyter-widgets/base",
      "model_module_version": "1.2.0",
      "model_name": "LayoutModel",
      "state": {}
     },
     "2c3bee3144b84af3a7e830214fa1c933": {
      "model_module": "@jupyter-widgets/base",
      "model_module_version": "1.2.0",
      "model_name": "LayoutModel",
      "state": {}
     },
     "2caa0728fa104babbb60a73811850c4f": {
      "model_module": "@jupyter-widgets/controls",
      "model_module_version": "1.5.0",
      "model_name": "LabelModel",
      "state": {
       "layout": "IPY_MODEL_5e4acc4e6a7d4d0e83f482834b8ae55e",
       "style": "IPY_MODEL_748a9ba7561143c39d4997c68de2b828",
       "value": "Connection en cours ..."
      }
     },
     "2cef40e9d5434eccab10cea40c703a46": {
      "model_module": "@jupyter-widgets/controls",
      "model_module_version": "1.5.0",
      "model_name": "LabelModel",
      "state": {
       "layout": "IPY_MODEL_c2bbb9bd502b487ea4430e49564943af",
       "style": "IPY_MODEL_1387f0673447409d92d282c14ea527d6",
       "value": "Votre adresse mail n'est pas reconnue"
      }
     },
     "2d9b284e10444948930ec1f38712cf38": {
      "model_module": "@jupyter-widgets/base",
      "model_module_version": "1.2.0",
      "model_name": "LayoutModel",
      "state": {}
     },
     "2dba142527f34144afa805c2787700d5": {
      "model_module": "@jupyter-widgets/controls",
      "model_module_version": "1.5.0",
      "model_name": "ButtonStyleModel",
      "state": {}
     },
     "2dd925e6869a4fc288bb442dc9963e52": {
      "model_module": "@jupyter-widgets/controls",
      "model_module_version": "1.5.0",
      "model_name": "LabelModel",
      "state": {
       "layout": "IPY_MODEL_ffb5c4e081c243ddbc2bdc954f399360",
       "style": "IPY_MODEL_148af817b3994f10a56285720d879092",
       "value": "Votre adresse mail n'est pas reconnue"
      }
     },
     "2dfedcd4eda94759915de8ea828666aa": {
      "model_module": "@jupyter-widgets/controls",
      "model_module_version": "1.5.0",
      "model_name": "DescriptionStyleModel",
      "state": {
       "description_width": ""
      }
     },
     "2e539f988fba41ecba63483edd26f9fc": {
      "model_module": "@jupyter-widgets/base",
      "model_module_version": "1.2.0",
      "model_name": "LayoutModel",
      "state": {}
     },
     "2e5e0033409045ee82d68c16ee729d19": {
      "model_module": "@jupyter-widgets/base",
      "model_module_version": "1.2.0",
      "model_name": "LayoutModel",
      "state": {}
     },
     "2f0046d3b1d943ae92bb317c67d5f6b7": {
      "model_module": "@jupyter-widgets/controls",
      "model_module_version": "1.5.0",
      "model_name": "DescriptionStyleModel",
      "state": {
       "description_width": ""
      }
     },
     "2fa02118a8d544cf987457fec01f4de6": {
      "model_module": "@jupyter-widgets/controls",
      "model_module_version": "1.5.0",
      "model_name": "LabelModel",
      "state": {
       "layout": "IPY_MODEL_70e5028e667248ffbc34ef240e6cf4c2",
       "style": "IPY_MODEL_8944172185e64cc190de51f6af218f68",
       "value": "Votre mot de passe est incorrect"
      }
     },
     "2fea84fb8d734aad8b33af8a8eac123b": {
      "model_module": "@jupyter-widgets/controls",
      "model_module_version": "1.5.0",
      "model_name": "DescriptionStyleModel",
      "state": {
       "description_width": ""
      }
     },
     "2fefa373e7e2454aad6c9fe445191182": {
      "model_module": "@jupyter-widgets/controls",
      "model_module_version": "1.5.0",
      "model_name": "DescriptionStyleModel",
      "state": {
       "description_width": ""
      }
     },
     "30ba852107fd4b5189427e07216d2ef1": {
      "model_module": "@jupyter-widgets/base",
      "model_module_version": "1.2.0",
      "model_name": "LayoutModel",
      "state": {}
     },
     "30d5c72d4bb442baae4ebf8cf418304a": {
      "model_module": "@jupyter-widgets/base",
      "model_module_version": "1.2.0",
      "model_name": "LayoutModel",
      "state": {}
     },
     "30f9be180928463687d4d64a2387b2dd": {
      "model_module": "@jupyter-widgets/controls",
      "model_module_version": "1.5.0",
      "model_name": "ButtonStyleModel",
      "state": {}
     },
     "311bf7c550064ef19880febfcb6977fb": {
      "model_module": "@jupyter-widgets/base",
      "model_module_version": "1.2.0",
      "model_name": "LayoutModel",
      "state": {}
     },
     "31bdf66cd973459ca741b15370f184b0": {
      "model_module": "@jupyter-widgets/controls",
      "model_module_version": "1.5.0",
      "model_name": "DescriptionStyleModel",
      "state": {
       "description_width": ""
      }
     },
     "3201dae6935040be8939ebba195cdf11": {
      "model_module": "@jupyter-widgets/base",
      "model_module_version": "1.2.0",
      "model_name": "LayoutModel",
      "state": {}
     },
     "32256e62904d4b5b98b0b12520440b64": {
      "model_module": "@jupyter-widgets/controls",
      "model_module_version": "1.5.0",
      "model_name": "DescriptionStyleModel",
      "state": {
       "description_width": ""
      }
     },
     "328ed0a15b304e18bdc60caf8ddbf8f0": {
      "model_module": "@jupyter-widgets/base",
      "model_module_version": "1.2.0",
      "model_name": "LayoutModel",
      "state": {}
     },
     "32e09b7b986142f4aa504572ed610ecc": {
      "model_module": "@jupyter-widgets/base",
      "model_module_version": "1.2.0",
      "model_name": "LayoutModel",
      "state": {}
     },
     "337c3df75bd64e3988709e88c3b4d170": {
      "model_module": "@jupyter-widgets/controls",
      "model_module_version": "1.5.0",
      "model_name": "LabelModel",
      "state": {
       "layout": "IPY_MODEL_7ec759bd45b244bc8122af8b04976260",
       "style": "IPY_MODEL_f343ff30f90d40dd80497840fec07fc8",
       "value": "Votre adresse mail n'est pas reconnue"
      }
     },
     "3383fafbdea24b1ab6c5eb64f5130fbd": {
      "model_module": "@jupyter-widgets/controls",
      "model_module_version": "1.5.0",
      "model_name": "DescriptionStyleModel",
      "state": {
       "description_width": ""
      }
     },
     "3464d64c75bf42ca9ee4f9bbc5732eab": {
      "model_module": "@jupyter-widgets/controls",
      "model_module_version": "1.5.0",
      "model_name": "DescriptionStyleModel",
      "state": {
       "description_width": ""
      }
     },
     "348ee61d6f3843b4870a7bb466835e6c": {
      "model_module": "@jupyter-widgets/controls",
      "model_module_version": "1.5.0",
      "model_name": "DescriptionStyleModel",
      "state": {
       "description_width": ""
      }
     },
     "356d4f5e488b4e2c8f00cec3ebd1ae23": {
      "model_module": "@jupyter-widgets/base",
      "model_module_version": "1.2.0",
      "model_name": "LayoutModel",
      "state": {}
     },
     "359671f731324ee8afb85a29035b4090": {
      "model_module": "@jupyter-widgets/controls",
      "model_module_version": "1.5.0",
      "model_name": "DescriptionStyleModel",
      "state": {
       "description_width": ""
      }
     },
     "364e1f6c4a92434c8a4e0767b23d10f8": {
      "model_module": "@jupyter-widgets/controls",
      "model_module_version": "1.5.0",
      "model_name": "DescriptionStyleModel",
      "state": {
       "description_width": ""
      }
     },
     "36777b901f024132a501903963cf7047": {
      "model_module": "@jupyter-widgets/controls",
      "model_module_version": "1.5.0",
      "model_name": "DescriptionStyleModel",
      "state": {
       "description_width": ""
      }
     },
     "36e54c82c7dc4f7591b53d8ca2aca7bf": {
      "model_module": "@jupyter-widgets/controls",
      "model_module_version": "1.5.0",
      "model_name": "TextModel",
      "state": {
       "description": "Adresse mail",
       "layout": "IPY_MODEL_a77317d28cd04c99ad2416fa41857860",
       "style": "IPY_MODEL_d848f7baa0a542cea878fc88203adfd8",
       "value": "alex.ca@gmail.com"
      }
     },
     "37121ddc31974d8aba0665cbe13d27db": {
      "model_module": "@jupyter-widgets/controls",
      "model_module_version": "1.5.0",
      "model_name": "ButtonModel",
      "state": {
       "description": "Mot de passe oublié",
       "layout": "IPY_MODEL_a8ba7ecba5274ddbb91785e0fe3f585f",
       "style": "IPY_MODEL_8f48b6e9d4f449fd8e0b39f4d9970fcc"
      }
     },
     "3743e3d03e4d4e1e8da0e6451ed4cf14": {
      "model_module": "@jupyter-widgets/controls",
      "model_module_version": "1.5.0",
      "model_name": "DescriptionStyleModel",
      "state": {
       "description_width": ""
      }
     },
     "37ffc22a9abd42e2b64382d4b2e3d68c": {
      "model_module": "@jupyter-widgets/controls",
      "model_module_version": "1.5.0",
      "model_name": "DescriptionStyleModel",
      "state": {
       "description_width": ""
      }
     },
     "380aed50bbd44fc9b54402e1281fd4be": {
      "model_module": "@jupyter-widgets/controls",
      "model_module_version": "1.5.0",
      "model_name": "ButtonModel",
      "state": {
       "description": "Mot de passe oublié",
       "layout": "IPY_MODEL_1c678195506a464a9863274f1df602b2",
       "style": "IPY_MODEL_f8a2fcbc721d42a2ba0e2eb364e2a1e5"
      }
     },
     "38a9314d4718486b9beebe48bf476c06": {
      "model_module": "@jupyter-widgets/controls",
      "model_module_version": "1.5.0",
      "model_name": "ButtonStyleModel",
      "state": {}
     },
     "38b457a4b1c04edc8ac985bd583c9f49": {
      "model_module": "@jupyter-widgets/controls",
      "model_module_version": "1.5.0",
      "model_name": "DescriptionStyleModel",
      "state": {
       "description_width": ""
      }
     },
     "38bb97eee6e942b886a8620ce2ab167f": {
      "model_module": "@jupyter-widgets/base",
      "model_module_version": "1.2.0",
      "model_name": "LayoutModel",
      "state": {}
     },
     "38cff22f98f0484a8994e5a0a8a9d321": {
      "model_module": "@jupyter-widgets/base",
      "model_module_version": "1.2.0",
      "model_name": "LayoutModel",
      "state": {}
     },
     "38dad6d0a5b54cf1be5c4aec82edeab0": {
      "model_module": "@jupyter-widgets/base",
      "model_module_version": "1.2.0",
      "model_name": "LayoutModel",
      "state": {}
     },
     "39352653c0ff4544a637c26f7d801dce": {
      "model_module": "@jupyter-widgets/controls",
      "model_module_version": "1.5.0",
      "model_name": "PasswordModel",
      "state": {
       "description": "Mot de passe",
       "layout": "IPY_MODEL_ecaa9ab29e5c4ca78f476558428dfab2",
       "style": "IPY_MODEL_a07458fcdac24a01935d1aae1181c7b0"
      }
     },
     "3960914a256f4b15a783b3fc3e1647ad": {
      "model_module": "@jupyter-widgets/controls",
      "model_module_version": "1.5.0",
      "model_name": "ButtonModel",
      "state": {
       "description": "Se connecter",
       "layout": "IPY_MODEL_af016548987341adaf9713c81ba1d1a5",
       "style": "IPY_MODEL_a069c9c23b054734be53eacd1553e885"
      }
     },
     "398ae44ac4c04bc6999823a6dde5fdb9": {
      "model_module": "@jupyter-widgets/controls",
      "model_module_version": "1.5.0",
      "model_name": "LabelModel",
      "state": {
       "layout": "IPY_MODEL_cea605107518418c89a5eb7c3574e3b6",
       "style": "IPY_MODEL_fad447a73ab64da29f75aebc55b932bc",
       "value": "Votre adresse mail n'est pas reconnue"
      }
     },
     "39c7f63480c1406dad7bdea6b6a13cf0": {
      "model_module": "@jupyter-widgets/controls",
      "model_module_version": "1.5.0",
      "model_name": "ButtonStyleModel",
      "state": {}
     },
     "3a034608d4d343cc8928e18e30c43124": {
      "model_module": "@jupyter-widgets/base",
      "model_module_version": "1.2.0",
      "model_name": "LayoutModel",
      "state": {}
     },
     "3a6ef89d92874aabbf462601dcd41d7d": {
      "model_module": "@jupyter-widgets/controls",
      "model_module_version": "1.5.0",
      "model_name": "DescriptionStyleModel",
      "state": {
       "description_width": ""
      }
     },
     "3aa200d83211459fb8bc74e39722ada0": {
      "model_module": "@jupyter-widgets/controls",
      "model_module_version": "1.5.0",
      "model_name": "LabelModel",
      "state": {
       "layout": "IPY_MODEL_6fa7ab60c95d41a2b276be3e255b06e6",
       "style": "IPY_MODEL_3383fafbdea24b1ab6c5eb64f5130fbd",
       "value": "Votre mot de passe est incorrect"
      }
     },
     "3abdf4be91ca4eedb4acb0ed2330434f": {
      "model_module": "@jupyter-widgets/controls",
      "model_module_version": "1.5.0",
      "model_name": "LabelModel",
      "state": {
       "layout": "IPY_MODEL_bfe4bb0bdd5a4a07b37d5b513519e8e0",
       "style": "IPY_MODEL_7ff11af95e69418e8179ca7c5c72534f",
       "value": "Nous vous avons envoyé un Email de réinitialisation à @gmail.com"
      }
     },
     "3af123bf8735466298e115f9383257e6": {
      "model_module": "@jupyter-widgets/base",
      "model_module_version": "1.2.0",
      "model_name": "LayoutModel",
      "state": {}
     },
     "3b206249520c4474941a0da97fc7ca31": {
      "model_module": "@jupyter-widgets/controls",
      "model_module_version": "1.5.0",
      "model_name": "DescriptionStyleModel",
      "state": {
       "description_width": ""
      }
     },
     "3b28ef376f914799b95c737970e0ea54": {
      "model_module": "@jupyter-widgets/controls",
      "model_module_version": "1.5.0",
      "model_name": "DescriptionStyleModel",
      "state": {
       "description_width": ""
      }
     },
     "3b8d3beac5bb4848a35d623bae809e1f": {
      "model_module": "@jupyter-widgets/controls",
      "model_module_version": "1.5.0",
      "model_name": "PasswordModel",
      "state": {
       "description": "Mot de passe",
       "layout": "IPY_MODEL_45940bfe0fd04789a4d15af4bca1dc00",
       "style": "IPY_MODEL_a19c8e27e68f468b8554badc1496d430",
       "value": "a"
      }
     },
     "3c74ff764de84b71bd8a912fbe975896": {
      "model_module": "@jupyter-widgets/controls",
      "model_module_version": "1.5.0",
      "model_name": "DescriptionStyleModel",
      "state": {
       "description_width": ""
      }
     },
     "3c98a2d2d6324bbc8f98a34e44d2c49a": {
      "model_module": "@jupyter-widgets/base",
      "model_module_version": "1.2.0",
      "model_name": "LayoutModel",
      "state": {}
     },
     "3ce508e0fd294bb288eb845541a95b15": {
      "model_module": "@jupyter-widgets/base",
      "model_module_version": "1.2.0",
      "model_name": "LayoutModel",
      "state": {}
     },
     "3ceeee4691a64c41b44246b145e21560": {
      "model_module": "@jupyter-widgets/base",
      "model_module_version": "1.2.0",
      "model_name": "LayoutModel",
      "state": {}
     },
     "3d23bcb5fef3412cbffe9a117a56f69a": {
      "model_module": "@jupyter-widgets/base",
      "model_module_version": "1.2.0",
      "model_name": "LayoutModel",
      "state": {}
     },
     "3d31973521e9441282d7f8c75369e7b3": {
      "model_module": "@jupyter-widgets/base",
      "model_module_version": "1.2.0",
      "model_name": "LayoutModel",
      "state": {}
     },
     "3d6d1ae269964219886398922318d9c8": {
      "model_module": "@jupyter-widgets/controls",
      "model_module_version": "1.5.0",
      "model_name": "DescriptionStyleModel",
      "state": {
       "description_width": ""
      }
     },
     "3e16bda2a108422fbbd94fafd5e05df3": {
      "model_module": "@jupyter-widgets/controls",
      "model_module_version": "1.5.0",
      "model_name": "DescriptionStyleModel",
      "state": {
       "description_width": ""
      }
     },
     "3e17aedf0bdc4d50a0472b39cec06035": {
      "model_module": "@jupyter-widgets/base",
      "model_module_version": "1.2.0",
      "model_name": "LayoutModel",
      "state": {}
     },
     "3e2fc1f1b62c40a394739da9059d5bd8": {
      "model_module": "@jupyter-widgets/base",
      "model_module_version": "1.2.0",
      "model_name": "LayoutModel",
      "state": {}
     },
     "3e429b1b25c54eaaa85a610a65b40142": {
      "model_module": "@jupyter-widgets/base",
      "model_module_version": "1.2.0",
      "model_name": "LayoutModel",
      "state": {}
     },
     "3eaaea6a54f64f8da19f5ee7c605aa19": {
      "model_module": "@jupyter-widgets/controls",
      "model_module_version": "1.5.0",
      "model_name": "ButtonStyleModel",
      "state": {}
     },
     "3f236e084a7940eba6fedb11b5a4edc0": {
      "model_module": "@jupyter-widgets/controls",
      "model_module_version": "1.5.0",
      "model_name": "LabelModel",
      "state": {
       "layout": "IPY_MODEL_62dd433c021a428d856daaff0ee073f2",
       "style": "IPY_MODEL_b39390ee3167455587372e68de1be3a7",
       "value": "Veuillez entrer une adresse Gmail valide (...@gmail.com)"
      }
     },
     "4016b52f6dd647c688fb2f95bd8fc0ca": {
      "model_module": "@jupyter-widgets/base",
      "model_module_version": "1.2.0",
      "model_name": "LayoutModel",
      "state": {}
     },
     "4039a13f3bad4ce7a05819beecee1266": {
      "model_module": "@jupyter-widgets/controls",
      "model_module_version": "1.5.0",
      "model_name": "DescriptionStyleModel",
      "state": {
       "description_width": ""
      }
     },
     "408042ed0d374721b3e45182b1fc80b7": {
      "model_module": "@jupyter-widgets/controls",
      "model_module_version": "1.5.0",
      "model_name": "DescriptionStyleModel",
      "state": {
       "description_width": ""
      }
     },
     "40b0adc79b66432f8d686af563a2d1a3": {
      "model_module": "@jupyter-widgets/base",
      "model_module_version": "1.2.0",
      "model_name": "LayoutModel",
      "state": {}
     },
     "40b7ad684c0e43fe8aae46df3f29f040": {
      "model_module": "@jupyter-widgets/base",
      "model_module_version": "1.2.0",
      "model_name": "LayoutModel",
      "state": {}
     },
     "40cf3df360e345c3b90ff7deb85be8ed": {
      "model_module": "@jupyter-widgets/base",
      "model_module_version": "1.2.0",
      "model_name": "LayoutModel",
      "state": {}
     },
     "40e22fdf28bc452c8e722c58204813ef": {
      "model_module": "@jupyter-widgets/controls",
      "model_module_version": "1.5.0",
      "model_name": "DescriptionStyleModel",
      "state": {
       "description_width": ""
      }
     },
     "40f48f6e3f1542b589004d4f9e0c6e2f": {
      "model_module": "@jupyter-widgets/controls",
      "model_module_version": "1.5.0",
      "model_name": "DescriptionStyleModel",
      "state": {
       "description_width": ""
      }
     },
     "418e234ac0c743c6b6a11bac8263863c": {
      "model_module": "@jupyter-widgets/base",
      "model_module_version": "1.2.0",
      "model_name": "LayoutModel",
      "state": {}
     },
     "41e0bbecaf78404a99fb78ea881271c3": {
      "model_module": "@jupyter-widgets/controls",
      "model_module_version": "1.5.0",
      "model_name": "DescriptionStyleModel",
      "state": {
       "description_width": ""
      }
     },
     "422987de40a44a44aae945be09339bb4": {
      "model_module": "@jupyter-widgets/controls",
      "model_module_version": "1.5.0",
      "model_name": "DescriptionStyleModel",
      "state": {
       "description_width": ""
      }
     },
     "42a1bb5a47854391998f5a257d37818c": {
      "model_module": "@jupyter-widgets/base",
      "model_module_version": "1.2.0",
      "model_name": "LayoutModel",
      "state": {}
     },
     "430e4445ad474de5b04a0ec776c18143": {
      "model_module": "@jupyter-widgets/base",
      "model_module_version": "1.2.0",
      "model_name": "LayoutModel",
      "state": {}
     },
     "433a124e06a5455691f01ff5a3103134": {
      "model_module": "@jupyter-widgets/controls",
      "model_module_version": "1.5.0",
      "model_name": "DescriptionStyleModel",
      "state": {
       "description_width": ""
      }
     },
     "4346ffbe3b324c288f2061259f39db38": {
      "model_module": "@jupyter-widgets/controls",
      "model_module_version": "1.5.0",
      "model_name": "DescriptionStyleModel",
      "state": {
       "description_width": ""
      }
     },
     "438189262c5c4d0cae19a035349a16ee": {
      "model_module": "@jupyter-widgets/controls",
      "model_module_version": "1.5.0",
      "model_name": "ButtonStyleModel",
      "state": {}
     },
     "43b9c324e0c44972be8113aa01b98d47": {
      "model_module": "@jupyter-widgets/base",
      "model_module_version": "1.2.0",
      "model_name": "LayoutModel",
      "state": {}
     },
     "43e1543a0f154de1ba8d74a7bd6164ee": {
      "model_module": "@jupyter-widgets/controls",
      "model_module_version": "1.5.0",
      "model_name": "ButtonModel",
      "state": {
       "description": "Se connecter",
       "layout": "IPY_MODEL_f56d650b553d46c5842a722a9004d26a",
       "style": "IPY_MODEL_0de9793ed0f743e9a3932df26fc2ca77"
      }
     },
     "4407139260be4f32ac7c3c127584af0b": {
      "model_module": "@jupyter-widgets/controls",
      "model_module_version": "1.5.0",
      "model_name": "LabelModel",
      "state": {
       "layout": "IPY_MODEL_bab9b14ab60745828d31639836d5726f",
       "style": "IPY_MODEL_785945401ad64b929921da4c6e608703",
       "value": "Veuillez entrer une adresse Gmail valide (...@gmail.com)"
      }
     },
     "44787af4c0354bbca57bced277b84039": {
      "model_module": "@jupyter-widgets/controls",
      "model_module_version": "1.5.0",
      "model_name": "LabelModel",
      "state": {
       "layout": "IPY_MODEL_ca794b26695d439993feb142a17a17c9",
       "style": "IPY_MODEL_d911b93482e64094b29fd9087d4a538f",
       "value": "Nous vous avons envoyé un Email de réinitialisation à alex.capelle97@gmail.com"
      }
     },
     "44d25c16baa9402a9009aa7676878554": {
      "model_module": "@jupyter-widgets/base",
      "model_module_version": "1.2.0",
      "model_name": "LayoutModel",
      "state": {}
     },
     "44dbb4601c4a447883625878b4cebb2e": {
      "model_module": "@jupyter-widgets/controls",
      "model_module_version": "1.5.0",
      "model_name": "LabelModel",
      "state": {
       "layout": "IPY_MODEL_f52486eccd5d43fbb01721b464bc08e7",
       "style": "IPY_MODEL_7972ec3c38864dbaa4713e336d567c88",
       "value": "Votre adresse mail n'est pas reconnue"
      }
     },
     "451a1307c3eb4cd68ac861a120db1a3d": {
      "model_module": "@jupyter-widgets/base",
      "model_module_version": "1.2.0",
      "model_name": "LayoutModel",
      "state": {}
     },
     "4536ffb2bc20438b809a7e9bb2b6ffed": {
      "model_module": "@jupyter-widgets/controls",
      "model_module_version": "1.5.0",
      "model_name": "DescriptionStyleModel",
      "state": {
       "description_width": ""
      }
     },
     "45940bfe0fd04789a4d15af4bca1dc00": {
      "model_module": "@jupyter-widgets/base",
      "model_module_version": "1.2.0",
      "model_name": "LayoutModel",
      "state": {}
     },
     "45ae131794994816a7ead7aa15bbb7d7": {
      "model_module": "@jupyter-widgets/controls",
      "model_module_version": "1.5.0",
      "model_name": "DescriptionStyleModel",
      "state": {
       "description_width": ""
      }
     },
     "46006359fa644e599e5daaf82d67bc75": {
      "model_module": "@jupyter-widgets/base",
      "model_module_version": "1.2.0",
      "model_name": "LayoutModel",
      "state": {}
     },
     "460f065af8c3412581a595fe96dde101": {
      "model_module": "@jupyter-widgets/controls",
      "model_module_version": "1.5.0",
      "model_name": "ButtonModel",
      "state": {
       "description": "Se connecter",
       "layout": "IPY_MODEL_7510e55714c44857b2a56307e9b2a72b",
       "style": "IPY_MODEL_da5d8153f43a493c9aab1f78c43738ff"
      }
     },
     "465b0f3710e4402ca5cf91e676f9d63a": {
      "model_module": "@jupyter-widgets/controls",
      "model_module_version": "1.5.0",
      "model_name": "LabelModel",
      "state": {
       "layout": "IPY_MODEL_963afaa0810449a1b1ac32807f761b14",
       "style": "IPY_MODEL_82013a3b37e3495f95b88ae3622ee473",
       "value": "Connection en cours ..."
      }
     },
     "46f5015d922449eeb64a6b6f331df4e9": {
      "model_module": "@jupyter-widgets/base",
      "model_module_version": "1.2.0",
      "model_name": "LayoutModel",
      "state": {}
     },
     "4700ffc4d06a4fb78c2e58fbe89f06af": {
      "model_module": "@jupyter-widgets/base",
      "model_module_version": "1.2.0",
      "model_name": "LayoutModel",
      "state": {}
     },
     "477562329d694b49b80fb83c58cdca49": {
      "model_module": "@jupyter-widgets/base",
      "model_module_version": "1.2.0",
      "model_name": "LayoutModel",
      "state": {}
     },
     "47af91b039b043dcb44bc22671c34634": {
      "model_module": "@jupyter-widgets/controls",
      "model_module_version": "1.5.0",
      "model_name": "ButtonModel",
      "state": {
       "description": "Se connecter",
       "layout": "IPY_MODEL_b13d289a88574e9c927d163f37710b86",
       "style": "IPY_MODEL_438189262c5c4d0cae19a035349a16ee"
      }
     },
     "48053b6086de43c386e9c93a641ae29a": {
      "model_module": "@jupyter-widgets/controls",
      "model_module_version": "1.5.0",
      "model_name": "LabelModel",
      "state": {
       "layout": "IPY_MODEL_b39fa3bb530442879b66bc724dbb1428",
       "style": "IPY_MODEL_948e709af8054b1aa60259ae75a8103f",
       "value": "Nous vous avons envoyé un Email de réinitialisation à alex.capelle97@gmail.com"
      }
     },
     "480dc659ee4b4d33986af55a64250443": {
      "model_module": "@jupyter-widgets/controls",
      "model_module_version": "1.5.0",
      "model_name": "DescriptionStyleModel",
      "state": {
       "description_width": ""
      }
     },
     "484705146d864e8e9ac2746d565dc2a4": {
      "model_module": "@jupyter-widgets/base",
      "model_module_version": "1.2.0",
      "model_name": "LayoutModel",
      "state": {}
     },
     "487d173bc58748549486e3d7f033a5a0": {
      "model_module": "@jupyter-widgets/base",
      "model_module_version": "1.2.0",
      "model_name": "LayoutModel",
      "state": {}
     },
     "4891bd3c99ba4a37ac9cdb63e1004204": {
      "model_module": "@jupyter-widgets/base",
      "model_module_version": "1.2.0",
      "model_name": "LayoutModel",
      "state": {}
     },
     "48bb624bdeaf4a6d9cf6182b1b522a1f": {
      "model_module": "@jupyter-widgets/base",
      "model_module_version": "1.2.0",
      "model_name": "LayoutModel",
      "state": {}
     },
     "48fbaabdadae4fe397a82034a6a5aab1": {
      "model_module": "@jupyter-widgets/base",
      "model_module_version": "1.2.0",
      "model_name": "LayoutModel",
      "state": {}
     },
     "49725dc805c14d86b01b3f5632c0e1a8": {
      "model_module": "@jupyter-widgets/base",
      "model_module_version": "1.2.0",
      "model_name": "LayoutModel",
      "state": {}
     },
     "49a0c86ecae74736a25f035428f49d86": {
      "model_module": "@jupyter-widgets/controls",
      "model_module_version": "1.5.0",
      "model_name": "ButtonModel",
      "state": {
       "description": "Mot de passe oublié",
       "layout": "IPY_MODEL_4f5eb39cb6ea4c3da47e3de40c007081",
       "style": "IPY_MODEL_c4aca9386a9c49fbbb4821f2dd0b2de1"
      }
     },
     "49b2cfa2828f4d2ea7ade72fd37c501c": {
      "model_module": "@jupyter-widgets/controls",
      "model_module_version": "1.5.0",
      "model_name": "LabelModel",
      "state": {
       "layout": "IPY_MODEL_c6a58af5b2eb4a169cadd109958a179a",
       "style": "IPY_MODEL_086a144653f444c98a6c432d1fd19df4",
       "value": "Votre mot de passe est incorrect"
      }
     },
     "49cf3b11850040b19908951586752815": {
      "model_module": "@jupyter-widgets/base",
      "model_module_version": "1.2.0",
      "model_name": "LayoutModel",
      "state": {}
     },
     "49d68fce429943e6bfaf4734b9048e55": {
      "model_module": "@jupyter-widgets/controls",
      "model_module_version": "1.5.0",
      "model_name": "DescriptionStyleModel",
      "state": {
       "description_width": ""
      }
     },
     "4a70a259e77440f89404cd1f8f021712": {
      "model_module": "@jupyter-widgets/controls",
      "model_module_version": "1.5.0",
      "model_name": "PasswordModel",
      "state": {
       "description": "Mot de passe",
       "layout": "IPY_MODEL_10e7edfc5e0744a5a7dfb1c7e83beb26",
       "style": "IPY_MODEL_7462fc0cab02477da8f9051be6dc2754",
       "value": "a"
      }
     },
     "4ae84a0effc841849f08d0566135bf5e": {
      "model_module": "@jupyter-widgets/base",
      "model_module_version": "1.2.0",
      "model_name": "LayoutModel",
      "state": {}
     },
     "4b7a535077c7408fb8077a58456c741f": {
      "model_module": "@jupyter-widgets/controls",
      "model_module_version": "1.5.0",
      "model_name": "ButtonModel",
      "state": {
       "description": "Se connecter",
       "layout": "IPY_MODEL_5db07d632cd542a9b24d20bcfd4aac70",
       "style": "IPY_MODEL_39c7f63480c1406dad7bdea6b6a13cf0"
      }
     },
     "4c4b954fa45249da8e12348e4db7f39f": {
      "model_module": "@jupyter-widgets/controls",
      "model_module_version": "1.5.0",
      "model_name": "DescriptionStyleModel",
      "state": {
       "description_width": ""
      }
     },
     "4c7d4d0d23834f1385678d0cf5679e39": {
      "model_module": "@jupyter-widgets/base",
      "model_module_version": "1.2.0",
      "model_name": "LayoutModel",
      "state": {}
     },
     "4c97610b94924199ab25659acf633bc0": {
      "model_module": "@jupyter-widgets/controls",
      "model_module_version": "1.5.0",
      "model_name": "DescriptionStyleModel",
      "state": {
       "description_width": ""
      }
     },
     "4ca938a523254e8c9c72290cbfb2de4e": {
      "model_module": "@jupyter-widgets/controls",
      "model_module_version": "1.5.0",
      "model_name": "DescriptionStyleModel",
      "state": {
       "description_width": ""
      }
     },
     "4cc16ad6e8e44f1882031707eb8d4046": {
      "model_module": "@jupyter-widgets/controls",
      "model_module_version": "1.5.0",
      "model_name": "LabelModel",
      "state": {
       "layout": "IPY_MODEL_ee5174b6ff4544709851fc8c93c013d1",
       "style": "IPY_MODEL_bc21b8667378486a833f5fe4ba42086b",
       "value": "Votre adresse mail n'est pas reconnue"
      }
     },
     "4df86c472f5e4327a311390a08ba5de9": {
      "model_module": "@jupyter-widgets/base",
      "model_module_version": "1.2.0",
      "model_name": "LayoutModel",
      "state": {}
     },
     "4e1fe53dd0124c44bb8d33aeac33396e": {
      "model_module": "@jupyter-widgets/controls",
      "model_module_version": "1.5.0",
      "model_name": "ButtonModel",
      "state": {
       "description": "Mot de passe oublié",
       "layout": "IPY_MODEL_356d4f5e488b4e2c8f00cec3ebd1ae23",
       "style": "IPY_MODEL_e65517000ad24f1d85b2639c73abb080"
      }
     },
     "4e4ecdbac4454ee284b5d6a956b75693": {
      "model_module": "@jupyter-widgets/base",
      "model_module_version": "1.2.0",
      "model_name": "LayoutModel",
      "state": {}
     },
     "4eaafca565b443bdad973fb8f1079de0": {
      "model_module": "@jupyter-widgets/controls",
      "model_module_version": "1.5.0",
      "model_name": "ButtonStyleModel",
      "state": {}
     },
     "4eef6386391d4551a4ea508d71e6ccf1": {
      "model_module": "@jupyter-widgets/base",
      "model_module_version": "1.2.0",
      "model_name": "LayoutModel",
      "state": {}
     },
     "4efe50c55d064bef82285b918b631430": {
      "model_module": "@jupyter-widgets/base",
      "model_module_version": "1.2.0",
      "model_name": "LayoutModel",
      "state": {}
     },
     "4f5eb39cb6ea4c3da47e3de40c007081": {
      "model_module": "@jupyter-widgets/base",
      "model_module_version": "1.2.0",
      "model_name": "LayoutModel",
      "state": {}
     },
     "501eb3cd7e9d4697bbbc9a14f79896ed": {
      "model_module": "@jupyter-widgets/base",
      "model_module_version": "1.2.0",
      "model_name": "LayoutModel",
      "state": {}
     },
     "5067a3f62ef040bb9c47cfe496864d30": {
      "model_module": "@jupyter-widgets/controls",
      "model_module_version": "1.5.0",
      "model_name": "PasswordModel",
      "state": {
       "description": "Mot de passe",
       "layout": "IPY_MODEL_ec232d8a53014dbca4a654e45333c971",
       "style": "IPY_MODEL_ddd86fd346fd4ff391438b1f68ee8219"
      }
     },
     "50e54b738a52415b8c4f6abb3a459480": {
      "model_module": "@jupyter-widgets/controls",
      "model_module_version": "1.5.0",
      "model_name": "ButtonStyleModel",
      "state": {}
     },
     "510f9aeb2ad94bbda11bb02ff3d32904": {
      "model_module": "@jupyter-widgets/controls",
      "model_module_version": "1.5.0",
      "model_name": "LabelModel",
      "state": {
       "layout": "IPY_MODEL_2e539f988fba41ecba63483edd26f9fc",
       "style": "IPY_MODEL_07fb2c4b3a2e4e55a120de2494084e67",
       "value": "Veuillez entrer une adresse Gmail valide (...@gmail.com)"
      }
     },
     "51dd9e531c2a49aa98292b90550b4ac4": {
      "model_module": "@jupyter-widgets/controls",
      "model_module_version": "1.5.0",
      "model_name": "ButtonStyleModel",
      "state": {}
     },
     "52729b667371462e8379ec7a3a731584": {
      "model_module": "@jupyter-widgets/controls",
      "model_module_version": "1.5.0",
      "model_name": "ButtonModel",
      "state": {
       "description": "Se connecter",
       "layout": "IPY_MODEL_fb8c9c727c7d44c9832f6a5afce84373",
       "style": "IPY_MODEL_1021d7f27c484c4690c4f6747514c5f4"
      }
     },
     "5296d5dd46154556b12d200aa472e969": {
      "model_module": "@jupyter-widgets/base",
      "model_module_version": "1.2.0",
      "model_name": "LayoutModel",
      "state": {}
     },
     "52f961ec48a54c60afcfec23f03bbc57": {
      "model_module": "@jupyter-widgets/base",
      "model_module_version": "1.2.0",
      "model_name": "LayoutModel",
      "state": {}
     },
     "534db98968d34df488b294bad7e048ef": {
      "model_module": "@jupyter-widgets/controls",
      "model_module_version": "1.5.0",
      "model_name": "DescriptionStyleModel",
      "state": {
       "description_width": ""
      }
     },
     "54cf5ec674d64e4baf42b2d00a635dc9": {
      "model_module": "@jupyter-widgets/base",
      "model_module_version": "1.2.0",
      "model_name": "LayoutModel",
      "state": {}
     },
     "554fb014230547049c15b91952b0323b": {
      "model_module": "@jupyter-widgets/controls",
      "model_module_version": "1.5.0",
      "model_name": "DescriptionStyleModel",
      "state": {
       "description_width": ""
      }
     },
     "557174b6d4cc49038572d0ba24890324": {
      "model_module": "@jupyter-widgets/controls",
      "model_module_version": "1.5.0",
      "model_name": "ButtonModel",
      "state": {
       "description": "Se connecter",
       "layout": "IPY_MODEL_7e94326cb46c487dbbcd25b17d4c0f9f",
       "style": "IPY_MODEL_50e54b738a52415b8c4f6abb3a459480"
      }
     },
     "55860f030beb4251b2e2df2a39885207": {
      "model_module": "@jupyter-widgets/controls",
      "model_module_version": "1.5.0",
      "model_name": "LabelModel",
      "state": {
       "layout": "IPY_MODEL_b129b201320c448baf5f92c359ff47ed",
       "style": "IPY_MODEL_cb8a566690fd46ac8f8cf9a5fc2e4e62",
       "value": "Veuillez entrer une adresse Gmail valide (...@gmail.com)"
      }
     },
     "569fdcae46114c19a9a7bbcf1aeeb8a6": {
      "model_module": "@jupyter-widgets/controls",
      "model_module_version": "1.5.0",
      "model_name": "LabelModel",
      "state": {
       "layout": "IPY_MODEL_268c8cbcf18c4c30bdb94c6f7703cf0d",
       "style": "IPY_MODEL_0529e5520d52408fb19caa1831373d93",
       "value": "Nous vous avons envoyé un Email de réinitialisation à @gmail.com"
      }
     },
     "571933f4ac074412ad148884946a22f7": {
      "model_module": "@jupyter-widgets/controls",
      "model_module_version": "1.5.0",
      "model_name": "TextModel",
      "state": {
       "description": "Adresse mail",
       "layout": "IPY_MODEL_04333c2111cf45d580fc183aec19cf20",
       "style": "IPY_MODEL_e5f91756b5bb40f7a67f42133cc57283",
       "value": "a@gmail.com"
      }
     },
     "5726d19ec1004f218266982e24aa5c73": {
      "model_module": "@jupyter-widgets/controls",
      "model_module_version": "1.5.0",
      "model_name": "DescriptionStyleModel",
      "state": {
       "description_width": ""
      }
     },
     "579c2593333a47798db021f28a201c4e": {
      "model_module": "@jupyter-widgets/controls",
      "model_module_version": "1.5.0",
      "model_name": "DescriptionStyleModel",
      "state": {
       "description_width": ""
      }
     },
     "57dce0c095c54e17b1ad717d0b7cf578": {
      "model_module": "@jupyter-widgets/controls",
      "model_module_version": "1.5.0",
      "model_name": "LabelModel",
      "state": {
       "layout": "IPY_MODEL_ffd2e61928044e1ab9d4383b1604c39b",
       "style": "IPY_MODEL_922a8d4288e84514bdbc8dc112c01912",
       "value": "Veuillez entrer une adresse Gmail valide (...@gmail.com)"
      }
     },
     "58c3dee43a554642b8406abc332b8723": {
      "model_module": "@jupyter-widgets/base",
      "model_module_version": "1.2.0",
      "model_name": "LayoutModel",
      "state": {}
     },
     "58dd7d2ffc344a5baae0080afaf8b438": {
      "model_module": "@jupyter-widgets/base",
      "model_module_version": "1.2.0",
      "model_name": "LayoutModel",
      "state": {}
     },
     "59f0d3a3e76b4eb289962e9fb1fd6c18": {
      "model_module": "@jupyter-widgets/controls",
      "model_module_version": "1.5.0",
      "model_name": "DescriptionStyleModel",
      "state": {
       "description_width": ""
      }
     },
     "59fdea54251d486d9c0e60d2a8424add": {
      "model_module": "@jupyter-widgets/base",
      "model_module_version": "1.2.0",
      "model_name": "LayoutModel",
      "state": {}
     },
     "5a21466a77414c8692e6fed6e2f2c64f": {
      "model_module": "@jupyter-widgets/base",
      "model_module_version": "1.2.0",
      "model_name": "LayoutModel",
      "state": {}
     },
     "5a304756fd634143906ee6c7a73f0cda": {
      "model_module": "@jupyter-widgets/controls",
      "model_module_version": "1.5.0",
      "model_name": "LabelModel",
      "state": {
       "layout": "IPY_MODEL_6570d69cc7aa4c7a80aab82b473a2f70",
       "style": "IPY_MODEL_3c74ff764de84b71bd8a912fbe975896",
       "value": "Nous vous avons envoyé un Email de réinitialisation à @gmail.com"
      }
     },
     "5a469dadd5544c3185b7aa764213799e": {
      "model_module": "@jupyter-widgets/controls",
      "model_module_version": "1.5.0",
      "model_name": "ButtonModel",
      "state": {
       "description": "Mot de passe oublié",
       "layout": "IPY_MODEL_69a15ac43ff44ba7b0cfd5ed035413fc",
       "style": "IPY_MODEL_5c6eb5caa3304684bfa92d1a2bc9d96d"
      }
     },
     "5a61b739abf942b3bb0866df18556084": {
      "model_module": "@jupyter-widgets/controls",
      "model_module_version": "1.5.0",
      "model_name": "PasswordModel",
      "state": {
       "description": "Mot de passe",
       "layout": "IPY_MODEL_52f961ec48a54c60afcfec23f03bbc57",
       "style": "IPY_MODEL_290b010e0d524c4b82812e771e9f4b12"
      }
     },
     "5ace9333e235462485870d9f809c8165": {
      "model_module": "@jupyter-widgets/controls",
      "model_module_version": "1.5.0",
      "model_name": "DescriptionStyleModel",
      "state": {
       "description_width": ""
      }
     },
     "5ae1c5a962c54b278645bb78baf4a39f": {
      "model_module": "@jupyter-widgets/controls",
      "model_module_version": "1.5.0",
      "model_name": "DescriptionStyleModel",
      "state": {
       "description_width": ""
      }
     },
     "5b1a0b46a5c74c79933d91984373167c": {
      "model_module": "@jupyter-widgets/base",
      "model_module_version": "1.2.0",
      "model_name": "LayoutModel",
      "state": {}
     },
     "5bb25c8120e74676b328780e1f2fc4c7": {
      "model_module": "@jupyter-widgets/controls",
      "model_module_version": "1.5.0",
      "model_name": "PasswordModel",
      "state": {
       "description": "Mot de passe",
       "layout": "IPY_MODEL_73480471e263487c9bcb38d47607a8b6",
       "style": "IPY_MODEL_6c7e26b7f6b247afbdb2dc4e663ad597"
      }
     },
     "5bdb1d4cae7f4b85ab5b15816a7bcf1d": {
      "model_module": "@jupyter-widgets/base",
      "model_module_version": "1.2.0",
      "model_name": "LayoutModel",
      "state": {}
     },
     "5be08ece0f42462eb38af86d54090814": {
      "model_module": "@jupyter-widgets/controls",
      "model_module_version": "1.5.0",
      "model_name": "ButtonModel",
      "state": {
       "description": "Se connecter",
       "layout": "IPY_MODEL_fff885a19f8547f989c801a28c712c07",
       "style": "IPY_MODEL_cc1acb2e5ab346088e60734156047c43"
      }
     },
     "5c2e2bbf8edb4a25a49cce7aa8925038": {
      "model_module": "@jupyter-widgets/controls",
      "model_module_version": "1.5.0",
      "model_name": "LabelModel",
      "state": {
       "layout": "IPY_MODEL_38cff22f98f0484a8994e5a0a8a9d321",
       "style": "IPY_MODEL_efb4637925594781b0f8a1e15c613401",
       "value": "Nous vous avons envoyé un Email de réinitialisation à alex.capelle97@gmail.com"
      }
     },
     "5c6eb5caa3304684bfa92d1a2bc9d96d": {
      "model_module": "@jupyter-widgets/controls",
      "model_module_version": "1.5.0",
      "model_name": "ButtonStyleModel",
      "state": {}
     },
     "5c79e024aa2a42968c4a935256751e34": {
      "model_module": "@jupyter-widgets/controls",
      "model_module_version": "1.5.0",
      "model_name": "DescriptionStyleModel",
      "state": {
       "description_width": ""
      }
     },
     "5cb121b9b6864b2b8bc251d923896539": {
      "model_module": "@jupyter-widgets/base",
      "model_module_version": "1.2.0",
      "model_name": "LayoutModel",
      "state": {}
     },
     "5d2d958c8c974414a1d4f12c7a6fe938": {
      "model_module": "@jupyter-widgets/controls",
      "model_module_version": "1.5.0",
      "model_name": "LabelModel",
      "state": {
       "layout": "IPY_MODEL_832646bee28040aca6da0c8e676f8377",
       "style": "IPY_MODEL_76db16fb860047909b0fe9c0f30918a6",
       "value": "Votre adresse mail n'est pas reconnue"
      }
     },
     "5d721b89b5ac4079a3bb45e96e623f55": {
      "model_module": "@jupyter-widgets/controls",
      "model_module_version": "1.5.0",
      "model_name": "DescriptionStyleModel",
      "state": {
       "description_width": ""
      }
     },
     "5db07d632cd542a9b24d20bcfd4aac70": {
      "model_module": "@jupyter-widgets/base",
      "model_module_version": "1.2.0",
      "model_name": "LayoutModel",
      "state": {}
     },
     "5ddd64d9eb294e97a9b2be82dd81d447": {
      "model_module": "@jupyter-widgets/controls",
      "model_module_version": "1.5.0",
      "model_name": "DescriptionStyleModel",
      "state": {
       "description_width": ""
      }
     },
     "5e2f6d8128844a608c57fa46b910493a": {
      "model_module": "@jupyter-widgets/controls",
      "model_module_version": "1.5.0",
      "model_name": "ButtonStyleModel",
      "state": {}
     },
     "5e4acc4e6a7d4d0e83f482834b8ae55e": {
      "model_module": "@jupyter-widgets/base",
      "model_module_version": "1.2.0",
      "model_name": "LayoutModel",
      "state": {}
     },
     "5e4ad277b50b456aa7fe7c9d2a580420": {
      "model_module": "@jupyter-widgets/controls",
      "model_module_version": "1.5.0",
      "model_name": "ButtonStyleModel",
      "state": {}
     },
     "5e6462cd0b5448e990256b646b740f0b": {
      "model_module": "@jupyter-widgets/controls",
      "model_module_version": "1.5.0",
      "model_name": "ButtonModel",
      "state": {
       "description": "Mot de passe oublié",
       "layout": "IPY_MODEL_1c8cd882b6994350b6a528be9d3727e3",
       "style": "IPY_MODEL_25228f8be91b41ce96e69d0f6e7b10ce"
      }
     },
     "5f63fc98c4264f5fb692bd47dc157c00": {
      "model_module": "@jupyter-widgets/controls",
      "model_module_version": "1.5.0",
      "model_name": "DescriptionStyleModel",
      "state": {
       "description_width": ""
      }
     },
     "5f65a024727a48458c90ca9291ddd966": {
      "model_module": "@jupyter-widgets/controls",
      "model_module_version": "1.5.0",
      "model_name": "LabelModel",
      "state": {
       "layout": "IPY_MODEL_f6f0eb1f9b7c478493f5464526843b59",
       "style": "IPY_MODEL_60a969137ee54c68818e57247283f78d",
       "value": "Nous vous avons envoyé un Email de réinitialisation à @gmail.com"
      }
     },
     "5fd4294ac526480db7cd7e0e40b8da3f": {
      "model_module": "@jupyter-widgets/controls",
      "model_module_version": "1.5.0",
      "model_name": "DescriptionStyleModel",
      "state": {
       "description_width": ""
      }
     },
     "5ff65b11645c4a079cae402fd7f4d45e": {
      "model_module": "@jupyter-widgets/controls",
      "model_module_version": "1.5.0",
      "model_name": "LabelModel",
      "state": {
       "layout": "IPY_MODEL_b3cd508267874f3486600174f3381a9e",
       "style": "IPY_MODEL_a6381a29c20c461599ed96cd86a655c5",
       "value": "Votre mot de passe est incorrect"
      }
     },
     "607d8d53196f4f13ba44db678b50bdbf": {
      "model_module": "@jupyter-widgets/controls",
      "model_module_version": "1.5.0",
      "model_name": "DescriptionStyleModel",
      "state": {
       "description_width": ""
      }
     },
     "6096e13b5150416b8cf68b5a66f49a0a": {
      "model_module": "@jupyter-widgets/controls",
      "model_module_version": "1.5.0",
      "model_name": "ButtonStyleModel",
      "state": {}
     },
     "60a969137ee54c68818e57247283f78d": {
      "model_module": "@jupyter-widgets/controls",
      "model_module_version": "1.5.0",
      "model_name": "DescriptionStyleModel",
      "state": {
       "description_width": ""
      }
     },
     "60b3ee57b1fe46e9b5bd2af3d9d3797c": {
      "model_module": "@jupyter-widgets/base",
      "model_module_version": "1.2.0",
      "model_name": "LayoutModel",
      "state": {}
     },
     "60ee6d8d399a432b816249c053f134f4": {
      "model_module": "@jupyter-widgets/base",
      "model_module_version": "1.2.0",
      "model_name": "LayoutModel",
      "state": {}
     },
     "6135e753b66e419a87bd70ddfb066c48": {
      "model_module": "@jupyter-widgets/base",
      "model_module_version": "1.2.0",
      "model_name": "LayoutModel",
      "state": {}
     },
     "61f8c65c585946509a89004d2c289ef8": {
      "model_module": "@jupyter-widgets/base",
      "model_module_version": "1.2.0",
      "model_name": "LayoutModel",
      "state": {}
     },
     "620daff9b352490d984b6b7bc585835c": {
      "model_module": "@jupyter-widgets/controls",
      "model_module_version": "1.5.0",
      "model_name": "DescriptionStyleModel",
      "state": {
       "description_width": ""
      }
     },
     "62227cec71004b0ea15a3bfe8f991b83": {
      "model_module": "@jupyter-widgets/controls",
      "model_module_version": "1.5.0",
      "model_name": "DescriptionStyleModel",
      "state": {
       "description_width": ""
      }
     },
     "622c379fe3c843f79788bdbbbb23c981": {
      "model_module": "@jupyter-widgets/controls",
      "model_module_version": "1.5.0",
      "model_name": "DescriptionStyleModel",
      "state": {
       "description_width": ""
      }
     },
     "6284e5c2c565402fac5a7c0dd7ccb472": {
      "model_module": "@jupyter-widgets/base",
      "model_module_version": "1.2.0",
      "model_name": "LayoutModel",
      "state": {}
     },
     "62d4e8f8d04a42f3beea261a978c171a": {
      "model_module": "@jupyter-widgets/controls",
      "model_module_version": "1.5.0",
      "model_name": "ButtonModel",
      "state": {
       "description": "Se connecter",
       "layout": "IPY_MODEL_2900ebbfd50644568692b4b85c20ed67",
       "style": "IPY_MODEL_5e2f6d8128844a608c57fa46b910493a"
      }
     },
     "62dd433c021a428d856daaff0ee073f2": {
      "model_module": "@jupyter-widgets/base",
      "model_module_version": "1.2.0",
      "model_name": "LayoutModel",
      "state": {}
     },
     "62f4bce36aac45f9872913bfb2d8ecca": {
      "model_module": "@jupyter-widgets/controls",
      "model_module_version": "1.5.0",
      "model_name": "DescriptionStyleModel",
      "state": {
       "description_width": ""
      }
     },
     "631d3a5a226b4865bdad60b1cba3ca87": {
      "model_module": "@jupyter-widgets/base",
      "model_module_version": "1.2.0",
      "model_name": "LayoutModel",
      "state": {}
     },
     "635b5bfec6b24d96a818c825e636346a": {
      "model_module": "@jupyter-widgets/controls",
      "model_module_version": "1.5.0",
      "model_name": "DescriptionStyleModel",
      "state": {
       "description_width": ""
      }
     },
     "640f9ab1cf9c4274bc2a965a3af681c9": {
      "model_module": "@jupyter-widgets/controls",
      "model_module_version": "1.5.0",
      "model_name": "DescriptionStyleModel",
      "state": {
       "description_width": ""
      }
     },
     "646451af1f764c369b9630205411ddc4": {
      "model_module": "@jupyter-widgets/controls",
      "model_module_version": "1.5.0",
      "model_name": "LabelModel",
      "state": {
       "layout": "IPY_MODEL_c7cb05b584cd425b8aa4461919f559e3",
       "style": "IPY_MODEL_266a689bedac48c783c00dc2ca5d18f2",
       "value": "Connection en cours ..."
      }
     },
     "6465a5b308f143af80d9e34009a1bfa7": {
      "model_module": "@jupyter-widgets/base",
      "model_module_version": "1.2.0",
      "model_name": "LayoutModel",
      "state": {}
     },
     "6466debab60c47d29eee721e644d75f6": {
      "model_module": "@jupyter-widgets/base",
      "model_module_version": "1.2.0",
      "model_name": "LayoutModel",
      "state": {}
     },
     "655bab64221e47bcbda07d235d6b0e3e": {
      "model_module": "@jupyter-widgets/controls",
      "model_module_version": "1.5.0",
      "model_name": "DescriptionStyleModel",
      "state": {
       "description_width": ""
      }
     },
     "6570d69cc7aa4c7a80aab82b473a2f70": {
      "model_module": "@jupyter-widgets/base",
      "model_module_version": "1.2.0",
      "model_name": "LayoutModel",
      "state": {}
     },
     "658b9cb4ecb74785935d86c285a1dba3": {
      "model_module": "@jupyter-widgets/controls",
      "model_module_version": "1.5.0",
      "model_name": "LabelModel",
      "state": {
       "layout": "IPY_MODEL_91ce34f69f5c45499c00e10191b08cb1",
       "style": "IPY_MODEL_faabe41f277d46b1891f63d198cd0873",
       "value": "Connection en cours ..."
      }
     },
     "65be6b535e304f0dab7a9ccda5db422e": {
      "model_module": "@jupyter-widgets/base",
      "model_module_version": "1.2.0",
      "model_name": "LayoutModel",
      "state": {}
     },
     "66273c80295c43db9ed4c329de5ee162": {
      "model_module": "@jupyter-widgets/controls",
      "model_module_version": "1.5.0",
      "model_name": "LabelModel",
      "state": {
       "layout": "IPY_MODEL_6465a5b308f143af80d9e34009a1bfa7",
       "style": "IPY_MODEL_6e38a1f4a0114cfabf53bc5ed71155bd",
       "value": "Nous vous avons envoyé un Email de réinitialisation à al.capelle97@gmail.com"
      }
     },
     "668ff2cb8974497485c13d58ad327fc9": {
      "model_module": "@jupyter-widgets/controls",
      "model_module_version": "1.5.0",
      "model_name": "DescriptionStyleModel",
      "state": {
       "description_width": ""
      }
     },
     "66b10fcd839441f08bd891a354556106": {
      "model_module": "@jupyter-widgets/controls",
      "model_module_version": "1.5.0",
      "model_name": "DescriptionStyleModel",
      "state": {
       "description_width": ""
      }
     },
     "673c1bd5164a4f80b411575fed59f44e": {
      "model_module": "@jupyter-widgets/controls",
      "model_module_version": "1.5.0",
      "model_name": "DescriptionStyleModel",
      "state": {
       "description_width": ""
      }
     },
     "692878b86b694b38924f11fc85c420a8": {
      "model_module": "@jupyter-widgets/controls",
      "model_module_version": "1.5.0",
      "model_name": "LabelModel",
      "state": {
       "layout": "IPY_MODEL_a2b692deaefc4c89b2bbcbef6f877b77",
       "style": "IPY_MODEL_668ff2cb8974497485c13d58ad327fc9",
       "value": "Connection en cours ..."
      }
     },
     "69a15ac43ff44ba7b0cfd5ed035413fc": {
      "model_module": "@jupyter-widgets/base",
      "model_module_version": "1.2.0",
      "model_name": "LayoutModel",
      "state": {}
     },
     "6ab2a503070f495b89fa4bbd7e1f4d94": {
      "model_module": "@jupyter-widgets/controls",
      "model_module_version": "1.5.0",
      "model_name": "DescriptionStyleModel",
      "state": {
       "description_width": ""
      }
     },
     "6ac20cdd1951450190facc456d8ff364": {
      "model_module": "@jupyter-widgets/base",
      "model_module_version": "1.2.0",
      "model_name": "LayoutModel",
      "state": {}
     },
     "6b027bcaa10c4f4b9a4a274d538bad7d": {
      "model_module": "@jupyter-widgets/controls",
      "model_module_version": "1.5.0",
      "model_name": "DescriptionStyleModel",
      "state": {
       "description_width": ""
      }
     },
     "6b089b520843487aa43679b004ae5556": {
      "model_module": "@jupyter-widgets/controls",
      "model_module_version": "1.5.0",
      "model_name": "LabelModel",
      "state": {
       "layout": "IPY_MODEL_65be6b535e304f0dab7a9ccda5db422e",
       "style": "IPY_MODEL_c8d50e37ff1a42028aa488fc2d2b26c8",
       "value": "Votre mot de passe est incorrect"
      }
     },
     "6b12ef388b224330962b7323ea3d86cd": {
      "model_module": "@jupyter-widgets/base",
      "model_module_version": "1.2.0",
      "model_name": "LayoutModel",
      "state": {}
     },
     "6b43732d1f6e4fc1b608850a4f29df06": {
      "model_module": "@jupyter-widgets/controls",
      "model_module_version": "1.5.0",
      "model_name": "ButtonStyleModel",
      "state": {}
     },
     "6b9354e7f97d4ef5913c2ef0276cf24d": {
      "model_module": "@jupyter-widgets/base",
      "model_module_version": "1.2.0",
      "model_name": "LayoutModel",
      "state": {}
     },
     "6c7e26b7f6b247afbdb2dc4e663ad597": {
      "model_module": "@jupyter-widgets/controls",
      "model_module_version": "1.5.0",
      "model_name": "DescriptionStyleModel",
      "state": {
       "description_width": ""
      }
     },
     "6ce36b40385b434c89e1400f23919759": {
      "model_module": "@jupyter-widgets/controls",
      "model_module_version": "1.5.0",
      "model_name": "DescriptionStyleModel",
      "state": {
       "description_width": ""
      }
     },
     "6d2649c95fbd4479b83fe2cf573f5323": {
      "model_module": "@jupyter-widgets/base",
      "model_module_version": "1.2.0",
      "model_name": "LayoutModel",
      "state": {}
     },
     "6d66d8e324d84eb2aa38f876cf2985d1": {
      "model_module": "@jupyter-widgets/controls",
      "model_module_version": "1.5.0",
      "model_name": "LabelModel",
      "state": {
       "layout": "IPY_MODEL_9e462e6746224d529b9912c03de45406",
       "style": "IPY_MODEL_8e234b55872a40c3b5d233edb8ac5dbb",
       "value": "Nous vous avons envoyé un Email de réinitialisation à @gmail.com"
      }
     },
     "6da1dee89c6f48d3839f00e16631ddf0": {
      "model_module": "@jupyter-widgets/controls",
      "model_module_version": "1.5.0",
      "model_name": "DescriptionStyleModel",
      "state": {
       "description_width": ""
      }
     },
     "6e0e46ee786e437b93ebe7beaed5871c": {
      "model_module": "@jupyter-widgets/controls",
      "model_module_version": "1.5.0",
      "model_name": "LabelModel",
      "state": {
       "layout": "IPY_MODEL_e387f1dfbd894b2f91a6fedd780639d9",
       "style": "IPY_MODEL_146b438a413d4b49b4512fb202794454",
       "value": "Veuillez entrer une adresse Gmail valide (...@gmail.com)"
      }
     },
     "6e17463f37dc4f299b608f5df8421308": {
      "model_module": "@jupyter-widgets/base",
      "model_module_version": "1.2.0",
      "model_name": "LayoutModel",
      "state": {}
     },
     "6e38a1f4a0114cfabf53bc5ed71155bd": {
      "model_module": "@jupyter-widgets/controls",
      "model_module_version": "1.5.0",
      "model_name": "DescriptionStyleModel",
      "state": {
       "description_width": ""
      }
     },
     "6f60e0fba39142b399312878b41cccc6": {
      "model_module": "@jupyter-widgets/base",
      "model_module_version": "1.2.0",
      "model_name": "LayoutModel",
      "state": {}
     },
     "6f8165f65d6940d394371fc2ce230581": {
      "model_module": "@jupyter-widgets/controls",
      "model_module_version": "1.5.0",
      "model_name": "DescriptionStyleModel",
      "state": {
       "description_width": ""
      }
     },
     "6fa7ab60c95d41a2b276be3e255b06e6": {
      "model_module": "@jupyter-widgets/base",
      "model_module_version": "1.2.0",
      "model_name": "LayoutModel",
      "state": {}
     },
     "7091067ac0e946b399e45b5a34433a73": {
      "model_module": "@jupyter-widgets/base",
      "model_module_version": "1.2.0",
      "model_name": "LayoutModel",
      "state": {}
     },
     "709b8d9af4ab48ef96c564fd6895421a": {
      "model_module": "@jupyter-widgets/controls",
      "model_module_version": "1.5.0",
      "model_name": "ButtonStyleModel",
      "state": {}
     },
     "70c6dd6106d1414fa0113ecdf3a08e8b": {
      "model_module": "@jupyter-widgets/controls",
      "model_module_version": "1.5.0",
      "model_name": "LabelModel",
      "state": {
       "layout": "IPY_MODEL_21544e2915d84715af95ad8bff02e554",
       "style": "IPY_MODEL_8bf60c9ba75242b3bab26f97180c3a12",
       "value": "Connection en cours ..."
      }
     },
     "70e5028e667248ffbc34ef240e6cf4c2": {
      "model_module": "@jupyter-widgets/base",
      "model_module_version": "1.2.0",
      "model_name": "LayoutModel",
      "state": {}
     },
     "7102697994304b60b912ec743443fe80": {
      "model_module": "@jupyter-widgets/base",
      "model_module_version": "1.2.0",
      "model_name": "LayoutModel",
      "state": {}
     },
     "710c87d74a79440788d9b4d4d7e60ef6": {
      "model_module": "@jupyter-widgets/controls",
      "model_module_version": "1.5.0",
      "model_name": "DescriptionStyleModel",
      "state": {
       "description_width": ""
      }
     },
     "71144bafd0f74fe3929c8f5d950cb0ad": {
      "model_module": "@jupyter-widgets/controls",
      "model_module_version": "1.5.0",
      "model_name": "DescriptionStyleModel",
      "state": {
       "description_width": ""
      }
     },
     "71a9945516314dea83b5363d9d4b609e": {
      "model_module": "@jupyter-widgets/base",
      "model_module_version": "1.2.0",
      "model_name": "LayoutModel",
      "state": {}
     },
     "71d6fa34eb9c42df81d4ea8fa041b7b5": {
      "model_module": "@jupyter-widgets/controls",
      "model_module_version": "1.5.0",
      "model_name": "ButtonModel",
      "state": {
       "description": "Se connecter",
       "layout": "IPY_MODEL_d42e62c41e354d5596f7b7328a8721e8",
       "style": "IPY_MODEL_d5c75cd40b3346e09602fa0b6ac2e2fb"
      }
     },
     "71e2afbffb304cbb8975006fb3dd6272": {
      "model_module": "@jupyter-widgets/base",
      "model_module_version": "1.2.0",
      "model_name": "LayoutModel",
      "state": {}
     },
     "723c78be7fe54fecb9041d034e584987": {
      "model_module": "@jupyter-widgets/controls",
      "model_module_version": "1.5.0",
      "model_name": "DescriptionStyleModel",
      "state": {
       "description_width": ""
      }
     },
     "73019702c46344f48d9ed8e22d93bbf9": {
      "model_module": "@jupyter-widgets/base",
      "model_module_version": "1.2.0",
      "model_name": "LayoutModel",
      "state": {}
     },
     "73480471e263487c9bcb38d47607a8b6": {
      "model_module": "@jupyter-widgets/base",
      "model_module_version": "1.2.0",
      "model_name": "LayoutModel",
      "state": {}
     },
     "73672aabc4ab445b915764bb4a45f91f": {
      "model_module": "@jupyter-widgets/controls",
      "model_module_version": "1.5.0",
      "model_name": "TextModel",
      "state": {
       "description": "Adresse mail",
       "layout": "IPY_MODEL_a2bf588360754b64b5c7d8da35b836e4",
       "style": "IPY_MODEL_9726bf3463a946ab8f4a14f1e93488a6",
       "value": "alex.capelle97@gmail.com"
      }
     },
     "73ea27777ae241aa820bf88ec2e0e214": {
      "model_module": "@jupyter-widgets/base",
      "model_module_version": "1.2.0",
      "model_name": "LayoutModel",
      "state": {}
     },
     "73eb21af9ebe45f6a3ccdedce096337b": {
      "model_module": "@jupyter-widgets/controls",
      "model_module_version": "1.5.0",
      "model_name": "DescriptionStyleModel",
      "state": {
       "description_width": ""
      }
     },
     "7462fc0cab02477da8f9051be6dc2754": {
      "model_module": "@jupyter-widgets/controls",
      "model_module_version": "1.5.0",
      "model_name": "DescriptionStyleModel",
      "state": {
       "description_width": ""
      }
     },
     "747c49a681c642bd9d49642451e18eee": {
      "model_module": "@jupyter-widgets/controls",
      "model_module_version": "1.5.0",
      "model_name": "DescriptionStyleModel",
      "state": {
       "description_width": ""
      }
     },
     "748a9ba7561143c39d4997c68de2b828": {
      "model_module": "@jupyter-widgets/controls",
      "model_module_version": "1.5.0",
      "model_name": "DescriptionStyleModel",
      "state": {
       "description_width": ""
      }
     },
     "74979213fcc04c5cb380442bb85228ce": {
      "model_module": "@jupyter-widgets/base",
      "model_module_version": "1.2.0",
      "model_name": "LayoutModel",
      "state": {}
     },
     "74d4cdfd435c4aa9baf469574faa1927": {
      "model_module": "@jupyter-widgets/controls",
      "model_module_version": "1.5.0",
      "model_name": "TextModel",
      "state": {
       "description": "Adresse mail",
       "layout": "IPY_MODEL_bee0fdb3af44473da515e9a75e08ed15",
       "style": "IPY_MODEL_d5b2f3df60264144bc8f7a97b1de7b9a",
       "value": "alex.capelle97@gmail.com"
      }
     },
     "74d906d58604481b8f9d3fe6d696a99c": {
      "model_module": "@jupyter-widgets/controls",
      "model_module_version": "1.5.0",
      "model_name": "LabelModel",
      "state": {
       "layout": "IPY_MODEL_c5eb5e7a4ffb4d07b0ed2e8276f62abe",
       "style": "IPY_MODEL_7bd94d4b9b2d4ae18049b6d2fb7c11e3",
       "value": "Nous vous avons envoyé un Email de réinitialisation à @gmail.com"
      }
     },
     "74ee7105ab9d46499a810b1ed8b71852": {
      "model_module": "@jupyter-widgets/controls",
      "model_module_version": "1.5.0",
      "model_name": "TextModel",
      "state": {
       "description": "Adresse mail",
       "layout": "IPY_MODEL_f0a68e6ff75f40239345ca806af8bedc",
       "style": "IPY_MODEL_ca9740513dbf44eeb65feb2b47691740",
       "value": "a@gmail.com"
      }
     },
     "7510e55714c44857b2a56307e9b2a72b": {
      "model_module": "@jupyter-widgets/base",
      "model_module_version": "1.2.0",
      "model_name": "LayoutModel",
      "state": {}
     },
     "759e72d7ec51455db9ac49305902c454": {
      "model_module": "@jupyter-widgets/controls",
      "model_module_version": "1.5.0",
      "model_name": "LabelModel",
      "state": {
       "layout": "IPY_MODEL_9553f9b713594bac877b1914eb2f1206",
       "style": "IPY_MODEL_a478e2b1abcb43b69131db4043881275",
       "value": "Connection en cours ..."
      }
     },
     "75be058b69a141a8a808a2bdc1026682": {
      "model_module": "@jupyter-widgets/controls",
      "model_module_version": "1.5.0",
      "model_name": "LabelModel",
      "state": {
       "layout": "IPY_MODEL_20f62f0f6be746179589f22bc759d804",
       "style": "IPY_MODEL_bc2f5373c75d4a0aac9956a1e688a51b",
       "value": "Connection en cours ..."
      }
     },
     "75e22d0c67634c3fbfe2abec5e0ee2fa": {
      "model_module": "@jupyter-widgets/controls",
      "model_module_version": "1.5.0",
      "model_name": "ButtonStyleModel",
      "state": {}
     },
     "76310fea4cf845c9a3b5d2c37dcba605": {
      "model_module": "@jupyter-widgets/base",
      "model_module_version": "1.2.0",
      "model_name": "LayoutModel",
      "state": {}
     },
     "7697787f767e4ce9ba337a1d0ba17682": {
      "model_module": "@jupyter-widgets/base",
      "model_module_version": "1.2.0",
      "model_name": "LayoutModel",
      "state": {}
     },
     "76bb1b8027dc478b937251a1286cd74b": {
      "model_module": "@jupyter-widgets/controls",
      "model_module_version": "1.5.0",
      "model_name": "PasswordModel",
      "state": {
       "description": "Mot de passe",
       "layout": "IPY_MODEL_a8a4e01f3fc144a8b60d42d1534af8a7",
       "style": "IPY_MODEL_071bc014f4df462c92118e8dd4fefb10"
      }
     },
     "76db16fb860047909b0fe9c0f30918a6": {
      "model_module": "@jupyter-widgets/controls",
      "model_module_version": "1.5.0",
      "model_name": "DescriptionStyleModel",
      "state": {
       "description_width": ""
      }
     },
     "7707b8b82c6646bd9c472f927d9a1ab6": {
      "model_module": "@jupyter-widgets/base",
      "model_module_version": "1.2.0",
      "model_name": "LayoutModel",
      "state": {}
     },
     "774dde0c1bd245bea349c15e41d49f9f": {
      "model_module": "@jupyter-widgets/controls",
      "model_module_version": "1.5.0",
      "model_name": "ButtonModel",
      "state": {
       "description": "Se connecter",
       "layout": "IPY_MODEL_451a1307c3eb4cd68ac861a120db1a3d",
       "style": "IPY_MODEL_f7b208a0b85e4b0286cefeec109e0775"
      }
     },
     "775b54f49c4a4ec5b67c3917cadc842b": {
      "model_module": "@jupyter-widgets/controls",
      "model_module_version": "1.5.0",
      "model_name": "DescriptionStyleModel",
      "state": {
       "description_width": ""
      }
     },
     "77959f6db512423db6f3bef008d09f52": {
      "model_module": "@jupyter-widgets/base",
      "model_module_version": "1.2.0",
      "model_name": "LayoutModel",
      "state": {}
     },
     "785945401ad64b929921da4c6e608703": {
      "model_module": "@jupyter-widgets/controls",
      "model_module_version": "1.5.0",
      "model_name": "DescriptionStyleModel",
      "state": {
       "description_width": ""
      }
     },
     "78edca48875b4190bacda6a84eae032e": {
      "model_module": "@jupyter-widgets/base",
      "model_module_version": "1.2.0",
      "model_name": "LayoutModel",
      "state": {}
     },
     "79564dc0e0b44a4196a63a2e366f238a": {
      "model_module": "@jupyter-widgets/controls",
      "model_module_version": "1.5.0",
      "model_name": "ButtonStyleModel",
      "state": {}
     },
     "796bc8563bbd4291a7bad2776ef3b1ad": {
      "model_module": "@jupyter-widgets/controls",
      "model_module_version": "1.5.0",
      "model_name": "ButtonModel",
      "state": {
       "description": "Se connecter",
       "layout": "IPY_MODEL_904d7f8bf3c94e10a98aaa4b045895db",
       "style": "IPY_MODEL_d1afa71b6f7e439e956e732700f2b39b"
      }
     },
     "796fc098024244ac909e925476e05a8f": {
      "model_module": "@jupyter-widgets/controls",
      "model_module_version": "1.5.0",
      "model_name": "DescriptionStyleModel",
      "state": {
       "description_width": ""
      }
     },
     "7972ec3c38864dbaa4713e336d567c88": {
      "model_module": "@jupyter-widgets/controls",
      "model_module_version": "1.5.0",
      "model_name": "DescriptionStyleModel",
      "state": {
       "description_width": ""
      }
     },
     "79a7b0eb12144996abf97b1658fd136f": {
      "model_module": "@jupyter-widgets/controls",
      "model_module_version": "1.5.0",
      "model_name": "DescriptionStyleModel",
      "state": {
       "description_width": ""
      }
     },
     "79ecd3d83785437eba5d25b07d3c1a6c": {
      "model_module": "@jupyter-widgets/controls",
      "model_module_version": "1.5.0",
      "model_name": "LabelModel",
      "state": {
       "layout": "IPY_MODEL_2949de8653cb48babb35664e42355cc0",
       "style": "IPY_MODEL_de498a4bcb8c45c2aaa843cf9534cfb5",
       "value": "Connection en cours ..."
      }
     },
     "79ef4dde3c44429c8d17b44787280c9e": {
      "model_module": "@jupyter-widgets/controls",
      "model_module_version": "1.5.0",
      "model_name": "DescriptionStyleModel",
      "state": {
       "description_width": ""
      }
     },
     "7a239216962b4be68a575a865162ad66": {
      "model_module": "@jupyter-widgets/controls",
      "model_module_version": "1.5.0",
      "model_name": "LabelModel",
      "state": {
       "layout": "IPY_MODEL_418e234ac0c743c6b6a11bac8263863c",
       "style": "IPY_MODEL_ba26568f13d04303b5d3e018540a6be8",
       "value": "Votre mot de passe est incorrect"
      }
     },
     "7ac8417817ce4eb2900a6950376bb2a0": {
      "model_module": "@jupyter-widgets/base",
      "model_module_version": "1.2.0",
      "model_name": "LayoutModel",
      "state": {}
     },
     "7b4eda7d83ed4f06ac46321eb55cb479": {
      "model_module": "@jupyter-widgets/base",
      "model_module_version": "1.2.0",
      "model_name": "LayoutModel",
      "state": {}
     },
     "7b61d66963f54cefb8e5eba03fd854a9": {
      "model_module": "@jupyter-widgets/controls",
      "model_module_version": "1.5.0",
      "model_name": "TextModel",
      "state": {
       "description": "Adresse mail",
       "layout": "IPY_MODEL_6e17463f37dc4f299b608f5df8421308",
       "style": "IPY_MODEL_b4c66ee9e26a49f2a779a891b3b8b30a",
       "value": "al.capelle97@gmail.com"
      }
     },
     "7bd94d4b9b2d4ae18049b6d2fb7c11e3": {
      "model_module": "@jupyter-widgets/controls",
      "model_module_version": "1.5.0",
      "model_name": "DescriptionStyleModel",
      "state": {
       "description_width": ""
      }
     },
     "7c010102361748dcb8eec591d27a41c6": {
      "model_module": "@jupyter-widgets/controls",
      "model_module_version": "1.5.0",
      "model_name": "DescriptionStyleModel",
      "state": {
       "description_width": ""
      }
     },
     "7c0530d1fa844840b9787100b99283b9": {
      "model_module": "@jupyter-widgets/controls",
      "model_module_version": "1.5.0",
      "model_name": "ButtonStyleModel",
      "state": {}
     },
     "7c5e682b191f4dea8bccc35dd99b55b3": {
      "model_module": "@jupyter-widgets/base",
      "model_module_version": "1.2.0",
      "model_name": "LayoutModel",
      "state": {}
     },
     "7c615466f22443a89a71580fefc5ce18": {
      "model_module": "@jupyter-widgets/controls",
      "model_module_version": "1.5.0",
      "model_name": "LabelModel",
      "state": {
       "layout": "IPY_MODEL_edc82193539d4b48ba509724572c9b80",
       "style": "IPY_MODEL_7f64cd5a5c394cf69bc1cee4350cce7f",
       "value": "Votre adresse mail n'est pas reconnue"
      }
     },
     "7d038b1ddc724d3f8c8722f19a285675": {
      "model_module": "@jupyter-widgets/controls",
      "model_module_version": "1.5.0",
      "model_name": "PasswordModel",
      "state": {
       "description": "Mot de passe",
       "layout": "IPY_MODEL_de89e47b0f9641798e397c0d246499ad",
       "style": "IPY_MODEL_e4c2b1c8a90c4b10b4d1bf52769366b0"
      }
     },
     "7d4821bea0164594be0ef37a23cd8326": {
      "model_module": "@jupyter-widgets/base",
      "model_module_version": "1.2.0",
      "model_name": "LayoutModel",
      "state": {}
     },
     "7d4d371d51504160be7fe117f502e38f": {
      "model_module": "@jupyter-widgets/controls",
      "model_module_version": "1.5.0",
      "model_name": "DescriptionStyleModel",
      "state": {
       "description_width": ""
      }
     },
     "7d975f77e2d34a08a171bb4b34364b28": {
      "model_module": "@jupyter-widgets/controls",
      "model_module_version": "1.5.0",
      "model_name": "LabelModel",
      "state": {
       "layout": "IPY_MODEL_17dd4ff56ff64051a4f348ae5c298d7b",
       "style": "IPY_MODEL_bbf2992920b64e2f89f92e2f2305afab",
       "value": "Votre mot de passe est incorrect"
      }
     },
     "7db65087f25346489f29a3ca0c42dbe7": {
      "model_module": "@jupyter-widgets/controls",
      "model_module_version": "1.5.0",
      "model_name": "ButtonModel",
      "state": {
       "description": "Se connecter",
       "layout": "IPY_MODEL_dc11ae6ef9c94e51bdfbb5f8d42cde9f",
       "style": "IPY_MODEL_bf0ad660b7844aca82a6fb8fba494644"
      }
     },
     "7e5cda3ed5144d64a0ce5ae261a82905": {
      "model_module": "@jupyter-widgets/controls",
      "model_module_version": "1.5.0",
      "model_name": "ButtonStyleModel",
      "state": {}
     },
     "7e6d3df7e7ba4153829848388c4b6518": {
      "model_module": "@jupyter-widgets/controls",
      "model_module_version": "1.5.0",
      "model_name": "DescriptionStyleModel",
      "state": {
       "description_width": ""
      }
     },
     "7e94326cb46c487dbbcd25b17d4c0f9f": {
      "model_module": "@jupyter-widgets/base",
      "model_module_version": "1.2.0",
      "model_name": "LayoutModel",
      "state": {}
     },
     "7ec759bd45b244bc8122af8b04976260": {
      "model_module": "@jupyter-widgets/base",
      "model_module_version": "1.2.0",
      "model_name": "LayoutModel",
      "state": {}
     },
     "7f214477a7f343d6ae9567da8e5505db": {
      "model_module": "@jupyter-widgets/controls",
      "model_module_version": "1.5.0",
      "model_name": "DescriptionStyleModel",
      "state": {
       "description_width": ""
      }
     },
     "7f64cd5a5c394cf69bc1cee4350cce7f": {
      "model_module": "@jupyter-widgets/controls",
      "model_module_version": "1.5.0",
      "model_name": "DescriptionStyleModel",
      "state": {
       "description_width": ""
      }
     },
     "7f966a95ec314964b862a8cc8414a6a9": {
      "model_module": "@jupyter-widgets/base",
      "model_module_version": "1.2.0",
      "model_name": "LayoutModel",
      "state": {}
     },
     "7f9709d9af5a4b3eb822694a5e280217": {
      "model_module": "@jupyter-widgets/controls",
      "model_module_version": "1.5.0",
      "model_name": "LabelModel",
      "state": {
       "layout": "IPY_MODEL_1540740faecd4acebf5edd77040a7725",
       "style": "IPY_MODEL_710c87d74a79440788d9b4d4d7e60ef6",
       "value": "Veuillez entrer une adresse Gmail valide (...@gmail.com)"
      }
     },
     "7ff11af95e69418e8179ca7c5c72534f": {
      "model_module": "@jupyter-widgets/controls",
      "model_module_version": "1.5.0",
      "model_name": "DescriptionStyleModel",
      "state": {
       "description_width": ""
      }
     },
     "8051696670764f9e924d440f135cb0d8": {
      "model_module": "@jupyter-widgets/base",
      "model_module_version": "1.2.0",
      "model_name": "LayoutModel",
      "state": {}
     },
     "806e6de3be60450a8655e6083dd2e85c": {
      "model_module": "@jupyter-widgets/controls",
      "model_module_version": "1.5.0",
      "model_name": "DescriptionStyleModel",
      "state": {
       "description_width": ""
      }
     },
     "80bed169217e477190d556baaffe02e4": {
      "model_module": "@jupyter-widgets/controls",
      "model_module_version": "1.5.0",
      "model_name": "DescriptionStyleModel",
      "state": {
       "description_width": ""
      }
     },
     "810e3398d0e741cdb442bc1fdbb3058c": {
      "model_module": "@jupyter-widgets/base",
      "model_module_version": "1.2.0",
      "model_name": "LayoutModel",
      "state": {}
     },
     "8177d6a9088e4da5a9262d64cf953df9": {
      "model_module": "@jupyter-widgets/controls",
      "model_module_version": "1.5.0",
      "model_name": "LabelModel",
      "state": {
       "layout": "IPY_MODEL_2d9b284e10444948930ec1f38712cf38",
       "style": "IPY_MODEL_b15b61281adb4dbb8f3e51ee86b514ce",
       "value": "Votre mot de passe est incorrect"
      }
     },
     "82013a3b37e3495f95b88ae3622ee473": {
      "model_module": "@jupyter-widgets/controls",
      "model_module_version": "1.5.0",
      "model_name": "DescriptionStyleModel",
      "state": {
       "description_width": ""
      }
     },
     "824991f6646b4a61b85cb04717f5c50c": {
      "model_module": "@jupyter-widgets/base",
      "model_module_version": "1.2.0",
      "model_name": "LayoutModel",
      "state": {}
     },
     "8290bcb7f6d0410c941dcc1badf05dd7": {
      "model_module": "@jupyter-widgets/controls",
      "model_module_version": "1.5.0",
      "model_name": "DescriptionStyleModel",
      "state": {
       "description_width": ""
      }
     },
     "82e0e557cdca41458333807cdb833c9e": {
      "model_module": "@jupyter-widgets/controls",
      "model_module_version": "1.5.0",
      "model_name": "LabelModel",
      "state": {
       "layout": "IPY_MODEL_0d6a253aa75c4c4f8aafefa2d378d671",
       "style": "IPY_MODEL_bc84392c1f1b48049d5e25ed65b1bbfa",
       "value": "Connection en cours ..."
      }
     },
     "8301c898a0184c358b5ede97e542fd46": {
      "model_module": "@jupyter-widgets/base",
      "model_module_version": "1.2.0",
      "model_name": "LayoutModel",
      "state": {}
     },
     "832646bee28040aca6da0c8e676f8377": {
      "model_module": "@jupyter-widgets/base",
      "model_module_version": "1.2.0",
      "model_name": "LayoutModel",
      "state": {}
     },
     "8334b3878511489dbfb5d94b76dd1ad9": {
      "model_module": "@jupyter-widgets/controls",
      "model_module_version": "1.5.0",
      "model_name": "DescriptionStyleModel",
      "state": {
       "description_width": ""
      }
     },
     "8530228127314d3da0a45a3fba9c0e53": {
      "model_module": "@jupyter-widgets/controls",
      "model_module_version": "1.5.0",
      "model_name": "DescriptionStyleModel",
      "state": {
       "description_width": ""
      }
     },
     "85fb5e433bca4d229f74958f732ea1b7": {
      "model_module": "@jupyter-widgets/controls",
      "model_module_version": "1.5.0",
      "model_name": "DescriptionStyleModel",
      "state": {
       "description_width": ""
      }
     },
     "85fcdbd07e0549f697646b6e414660e8": {
      "model_module": "@jupyter-widgets/base",
      "model_module_version": "1.2.0",
      "model_name": "LayoutModel",
      "state": {}
     },
     "8641ae11ea404ccfbf65aece27a10c37": {
      "model_module": "@jupyter-widgets/controls",
      "model_module_version": "1.5.0",
      "model_name": "DescriptionStyleModel",
      "state": {
       "description_width": ""
      }
     },
     "873ca88429364f608ab608d0e09f1f2c": {
      "model_module": "@jupyter-widgets/base",
      "model_module_version": "1.2.0",
      "model_name": "LayoutModel",
      "state": {}
     },
     "8776bf52465249a89a00b54d5ed7ba61": {
      "model_module": "@jupyter-widgets/base",
      "model_module_version": "1.2.0",
      "model_name": "LayoutModel",
      "state": {}
     },
     "87950fda226e4fbf88f62846ef3a3651": {
      "model_module": "@jupyter-widgets/controls",
      "model_module_version": "1.5.0",
      "model_name": "LabelModel",
      "state": {
       "layout": "IPY_MODEL_0bc62204674940648d086a01c1dfa2d9",
       "style": "IPY_MODEL_364e1f6c4a92434c8a4e0767b23d10f8",
       "value": "Connection en cours ..."
      }
     },
     "87a0da9be6814e98bb4628d981e1f3af": {
      "model_module": "@jupyter-widgets/controls",
      "model_module_version": "1.5.0",
      "model_name": "TextModel",
      "state": {
       "description": "Adresse mail",
       "layout": "IPY_MODEL_44d25c16baa9402a9009aa7676878554",
       "style": "IPY_MODEL_0e0580714b6543e89b898bea334e61ec",
       "value": "alex.capelle97@gmail.com"
      }
     },
     "88ff66d6e3be4474a92119c55620ae5a": {
      "model_module": "@jupyter-widgets/base",
      "model_module_version": "1.2.0",
      "model_name": "LayoutModel",
      "state": {}
     },
     "8902245065a94c4a8e560b334763eb09": {
      "model_module": "@jupyter-widgets/controls",
      "model_module_version": "1.5.0",
      "model_name": "LabelModel",
      "state": {
       "layout": "IPY_MODEL_8944ec09e9994d78a2af2e59b381d711",
       "style": "IPY_MODEL_ef09710f5b184e5db9c00ece192d80c9",
       "value": "Votre mot de passe est incorrect"
      }
     },
     "892982fc1e7248469587384a1287bfdc": {
      "model_module": "@jupyter-widgets/controls",
      "model_module_version": "1.5.0",
      "model_name": "ButtonStyleModel",
      "state": {}
     },
     "8944172185e64cc190de51f6af218f68": {
      "model_module": "@jupyter-widgets/controls",
      "model_module_version": "1.5.0",
      "model_name": "DescriptionStyleModel",
      "state": {
       "description_width": ""
      }
     },
     "8944ec09e9994d78a2af2e59b381d711": {
      "model_module": "@jupyter-widgets/base",
      "model_module_version": "1.2.0",
      "model_name": "LayoutModel",
      "state": {}
     },
     "894552c0dcdc40f3beef18eee18a3706": {
      "model_module": "@jupyter-widgets/controls",
      "model_module_version": "1.5.0",
      "model_name": "DescriptionStyleModel",
      "state": {
       "description_width": ""
      }
     },
     "897357692ed54f3b97175c2c47aa7e80": {
      "model_module": "@jupyter-widgets/controls",
      "model_module_version": "1.5.0",
      "model_name": "ButtonStyleModel",
      "state": {}
     },
     "8975f98279eb48128530318304a8db2c": {
      "model_module": "@jupyter-widgets/controls",
      "model_module_version": "1.5.0",
      "model_name": "ButtonStyleModel",
      "state": {}
     },
     "89ec82940c8748348f29b083edf1b7a4": {
      "model_module": "@jupyter-widgets/controls",
      "model_module_version": "1.5.0",
      "model_name": "TextModel",
      "state": {
       "description": "Adresse mail",
       "layout": "IPY_MODEL_fc4cae926dfd4a98a347a7d0954ce17c",
       "style": "IPY_MODEL_622c379fe3c843f79788bdbbbb23c981",
       "value": "alex.capelle97@gmail.com"
      }
     },
     "8a6fa486479c471fa8d36a3b997db8f3": {
      "model_module": "@jupyter-widgets/controls",
      "model_module_version": "1.5.0",
      "model_name": "DescriptionStyleModel",
      "state": {
       "description_width": ""
      }
     },
     "8b376bf12b0f46c8a702069187b0c892": {
      "model_module": "@jupyter-widgets/controls",
      "model_module_version": "1.5.0",
      "model_name": "LabelModel",
      "state": {
       "layout": "IPY_MODEL_311bf7c550064ef19880febfcb6977fb",
       "style": "IPY_MODEL_c8a614d355374374b1417ef9099d9608",
       "value": "Votre adresse mail n'est pas reconnue"
      }
     },
     "8b688da1fe32439195d4aea94bd29af7": {
      "model_module": "@jupyter-widgets/controls",
      "model_module_version": "1.5.0",
      "model_name": "TextModel",
      "state": {
       "description": "Adresse mail",
       "layout": "IPY_MODEL_2a6bf70911964de0b4b554d1e821aa1d",
       "style": "IPY_MODEL_3b206249520c4474941a0da97fc7ca31",
       "value": "a@gmail.com"
      }
     },
     "8b972ea3f5b2447ea143906cf8f60076": {
      "model_module": "@jupyter-widgets/controls",
      "model_module_version": "1.5.0",
      "model_name": "LabelModel",
      "state": {
       "layout": "IPY_MODEL_4891bd3c99ba4a37ac9cdb63e1004204",
       "style": "IPY_MODEL_73eb21af9ebe45f6a3ccdedce096337b",
       "value": "Votre mot de passe est incorrect"
      }
     },
     "8bb514be1ac0413e9381ebd0b9004fd4": {
      "model_module": "@jupyter-widgets/base",
      "model_module_version": "1.2.0",
      "model_name": "LayoutModel",
      "state": {}
     },
     "8bf60c9ba75242b3bab26f97180c3a12": {
      "model_module": "@jupyter-widgets/controls",
      "model_module_version": "1.5.0",
      "model_name": "DescriptionStyleModel",
      "state": {
       "description_width": ""
      }
     },
     "8c66d17c2c534a3695c1bf2c04901cce": {
      "model_module": "@jupyter-widgets/controls",
      "model_module_version": "1.5.0",
      "model_name": "TextModel",
      "state": {
       "description": "Adresse mail",
       "layout": "IPY_MODEL_6d2649c95fbd4479b83fe2cf573f5323",
       "style": "IPY_MODEL_e4d582707db84417ab4c16494b7a59d1",
       "value": "a@gmail.com"
      }
     },
     "8cc4d9cd1a9c499e8d3e7b823aa72677": {
      "model_module": "@jupyter-widgets/base",
      "model_module_version": "1.2.0",
      "model_name": "LayoutModel",
      "state": {}
     },
     "8d128ca2ba704f27ae931a412ed9ba0f": {
      "model_module": "@jupyter-widgets/controls",
      "model_module_version": "1.5.0",
      "model_name": "DescriptionStyleModel",
      "state": {
       "description_width": ""
      }
     },
     "8d1db196bcd5433181c64c3adceef2bd": {
      "model_module": "@jupyter-widgets/controls",
      "model_module_version": "1.5.0",
      "model_name": "PasswordModel",
      "state": {
       "description": "Mot de passe",
       "layout": "IPY_MODEL_73019702c46344f48d9ed8e22d93bbf9",
       "style": "IPY_MODEL_aec03d65333649d3ac24888ce03b27f1",
       "value": "a"
      }
     },
     "8d5a14601d50498da505e2a4ee7d731c": {
      "model_module": "@jupyter-widgets/base",
      "model_module_version": "1.2.0",
      "model_name": "LayoutModel",
      "state": {}
     },
     "8dd51b8d1e254669b8db315f784d0d2f": {
      "model_module": "@jupyter-widgets/controls",
      "model_module_version": "1.5.0",
      "model_name": "DescriptionStyleModel",
      "state": {
       "description_width": ""
      }
     },
     "8e07542677e74263a4d63c59baf43b2e": {
      "model_module": "@jupyter-widgets/controls",
      "model_module_version": "1.5.0",
      "model_name": "ButtonModel",
      "state": {
       "description": "Se connecter",
       "layout": "IPY_MODEL_9b9954bc089647a8a24cd17b46086305",
       "style": "IPY_MODEL_cd8fa00cd0e2415eb7145f960f0c23dd"
      }
     },
     "8e234b55872a40c3b5d233edb8ac5dbb": {
      "model_module": "@jupyter-widgets/controls",
      "model_module_version": "1.5.0",
      "model_name": "DescriptionStyleModel",
      "state": {
       "description_width": ""
      }
     },
     "8e2a751a6bff4de5bfc875fec9243775": {
      "model_module": "@jupyter-widgets/base",
      "model_module_version": "1.2.0",
      "model_name": "LayoutModel",
      "state": {}
     },
     "8e66c01e08ee4f0e8e66e577f404f9c2": {
      "model_module": "@jupyter-widgets/controls",
      "model_module_version": "1.5.0",
      "model_name": "DescriptionStyleModel",
      "state": {
       "description_width": ""
      }
     },
     "8ee0e9ce2a994d39807e259a7cbc8702": {
      "model_module": "@jupyter-widgets/base",
      "model_module_version": "1.2.0",
      "model_name": "LayoutModel",
      "state": {}
     },
     "8eed6db75d034b8a9fc1c2ae01a6ad37": {
      "model_module": "@jupyter-widgets/controls",
      "model_module_version": "1.5.0",
      "model_name": "DescriptionStyleModel",
      "state": {
       "description_width": ""
      }
     },
     "8f2e0c287fd1477fba705be00473b674": {
      "model_module": "@jupyter-widgets/base",
      "model_module_version": "1.2.0",
      "model_name": "LayoutModel",
      "state": {}
     },
     "8f48b6e9d4f449fd8e0b39f4d9970fcc": {
      "model_module": "@jupyter-widgets/controls",
      "model_module_version": "1.5.0",
      "model_name": "ButtonStyleModel",
      "state": {}
     },
     "8f5dad7572bf4e02870991d28488d377": {
      "model_module": "@jupyter-widgets/controls",
      "model_module_version": "1.5.0",
      "model_name": "PasswordModel",
      "state": {
       "description": "Mot de passe",
       "layout": "IPY_MODEL_bdf0beaa36564aff98f8a927d5708215",
       "style": "IPY_MODEL_0e34746b610c489a8e63a2d6ab522d3e"
      }
     },
     "902a1e5d5e3d43639c1721a77f5e7282": {
      "model_module": "@jupyter-widgets/controls",
      "model_module_version": "1.5.0",
      "model_name": "DescriptionStyleModel",
      "state": {
       "description_width": ""
      }
     },
     "904d7f8bf3c94e10a98aaa4b045895db": {
      "model_module": "@jupyter-widgets/base",
      "model_module_version": "1.2.0",
      "model_name": "LayoutModel",
      "state": {}
     },
     "908c1adcdf674b9a982a086d0956cf2e": {
      "model_module": "@jupyter-widgets/base",
      "model_module_version": "1.2.0",
      "model_name": "LayoutModel",
      "state": {}
     },
     "90f8cd4b274049f79e410ffc3f10c599": {
      "model_module": "@jupyter-widgets/base",
      "model_module_version": "1.2.0",
      "model_name": "LayoutModel",
      "state": {}
     },
     "91ce34f69f5c45499c00e10191b08cb1": {
      "model_module": "@jupyter-widgets/base",
      "model_module_version": "1.2.0",
      "model_name": "LayoutModel",
      "state": {}
     },
     "91d53823fd234979b8df0309d7152c44": {
      "model_module": "@jupyter-widgets/controls",
      "model_module_version": "1.5.0",
      "model_name": "ButtonStyleModel",
      "state": {}
     },
     "922a8d4288e84514bdbc8dc112c01912": {
      "model_module": "@jupyter-widgets/controls",
      "model_module_version": "1.5.0",
      "model_name": "DescriptionStyleModel",
      "state": {
       "description_width": ""
      }
     },
     "92541d09324844d28f335beaa9428543": {
      "model_module": "@jupyter-widgets/base",
      "model_module_version": "1.2.0",
      "model_name": "LayoutModel",
      "state": {}
     },
     "92854cf19b5d48be9d1d0aa94f7ae082": {
      "model_module": "@jupyter-widgets/controls",
      "model_module_version": "1.5.0",
      "model_name": "DescriptionStyleModel",
      "state": {
       "description_width": ""
      }
     },
     "929d2803bf114310a983b5a3df013bcf": {
      "model_module": "@jupyter-widgets/controls",
      "model_module_version": "1.5.0",
      "model_name": "LabelModel",
      "state": {
       "layout": "IPY_MODEL_7f966a95ec314964b862a8cc8414a6a9",
       "style": "IPY_MODEL_8530228127314d3da0a45a3fba9c0e53",
       "value": "Votre mot de passe est incorrect"
      }
     },
     "930544e78c4c41c7b67bda52f528061d": {
      "model_module": "@jupyter-widgets/base",
      "model_module_version": "1.2.0",
      "model_name": "LayoutModel",
      "state": {}
     },
     "931a3b2573554a5ab87d30c6b733f8dd": {
      "model_module": "@jupyter-widgets/base",
      "model_module_version": "1.2.0",
      "model_name": "LayoutModel",
      "state": {}
     },
     "934dca8b2613438e9c27e00e0478e5e0": {
      "model_module": "@jupyter-widgets/controls",
      "model_module_version": "1.5.0",
      "model_name": "DescriptionStyleModel",
      "state": {
       "description_width": ""
      }
     },
     "939a1b4e666d4a76920e1635a18f063b": {
      "model_module": "@jupyter-widgets/controls",
      "model_module_version": "1.5.0",
      "model_name": "LabelModel",
      "state": {
       "layout": "IPY_MODEL_b41839a93211406dac945c9101794120",
       "style": "IPY_MODEL_934dca8b2613438e9c27e00e0478e5e0",
       "value": "Votre mot de passe est incorrect"
      }
     },
     "93d55a39781644efb349e0a1828725f4": {
      "model_module": "@jupyter-widgets/base",
      "model_module_version": "1.2.0",
      "model_name": "LayoutModel",
      "state": {}
     },
     "93f4092ae35e4a19a63f41ec1053dd4c": {
      "model_module": "@jupyter-widgets/controls",
      "model_module_version": "1.5.0",
      "model_name": "LabelModel",
      "state": {
       "layout": "IPY_MODEL_cb688cf9fa7c478db5c493fa4a235a56",
       "style": "IPY_MODEL_3d6d1ae269964219886398922318d9c8",
       "value": "Votre mot de passe est incorrect"
      }
     },
     "94171d59d5fc4bdcb730beea28c5a9e9": {
      "model_module": "@jupyter-widgets/controls",
      "model_module_version": "1.5.0",
      "model_name": "LabelModel",
      "state": {
       "layout": "IPY_MODEL_af7ef1eb1a624753a23e74d9fc920db9",
       "style": "IPY_MODEL_b5b338616a2f4100bd424e66cd930f8a",
       "value": "Nous vous avons envoyé un Email de réinitialisation à alex.capelle97@gmail.com"
      }
     },
     "948909a354c84ca4b56b7ea9285f22c9": {
      "model_module": "@jupyter-widgets/controls",
      "model_module_version": "1.5.0",
      "model_name": "LabelModel",
      "state": {
       "layout": "IPY_MODEL_5296d5dd46154556b12d200aa472e969",
       "style": "IPY_MODEL_e6fd0fa08b934f44812a8aa1b8d5e05e",
       "value": "Veuillez entrer une adresse Gmail valide (...@gmail.com)"
      }
     },
     "948e709af8054b1aa60259ae75a8103f": {
      "model_module": "@jupyter-widgets/controls",
      "model_module_version": "1.5.0",
      "model_name": "DescriptionStyleModel",
      "state": {
       "description_width": ""
      }
     },
     "9553f9b713594bac877b1914eb2f1206": {
      "model_module": "@jupyter-widgets/base",
      "model_module_version": "1.2.0",
      "model_name": "LayoutModel",
      "state": {}
     },
     "962966770f8a420fbe8436ac93e52b13": {
      "model_module": "@jupyter-widgets/controls",
      "model_module_version": "1.5.0",
      "model_name": "PasswordModel",
      "state": {
       "description": "Mot de passe",
       "layout": "IPY_MODEL_115efa7b06004b8c9563cfa516c09ee3",
       "style": "IPY_MODEL_98774744da3a4b198101fc8c71d57035"
      }
     },
     "963afaa0810449a1b1ac32807f761b14": {
      "model_module": "@jupyter-widgets/base",
      "model_module_version": "1.2.0",
      "model_name": "LayoutModel",
      "state": {}
     },
     "963d5b97edaf4d52b8795ea475100e76": {
      "model_module": "@jupyter-widgets/controls",
      "model_module_version": "1.5.0",
      "model_name": "DescriptionStyleModel",
      "state": {
       "description_width": ""
      }
     },
     "964d025ccd334838a1cc24086c80c645": {
      "model_module": "@jupyter-widgets/controls",
      "model_module_version": "1.5.0",
      "model_name": "LabelModel",
      "state": {
       "layout": "IPY_MODEL_6466debab60c47d29eee721e644d75f6",
       "style": "IPY_MODEL_e3a678e27ffc49b99799f1caea95e205",
       "value": "Votre mot de passe est incorrect"
      }
     },
     "96611b43a16540338b01d285a784d2b8": {
      "model_module": "@jupyter-widgets/base",
      "model_module_version": "1.2.0",
      "model_name": "LayoutModel",
      "state": {}
     },
     "966abfa93bd64af49ae7f4083ba44a03": {
      "model_module": "@jupyter-widgets/base",
      "model_module_version": "1.2.0",
      "model_name": "LayoutModel",
      "state": {}
     },
     "96931e22f126425eb8ced961b3b709ce": {
      "model_module": "@jupyter-widgets/controls",
      "model_module_version": "1.5.0",
      "model_name": "DescriptionStyleModel",
      "state": {
       "description_width": ""
      }
     },
     "971e258b52834de7b25f6742ceb25500": {
      "model_module": "@jupyter-widgets/base",
      "model_module_version": "1.2.0",
      "model_name": "LayoutModel",
      "state": {}
     },
     "9726bf3463a946ab8f4a14f1e93488a6": {
      "model_module": "@jupyter-widgets/controls",
      "model_module_version": "1.5.0",
      "model_name": "DescriptionStyleModel",
      "state": {
       "description_width": ""
      }
     },
     "97378cc7dd2442b19f3cc383f0b347d9": {
      "model_module": "@jupyter-widgets/controls",
      "model_module_version": "1.5.0",
      "model_name": "ButtonModel",
      "state": {
       "description": "Mot de passe oublié",
       "layout": "IPY_MODEL_c7b808caa90f4da9a2053d8bb7641109",
       "style": "IPY_MODEL_f6287dd9eeb54b2488aac032cb7d8296"
      }
     },
     "97525198a9924d2ebfc4ffb1971c1624": {
      "model_module": "@jupyter-widgets/controls",
      "model_module_version": "1.5.0",
      "model_name": "DescriptionStyleModel",
      "state": {
       "description_width": ""
      }
     },
     "9764b7a6b6d84e99bde67c0221df5433": {
      "model_module": "@jupyter-widgets/controls",
      "model_module_version": "1.5.0",
      "model_name": "PasswordModel",
      "state": {
       "description": "Mot de passe",
       "layout": "IPY_MODEL_241df38dde7146fba6e30ff5028077fd",
       "style": "IPY_MODEL_40f48f6e3f1542b589004d4f9e0c6e2f"
      }
     },
     "978e352bb87e43d2b1bfd133f2638815": {
      "model_module": "@jupyter-widgets/base",
      "model_module_version": "1.2.0",
      "model_name": "LayoutModel",
      "state": {}
     },
     "97cda0e7173e4c518c9a2c444ac8033e": {
      "model_module": "@jupyter-widgets/base",
      "model_module_version": "1.2.0",
      "model_name": "LayoutModel",
      "state": {}
     },
     "986167a2250b425abaf811c81974a1a6": {
      "model_module": "@jupyter-widgets/base",
      "model_module_version": "1.2.0",
      "model_name": "LayoutModel",
      "state": {}
     },
     "98774744da3a4b198101fc8c71d57035": {
      "model_module": "@jupyter-widgets/controls",
      "model_module_version": "1.5.0",
      "model_name": "DescriptionStyleModel",
      "state": {
       "description_width": ""
      }
     },
     "98a85c5fce8c41f7ab9887fa11e52b48": {
      "model_module": "@jupyter-widgets/controls",
      "model_module_version": "1.5.0",
      "model_name": "LabelModel",
      "state": {
       "layout": "IPY_MODEL_29dcc6e4d88a49658084bb00a404ec37",
       "style": "IPY_MODEL_e440d2b5444c4f2eb309ed596cfe527f",
       "value": "Nous vous avons envoyé un Email de réinitialisation à @gmail.com"
      }
     },
     "991b5cc2f98b409f82cb2f47af222474": {
      "model_module": "@jupyter-widgets/controls",
      "model_module_version": "1.5.0",
      "model_name": "LabelModel",
      "state": {
       "layout": "IPY_MODEL_8d5a14601d50498da505e2a4ee7d731c",
       "style": "IPY_MODEL_723c78be7fe54fecb9041d034e584987",
       "value": "Veuillez entrer une adresse Gmail valide (...@gmail.com)"
      }
     },
     "994344310dcf47038c63996bfe5200f4": {
      "model_module": "@jupyter-widgets/base",
      "model_module_version": "1.2.0",
      "model_name": "LayoutModel",
      "state": {}
     },
     "9a11105fbfe446a1b36d3825356ce97a": {
      "model_module": "@jupyter-widgets/controls",
      "model_module_version": "1.5.0",
      "model_name": "ButtonStyleModel",
      "state": {}
     },
     "9a5414e5f3cc4bf994e73e6277413577": {
      "model_module": "@jupyter-widgets/controls",
      "model_module_version": "1.5.0",
      "model_name": "DescriptionStyleModel",
      "state": {
       "description_width": ""
      }
     },
     "9b0f29c4587348089f01ed7392df6bd8": {
      "model_module": "@jupyter-widgets/controls",
      "model_module_version": "1.5.0",
      "model_name": "DescriptionStyleModel",
      "state": {
       "description_width": ""
      }
     },
     "9b9954bc089647a8a24cd17b46086305": {
      "model_module": "@jupyter-widgets/base",
      "model_module_version": "1.2.0",
      "model_name": "LayoutModel",
      "state": {}
     },
     "9c4eabb78d154bddb33fac2eb7a8c2c0": {
      "model_module": "@jupyter-widgets/controls",
      "model_module_version": "1.5.0",
      "model_name": "DescriptionStyleModel",
      "state": {
       "description_width": ""
      }
     },
     "9c818635b5f6488b8fcbbaa173f8f570": {
      "model_module": "@jupyter-widgets/base",
      "model_module_version": "1.2.0",
      "model_name": "LayoutModel",
      "state": {}
     },
     "9c9e967d97114b7e8b26e78a86d1fea9": {
      "model_module": "@jupyter-widgets/base",
      "model_module_version": "1.2.0",
      "model_name": "LayoutModel",
      "state": {}
     },
     "9ca45cb5bb6d4aa086208dc40ed655bb": {
      "model_module": "@jupyter-widgets/controls",
      "model_module_version": "1.5.0",
      "model_name": "DescriptionStyleModel",
      "state": {
       "description_width": ""
      }
     },
     "9cf4cb0ddef247b9aea4882518bc709f": {
      "model_module": "@jupyter-widgets/controls",
      "model_module_version": "1.5.0",
      "model_name": "LabelModel",
      "state": {
       "layout": "IPY_MODEL_49cf3b11850040b19908951586752815",
       "style": "IPY_MODEL_cfeaadd4cc6040c39aaa7555cb559a42",
       "value": "Connection en cours ..."
      }
     },
     "9cf8983ca4f74c2d893d1cb39dedcd24": {
      "model_module": "@jupyter-widgets/controls",
      "model_module_version": "1.5.0",
      "model_name": "ButtonModel",
      "state": {
       "description": "Se connecter",
       "layout": "IPY_MODEL_07394ec289074205895331055a3fe2ac",
       "style": "IPY_MODEL_cb73056071ac4bf5ab8857681f6f153a"
      }
     },
     "9d425666ebb944eca139288485454f77": {
      "model_module": "@jupyter-widgets/controls",
      "model_module_version": "1.5.0",
      "model_name": "LabelModel",
      "state": {
       "layout": "IPY_MODEL_49725dc805c14d86b01b3f5632c0e1a8",
       "style": "IPY_MODEL_e8ad536e126f4eb2bf96b343f6cbfb7e",
       "value": "Nous vous avons envoyé un Email de réinitialisation à @gmail.com"
      }
     },
     "9d8b82578a07441cad20456d256bdc01": {
      "model_module": "@jupyter-widgets/controls",
      "model_module_version": "1.5.0",
      "model_name": "PasswordModel",
      "state": {
       "description": "Mot de passe",
       "layout": "IPY_MODEL_f47a9f99ba5f4265884c60c79af72434",
       "style": "IPY_MODEL_fd3d06f05b4b48568ef6ff141e8bd499",
       "value": "a"
      }
     },
     "9dd5af4c14634e8a9aeaa1988205f660": {
      "model_module": "@jupyter-widgets/controls",
      "model_module_version": "1.5.0",
      "model_name": "DescriptionStyleModel",
      "state": {
       "description_width": ""
      }
     },
     "9dfbe6d0e91645afab086f725bb6c934": {
      "model_module": "@jupyter-widgets/base",
      "model_module_version": "1.2.0",
      "model_name": "LayoutModel",
      "state": {}
     },
     "9e37c39ce70f454ea73cf0430cc03c28": {
      "model_module": "@jupyter-widgets/controls",
      "model_module_version": "1.5.0",
      "model_name": "DescriptionStyleModel",
      "state": {
       "description_width": ""
      }
     },
     "9e462e6746224d529b9912c03de45406": {
      "model_module": "@jupyter-widgets/base",
      "model_module_version": "1.2.0",
      "model_name": "LayoutModel",
      "state": {}
     },
     "9e4afc97bb0f4737bdb4b5365c420d5f": {
      "model_module": "@jupyter-widgets/controls",
      "model_module_version": "1.5.0",
      "model_name": "ButtonModel",
      "state": {
       "description": "Mot de passe oublié",
       "layout": "IPY_MODEL_2ac0fb60989842698d91a24e856cfa30",
       "style": "IPY_MODEL_897357692ed54f3b97175c2c47aa7e80"
      }
     },
     "9f431554cb534bca8be98954cf0a9d2c": {
      "model_module": "@jupyter-widgets/controls",
      "model_module_version": "1.5.0",
      "model_name": "PasswordModel",
      "state": {
       "description": "Mot de passe",
       "layout": "IPY_MODEL_96611b43a16540338b01d285a784d2b8",
       "style": "IPY_MODEL_ebe141b3c910473790ba4e6b023b4bd8"
      }
     },
     "9f48bf63203d43e48c07f7a2f1b53738": {
      "model_module": "@jupyter-widgets/base",
      "model_module_version": "1.2.0",
      "model_name": "LayoutModel",
      "state": {}
     },
     "a065858b547f4fb4987b0a9a61dcfd31": {
      "model_module": "@jupyter-widgets/base",
      "model_module_version": "1.2.0",
      "model_name": "LayoutModel",
      "state": {}
     },
     "a069c9c23b054734be53eacd1553e885": {
      "model_module": "@jupyter-widgets/controls",
      "model_module_version": "1.5.0",
      "model_name": "ButtonStyleModel",
      "state": {}
     },
     "a07458fcdac24a01935d1aae1181c7b0": {
      "model_module": "@jupyter-widgets/controls",
      "model_module_version": "1.5.0",
      "model_name": "DescriptionStyleModel",
      "state": {
       "description_width": ""
      }
     },
     "a0f7ac7b4d674794866e55d916070f27": {
      "model_module": "@jupyter-widgets/controls",
      "model_module_version": "1.5.0",
      "model_name": "DescriptionStyleModel",
      "state": {
       "description_width": ""
      }
     },
     "a11bc312bc994872a6a4de82cb19885b": {
      "model_module": "@jupyter-widgets/controls",
      "model_module_version": "1.5.0",
      "model_name": "ButtonStyleModel",
      "state": {}
     },
     "a19c8e27e68f468b8554badc1496d430": {
      "model_module": "@jupyter-widgets/controls",
      "model_module_version": "1.5.0",
      "model_name": "DescriptionStyleModel",
      "state": {
       "description_width": ""
      }
     },
     "a1c529ea15d5403b8e33e7a2312f7dea": {
      "model_module": "@jupyter-widgets/controls",
      "model_module_version": "1.5.0",
      "model_name": "LabelModel",
      "state": {
       "layout": "IPY_MODEL_094974c0624a4982b65dc949ddd97b44",
       "style": "IPY_MODEL_df24d52e862647bc95ace12a7d5cee3c",
       "value": "Votre mot de passe est incorrect"
      }
     },
     "a1f8524175b349c0b87297c0626949a0": {
      "model_module": "@jupyter-widgets/controls",
      "model_module_version": "1.5.0",
      "model_name": "DescriptionStyleModel",
      "state": {
       "description_width": ""
      }
     },
     "a2813bdf3a4c453aad6e375ff28d073c": {
      "model_module": "@jupyter-widgets/controls",
      "model_module_version": "1.5.0",
      "model_name": "LabelModel",
      "state": {
       "layout": "IPY_MODEL_d2868aecc01d448a8e679a0af433ed48",
       "style": "IPY_MODEL_1f30e45a73a54ac8a272c788648d24ef",
       "value": "Nous vous avons envoyé un Email de réinitialisation à @gmail.com"
      }
     },
     "a2b692deaefc4c89b2bbcbef6f877b77": {
      "model_module": "@jupyter-widgets/base",
      "model_module_version": "1.2.0",
      "model_name": "LayoutModel",
      "state": {}
     },
     "a2bf588360754b64b5c7d8da35b836e4": {
      "model_module": "@jupyter-widgets/base",
      "model_module_version": "1.2.0",
      "model_name": "LayoutModel",
      "state": {}
     },
     "a32fa13ee76747eea1145906d6e392fb": {
      "model_module": "@jupyter-widgets/base",
      "model_module_version": "1.2.0",
      "model_name": "LayoutModel",
      "state": {}
     },
     "a34d797bf4724b5ca68911590ba0619c": {
      "model_module": "@jupyter-widgets/controls",
      "model_module_version": "1.5.0",
      "model_name": "DescriptionStyleModel",
      "state": {
       "description_width": ""
      }
     },
     "a3738b94685f4b3cb1d48e5d3a9d7de5": {
      "model_module": "@jupyter-widgets/base",
      "model_module_version": "1.2.0",
      "model_name": "LayoutModel",
      "state": {}
     },
     "a3ae3ed97f0b40218ac1193d332cf896": {
      "model_module": "@jupyter-widgets/controls",
      "model_module_version": "1.5.0",
      "model_name": "LabelModel",
      "state": {
       "layout": "IPY_MODEL_b85093451b62431791df8e880e8b8948",
       "style": "IPY_MODEL_0a982e31ec0b4cca9eadb6c59ce0e0ed",
       "value": "Veuillez entrer une adresse Gmail valide (...@gmail.com)"
      }
     },
     "a407fba1be7d40849cb3a39773190d0a": {
      "model_module": "@jupyter-widgets/controls",
      "model_module_version": "1.5.0",
      "model_name": "DescriptionStyleModel",
      "state": {
       "description_width": ""
      }
     },
     "a40a14f176984128b91779d71b697189": {
      "model_module": "@jupyter-widgets/controls",
      "model_module_version": "1.5.0",
      "model_name": "DescriptionStyleModel",
      "state": {
       "description_width": ""
      }
     },
     "a45319f4418842a1847afa3c62a97e64": {
      "model_module": "@jupyter-widgets/controls",
      "model_module_version": "1.5.0",
      "model_name": "ButtonStyleModel",
      "state": {}
     },
     "a478e2b1abcb43b69131db4043881275": {
      "model_module": "@jupyter-widgets/controls",
      "model_module_version": "1.5.0",
      "model_name": "DescriptionStyleModel",
      "state": {
       "description_width": ""
      }
     },
     "a4c5a8901a474531a31821c52b6d1033": {
      "model_module": "@jupyter-widgets/controls",
      "model_module_version": "1.5.0",
      "model_name": "DescriptionStyleModel",
      "state": {
       "description_width": ""
      }
     },
     "a4d33c690add4820bf22ad0d99e70bc3": {
      "model_module": "@jupyter-widgets/base",
      "model_module_version": "1.2.0",
      "model_name": "LayoutModel",
      "state": {}
     },
     "a52ba67bf91640178d768e21e2c5fd03": {
      "model_module": "@jupyter-widgets/controls",
      "model_module_version": "1.5.0",
      "model_name": "LabelModel",
      "state": {
       "layout": "IPY_MODEL_fa38ab22725242708b27e05ef1dccf49",
       "style": "IPY_MODEL_8e66c01e08ee4f0e8e66e577f404f9c2",
       "value": "Votre adresse mail n'est pas reconnue"
      }
     },
     "a530dd6c6a0441c5b8c1827027ce8cc0": {
      "model_module": "@jupyter-widgets/controls",
      "model_module_version": "1.5.0",
      "model_name": "LabelModel",
      "state": {
       "layout": "IPY_MODEL_c13f64c94e6f4dbf861b87c841292a2a",
       "style": "IPY_MODEL_9ca45cb5bb6d4aa086208dc40ed655bb",
       "value": "Votre adresse mail n'est pas reconnue"
      }
     },
     "a54c2b871e2f4c30b24c2c2863793646": {
      "model_module": "@jupyter-widgets/base",
      "model_module_version": "1.2.0",
      "model_name": "LayoutModel",
      "state": {}
     },
     "a5abf11ebd004985a2d73744679fa8e9": {
      "model_module": "@jupyter-widgets/controls",
      "model_module_version": "1.5.0",
      "model_name": "LabelModel",
      "state": {
       "layout": "IPY_MODEL_ce2a4a4e6c87445bb06cf08a4ec74fda",
       "style": "IPY_MODEL_021e363d5fed4fdab48337617b02c13b",
       "value": "Votre adresse mail n'est pas reconnue"
      }
     },
     "a6381a29c20c461599ed96cd86a655c5": {
      "model_module": "@jupyter-widgets/controls",
      "model_module_version": "1.5.0",
      "model_name": "DescriptionStyleModel",
      "state": {
       "description_width": ""
      }
     },
     "a644f4533af9464f97d08a92a9a45067": {
      "model_module": "@jupyter-widgets/base",
      "model_module_version": "1.2.0",
      "model_name": "LayoutModel",
      "state": {}
     },
     "a6c92097e5774a369c4a891dce76d308": {
      "model_module": "@jupyter-widgets/controls",
      "model_module_version": "1.5.0",
      "model_name": "LabelModel",
      "state": {
       "layout": "IPY_MODEL_9c818635b5f6488b8fcbbaa173f8f570",
       "style": "IPY_MODEL_2fefa373e7e2454aad6c9fe445191182",
       "value": "Veuillez entrer une adresse Gmail valide (...@gmail.com)"
      }
     },
     "a76bffff698242ceb90a0f1087748109": {
      "model_module": "@jupyter-widgets/controls",
      "model_module_version": "1.5.0",
      "model_name": "DescriptionStyleModel",
      "state": {
       "description_width": ""
      }
     },
     "a77317d28cd04c99ad2416fa41857860": {
      "model_module": "@jupyter-widgets/base",
      "model_module_version": "1.2.0",
      "model_name": "LayoutModel",
      "state": {}
     },
     "a77e49ae61234fdda20c3b6ba085f5a7": {
      "model_module": "@jupyter-widgets/base",
      "model_module_version": "1.2.0",
      "model_name": "LayoutModel",
      "state": {}
     },
     "a7c29040aa674d8285ddf0e47b8c3350": {
      "model_module": "@jupyter-widgets/controls",
      "model_module_version": "1.5.0",
      "model_name": "DescriptionStyleModel",
      "state": {
       "description_width": ""
      }
     },
     "a7e6861e26e44be1bcb35a2a2b264d12": {
      "model_module": "@jupyter-widgets/controls",
      "model_module_version": "1.5.0",
      "model_name": "DescriptionStyleModel",
      "state": {
       "description_width": ""
      }
     },
     "a80084c8e70c48db99fd5b57f24e5179": {
      "model_module": "@jupyter-widgets/controls",
      "model_module_version": "1.5.0",
      "model_name": "DescriptionStyleModel",
      "state": {
       "description_width": ""
      }
     },
     "a85a5fa66643402290711a1a543af6b3": {
      "model_module": "@jupyter-widgets/base",
      "model_module_version": "1.2.0",
      "model_name": "LayoutModel",
      "state": {}
     },
     "a8a4e01f3fc144a8b60d42d1534af8a7": {
      "model_module": "@jupyter-widgets/base",
      "model_module_version": "1.2.0",
      "model_name": "LayoutModel",
      "state": {}
     },
     "a8ba7ecba5274ddbb91785e0fe3f585f": {
      "model_module": "@jupyter-widgets/base",
      "model_module_version": "1.2.0",
      "model_name": "LayoutModel",
      "state": {}
     },
     "a921ec783e564447929ee6cafe5b4d44": {
      "model_module": "@jupyter-widgets/controls",
      "model_module_version": "1.5.0",
      "model_name": "LabelModel",
      "state": {
       "layout": "IPY_MODEL_477562329d694b49b80fb83c58cdca49",
       "style": "IPY_MODEL_8dd51b8d1e254669b8db315f784d0d2f",
       "value": "Veuillez entrer une adresse Gmail valide (...@gmail.com)"
      }
     },
     "a944dadfaf314004ac430da7cf356178": {
      "model_module": "@jupyter-widgets/controls",
      "model_module_version": "1.5.0",
      "model_name": "TextModel",
      "state": {
       "description": "Adresse mail",
       "layout": "IPY_MODEL_b89f4c9e810348499f4d1e23ccdd6ec3",
       "style": "IPY_MODEL_4ca938a523254e8c9c72290cbfb2de4e",
       "value": "@gmail.com"
      }
     },
     "a9961e6b476e496c9d2e1adb56b05974": {
      "model_module": "@jupyter-widgets/controls",
      "model_module_version": "1.5.0",
      "model_name": "DescriptionStyleModel",
      "state": {
       "description_width": ""
      }
     },
     "a997bec7f0f748d9a87d59d098aafb37": {
      "model_module": "@jupyter-widgets/base",
      "model_module_version": "1.2.0",
      "model_name": "LayoutModel",
      "state": {}
     },
     "ab86ada5216949e1a64eb0f1ca06c5a2": {
      "model_module": "@jupyter-widgets/controls",
      "model_module_version": "1.5.0",
      "model_name": "LabelModel",
      "state": {
       "layout": "IPY_MODEL_a54c2b871e2f4c30b24c2c2863793646",
       "style": "IPY_MODEL_62227cec71004b0ea15a3bfe8f991b83",
       "value": "Veuillez entrer une adresse Gmail valide (...@gmail.com)"
      }
     },
     "ac6a29faf6bc40e1aef3c00cc1038891": {
      "model_module": "@jupyter-widgets/base",
      "model_module_version": "1.2.0",
      "model_name": "LayoutModel",
      "state": {}
     },
     "aca8b24424804decbc5b66f0bd99a810": {
      "model_module": "@jupyter-widgets/controls",
      "model_module_version": "1.5.0",
      "model_name": "ButtonModel",
      "state": {
       "description": "Mot de passe oublié",
       "layout": "IPY_MODEL_f0969c603a344c5086282265fb86aacb",
       "style": "IPY_MODEL_7e5cda3ed5144d64a0ce5ae261a82905"
      }
     },
     "acb52324e6df4bfaa955f3dd404b1962": {
      "model_module": "@jupyter-widgets/controls",
      "model_module_version": "1.5.0",
      "model_name": "ButtonStyleModel",
      "state": {}
     },
     "acdb0d56e3874884a44ee653533b6f53": {
      "model_module": "@jupyter-widgets/base",
      "model_module_version": "1.2.0",
      "model_name": "LayoutModel",
      "state": {}
     },
     "ad6ab174e45d491f9f587bfd6b2f6ff4": {
      "model_module": "@jupyter-widgets/base",
      "model_module_version": "1.2.0",
      "model_name": "LayoutModel",
      "state": {}
     },
     "ae0903d9d55a4199884e311d41167db3": {
      "model_module": "@jupyter-widgets/base",
      "model_module_version": "1.2.0",
      "model_name": "LayoutModel",
      "state": {}
     },
     "ae3f5b1ee2e3423b901e38d88949799b": {
      "model_module": "@jupyter-widgets/controls",
      "model_module_version": "1.5.0",
      "model_name": "LabelModel",
      "state": {
       "layout": "IPY_MODEL_48fbaabdadae4fe397a82034a6a5aab1",
       "style": "IPY_MODEL_8641ae11ea404ccfbf65aece27a10c37",
       "value": "Votre adresse mail n'est pas reconnue"
      }
     },
     "aea7907ba75e42b8bee0746db0d4cd4b": {
      "model_module": "@jupyter-widgets/controls",
      "model_module_version": "1.5.0",
      "model_name": "LabelModel",
      "state": {
       "layout": "IPY_MODEL_ce101a8e452e4603addb1d048ab08d89",
       "style": "IPY_MODEL_0decaaa26304415c9a9dbb6216676e93",
       "value": "Veuillez entrer une adresse Gmail valide (...@gmail.com)"
      }
     },
     "aeb06ae7dda3480ab02e6244918cc7ac": {
      "model_module": "@jupyter-widgets/base",
      "model_module_version": "1.2.0",
      "model_name": "LayoutModel",
      "state": {}
     },
     "aec03d65333649d3ac24888ce03b27f1": {
      "model_module": "@jupyter-widgets/controls",
      "model_module_version": "1.5.0",
      "model_name": "DescriptionStyleModel",
      "state": {
       "description_width": ""
      }
     },
     "af016548987341adaf9713c81ba1d1a5": {
      "model_module": "@jupyter-widgets/base",
      "model_module_version": "1.2.0",
      "model_name": "LayoutModel",
      "state": {}
     },
     "af0fe36da2a74d59912922ad077e8546": {
      "model_module": "@jupyter-widgets/controls",
      "model_module_version": "1.5.0",
      "model_name": "ButtonStyleModel",
      "state": {}
     },
     "af2f698ac37f436b9e3d1c9292bdb9ed": {
      "model_module": "@jupyter-widgets/controls",
      "model_module_version": "1.5.0",
      "model_name": "DescriptionStyleModel",
      "state": {
       "description_width": ""
      }
     },
     "af44c94b329f4b47a1ef64241f90cddb": {
      "model_module": "@jupyter-widgets/controls",
      "model_module_version": "1.5.0",
      "model_name": "LabelModel",
      "state": {
       "layout": "IPY_MODEL_77959f6db512423db6f3bef008d09f52",
       "style": "IPY_MODEL_a7c29040aa674d8285ddf0e47b8c3350",
       "value": "Votre mot de passe est incorrect"
      }
     },
     "af610752940749a3b29966b34b0ff8c6": {
      "model_module": "@jupyter-widgets/controls",
      "model_module_version": "1.5.0",
      "model_name": "LabelModel",
      "state": {
       "layout": "IPY_MODEL_ceccce2dd5294412b610806af415b006",
       "style": "IPY_MODEL_963d5b97edaf4d52b8795ea475100e76",
       "value": "Connection en cours ..."
      }
     },
     "af7ef1eb1a624753a23e74d9fc920db9": {
      "model_module": "@jupyter-widgets/base",
      "model_module_version": "1.2.0",
      "model_name": "LayoutModel",
      "state": {}
     },
     "afa783fcacc7477bbcd65d540f552ba2": {
      "model_module": "@jupyter-widgets/controls",
      "model_module_version": "1.5.0",
      "model_name": "LabelModel",
      "state": {
       "layout": "IPY_MODEL_ea904bd785074f25a7b600ce13274fd1",
       "style": "IPY_MODEL_16e4e0f5a3634075a797286671c92475",
       "value": "Veuillez entrer une adresse Gmail valide (...@gmail.com)"
      }
     },
     "afa79e27b15d48739383bed25eea3878": {
      "model_module": "@jupyter-widgets/base",
      "model_module_version": "1.2.0",
      "model_name": "LayoutModel",
      "state": {}
     },
     "b05df3f90b52408d9aeaad6b88edcce1": {
      "model_module": "@jupyter-widgets/controls",
      "model_module_version": "1.5.0",
      "model_name": "DescriptionStyleModel",
      "state": {
       "description_width": ""
      }
     },
     "b095392bd3144dd9b4eee2c2bba9273a": {
      "model_module": "@jupyter-widgets/base",
      "model_module_version": "1.2.0",
      "model_name": "LayoutModel",
      "state": {}
     },
     "b129b201320c448baf5f92c359ff47ed": {
      "model_module": "@jupyter-widgets/base",
      "model_module_version": "1.2.0",
      "model_name": "LayoutModel",
      "state": {}
     },
     "b13d289a88574e9c927d163f37710b86": {
      "model_module": "@jupyter-widgets/base",
      "model_module_version": "1.2.0",
      "model_name": "LayoutModel",
      "state": {}
     },
     "b1512d40f2dd485a8fc0d11554198f7d": {
      "model_module": "@jupyter-widgets/controls",
      "model_module_version": "1.5.0",
      "model_name": "ButtonModel",
      "state": {
       "description": "Mot de passe oublié",
       "layout": "IPY_MODEL_824991f6646b4a61b85cb04717f5c50c",
       "style": "IPY_MODEL_91d53823fd234979b8df0309d7152c44"
      }
     },
     "b15b61281adb4dbb8f3e51ee86b514ce": {
      "model_module": "@jupyter-widgets/controls",
      "model_module_version": "1.5.0",
      "model_name": "DescriptionStyleModel",
      "state": {
       "description_width": ""
      }
     },
     "b189e001c00a49b188c0523f6603c8b3": {
      "model_module": "@jupyter-widgets/controls",
      "model_module_version": "1.5.0",
      "model_name": "DescriptionStyleModel",
      "state": {
       "description_width": ""
      }
     },
     "b19a169ca9814d6a844f0362365a5970": {
      "model_module": "@jupyter-widgets/controls",
      "model_module_version": "1.5.0",
      "model_name": "LabelModel",
      "state": {
       "layout": "IPY_MODEL_0a59be41cec54854823776502dd4d57e",
       "style": "IPY_MODEL_534db98968d34df488b294bad7e048ef",
       "value": "Veuillez entrer une adresse Gmail valide (...@gmail.com)"
      }
     },
     "b1bfab2b2a9645dbab9f5b181df00c8b": {
      "model_module": "@jupyter-widgets/controls",
      "model_module_version": "1.5.0",
      "model_name": "DescriptionStyleModel",
      "state": {
       "description_width": ""
      }
     },
     "b1dcfd7fa1094709b22b7ed292264ff9": {
      "model_module": "@jupyter-widgets/base",
      "model_module_version": "1.2.0",
      "model_name": "LayoutModel",
      "state": {}
     },
     "b21b9897b2b440db8b8555d9eee595d9": {
      "model_module": "@jupyter-widgets/controls",
      "model_module_version": "1.5.0",
      "model_name": "ButtonStyleModel",
      "state": {}
     },
     "b23b3f0317d34806ac216062a06d19c3": {
      "model_module": "@jupyter-widgets/controls",
      "model_module_version": "1.5.0",
      "model_name": "DescriptionStyleModel",
      "state": {
       "description_width": ""
      }
     },
     "b24f1cd95d7d48d2a03022f0348b79b6": {
      "model_module": "@jupyter-widgets/base",
      "model_module_version": "1.2.0",
      "model_name": "LayoutModel",
      "state": {}
     },
     "b25df67b99eb4cf2a946bb653a9e4354": {
      "model_module": "@jupyter-widgets/controls",
      "model_module_version": "1.5.0",
      "model_name": "DescriptionStyleModel",
      "state": {
       "description_width": ""
      }
     },
     "b2637f5a403b4bf09aebfa38ec8c5097": {
      "model_module": "@jupyter-widgets/controls",
      "model_module_version": "1.5.0",
      "model_name": "LabelModel",
      "state": {
       "layout": "IPY_MODEL_32e09b7b986142f4aa504572ed610ecc",
       "style": "IPY_MODEL_011ef67433e541af98bc11cf15d3cf0e",
       "value": "Connection en cours ..."
      }
     },
     "b26cb883ac2f457a9bdbcf5ac7713d5c": {
      "model_module": "@jupyter-widgets/controls",
      "model_module_version": "1.5.0",
      "model_name": "LabelModel",
      "state": {
       "layout": "IPY_MODEL_501eb3cd7e9d4697bbbc9a14f79896ed",
       "style": "IPY_MODEL_c170ae38eb6b4e50a94903d9fd024b4f",
       "value": "Connection en cours ..."
      }
     },
     "b2bbf5767f8d4975890f308e1d2416c1": {
      "model_module": "@jupyter-widgets/controls",
      "model_module_version": "1.5.0",
      "model_name": "ButtonStyleModel",
      "state": {}
     },
     "b2de76a6bad0440a96adf3c06ca8d17d": {
      "model_module": "@jupyter-widgets/controls",
      "model_module_version": "1.5.0",
      "model_name": "DescriptionStyleModel",
      "state": {
       "description_width": ""
      }
     },
     "b2fc38d90ac64185ae946ed6d9361731": {
      "model_module": "@jupyter-widgets/controls",
      "model_module_version": "1.5.0",
      "model_name": "LabelModel",
      "state": {
       "layout": "IPY_MODEL_1bea59322792482b8b8299afdf3f1178",
       "style": "IPY_MODEL_a4c5a8901a474531a31821c52b6d1033",
       "value": "Connection en cours ..."
      }
     },
     "b34ac39cf5aa45479a20cb44f97030fd": {
      "model_module": "@jupyter-widgets/controls",
      "model_module_version": "1.5.0",
      "model_name": "LabelModel",
      "state": {
       "layout": "IPY_MODEL_dcd4d05ddb5842eca1060c7020c03308",
       "style": "IPY_MODEL_047e9206346f424f8d14d0f0b2c8668a",
       "value": "Nous vous avons envoyé un Email de réinitialisation à @gmail.com"
      }
     },
     "b39390ee3167455587372e68de1be3a7": {
      "model_module": "@jupyter-widgets/controls",
      "model_module_version": "1.5.0",
      "model_name": "DescriptionStyleModel",
      "state": {
       "description_width": ""
      }
     },
     "b39fa3bb530442879b66bc724dbb1428": {
      "model_module": "@jupyter-widgets/base",
      "model_module_version": "1.2.0",
      "model_name": "LayoutModel",
      "state": {}
     },
     "b3cd508267874f3486600174f3381a9e": {
      "model_module": "@jupyter-widgets/base",
      "model_module_version": "1.2.0",
      "model_name": "LayoutModel",
      "state": {}
     },
     "b4060d64e95c48d5944ab72bdc32a45d": {
      "model_module": "@jupyter-widgets/base",
      "model_module_version": "1.2.0",
      "model_name": "LayoutModel",
      "state": {}
     },
     "b406a8aa51ce4f8881f37a36eb48c671": {
      "model_module": "@jupyter-widgets/base",
      "model_module_version": "1.2.0",
      "model_name": "LayoutModel",
      "state": {}
     },
     "b41839a93211406dac945c9101794120": {
      "model_module": "@jupyter-widgets/base",
      "model_module_version": "1.2.0",
      "model_name": "LayoutModel",
      "state": {}
     },
     "b44f86f58fb44ba09078f0fea2258cc6": {
      "model_module": "@jupyter-widgets/controls",
      "model_module_version": "1.5.0",
      "model_name": "ButtonModel",
      "state": {
       "description": "Mot de passe oublié",
       "layout": "IPY_MODEL_4df86c472f5e4327a311390a08ba5de9",
       "style": "IPY_MODEL_b2bbf5767f8d4975890f308e1d2416c1"
      }
     },
     "b4c66ee9e26a49f2a779a891b3b8b30a": {
      "model_module": "@jupyter-widgets/controls",
      "model_module_version": "1.5.0",
      "model_name": "DescriptionStyleModel",
      "state": {
       "description_width": ""
      }
     },
     "b4fb71f61cc44b4fb76dadcccd822d48": {
      "model_module": "@jupyter-widgets/controls",
      "model_module_version": "1.5.0",
      "model_name": "TextModel",
      "state": {
       "description": "Adresse mail",
       "layout": "IPY_MODEL_d46e1a6e754e447190c92cc9ecd3f9c6",
       "style": "IPY_MODEL_37ffc22a9abd42e2b64382d4b2e3d68c",
       "value": "@gmail.com"
      }
     },
     "b5153d68d9ec485d90ad095b41467d3b": {
      "model_module": "@jupyter-widgets/controls",
      "model_module_version": "1.5.0",
      "model_name": "DescriptionStyleModel",
      "state": {
       "description_width": ""
      }
     },
     "b579cf95bcd9476689354a322a60fa4d": {
      "model_module": "@jupyter-widgets/base",
      "model_module_version": "1.2.0",
      "model_name": "LayoutModel",
      "state": {}
     },
     "b5b338616a2f4100bd424e66cd930f8a": {
      "model_module": "@jupyter-widgets/controls",
      "model_module_version": "1.5.0",
      "model_name": "DescriptionStyleModel",
      "state": {
       "description_width": ""
      }
     },
     "b5cc4a078f89498095e2d8de4dfa2d64": {
      "model_module": "@jupyter-widgets/controls",
      "model_module_version": "1.5.0",
      "model_name": "DescriptionStyleModel",
      "state": {
       "description_width": ""
      }
     },
     "b6376fa8cd7e41c6a54acaaa33030164": {
      "model_module": "@jupyter-widgets/base",
      "model_module_version": "1.2.0",
      "model_name": "LayoutModel",
      "state": {}
     },
     "b651f278797a4ab68d9c7ac507bcf928": {
      "model_module": "@jupyter-widgets/controls",
      "model_module_version": "1.5.0",
      "model_name": "DescriptionStyleModel",
      "state": {
       "description_width": ""
      }
     },
     "b6cf9df2aaaf4b6bace95a989fb01a5b": {
      "model_module": "@jupyter-widgets/controls",
      "model_module_version": "1.5.0",
      "model_name": "LabelModel",
      "state": {
       "layout": "IPY_MODEL_8cc4d9cd1a9c499e8d3e7b823aa72677",
       "style": "IPY_MODEL_f12f0c17d0e44423aef1c9b355f85d48",
       "value": "Veuillez entrer une adresse Gmail valide (...@gmail.com)"
      }
     },
     "b7066ca45cdc4b1f8de2e80a563d1266": {
      "model_module": "@jupyter-widgets/controls",
      "model_module_version": "1.5.0",
      "model_name": "DescriptionStyleModel",
      "state": {
       "description_width": ""
      }
     },
     "b749afe35dd54e428c433c1e54af538a": {
      "model_module": "@jupyter-widgets/base",
      "model_module_version": "1.2.0",
      "model_name": "LayoutModel",
      "state": {}
     },
     "b75739bed85f415fa029547aa91c9135": {
      "model_module": "@jupyter-widgets/controls",
      "model_module_version": "1.5.0",
      "model_name": "ButtonStyleModel",
      "state": {}
     },
     "b76d5762f8014a8cab0b9fd6f7beba59": {
      "model_module": "@jupyter-widgets/controls",
      "model_module_version": "1.5.0",
      "model_name": "ButtonModel",
      "state": {
       "description": "Mot de passe oublié",
       "layout": "IPY_MODEL_eb7693a97cb94432a657cbd626355ccf",
       "style": "IPY_MODEL_30f9be180928463687d4d64a2387b2dd"
      }
     },
     "b78b88c5c6dc4bff8bac32839feccba3": {
      "model_module": "@jupyter-widgets/controls",
      "model_module_version": "1.5.0",
      "model_name": "LabelModel",
      "state": {
       "layout": "IPY_MODEL_0f3a9a1f6a904726a5fc4c9cd6397717",
       "style": "IPY_MODEL_be0c20199daa4a5f9d34ad7d241580a1",
       "value": "Nous vous avons envoyé un Email de réinitialisation à alex.capelle97@gmail.com"
      }
     },
     "b85093451b62431791df8e880e8b8948": {
      "model_module": "@jupyter-widgets/base",
      "model_module_version": "1.2.0",
      "model_name": "LayoutModel",
      "state": {}
     },
     "b882564aba334fc6ae33f89c06c64620": {
      "model_module": "@jupyter-widgets/controls",
      "model_module_version": "1.5.0",
      "model_name": "TextModel",
      "state": {
       "description": "Adresse mail",
       "layout": "IPY_MODEL_4016b52f6dd647c688fb2f95bd8fc0ca",
       "style": "IPY_MODEL_796fc098024244ac909e925476e05a8f",
       "value": "alex.capelle97@gmail.com"
      }
     },
     "b89f4c9e810348499f4d1e23ccdd6ec3": {
      "model_module": "@jupyter-widgets/base",
      "model_module_version": "1.2.0",
      "model_name": "LayoutModel",
      "state": {}
     },
     "b8c1e54453a94dbfaceaac7c2fa4c2a2": {
      "model_module": "@jupyter-widgets/base",
      "model_module_version": "1.2.0",
      "model_name": "LayoutModel",
      "state": {}
     },
     "b8ec3b3b3cd940c59b92ef932600ef93": {
      "model_module": "@jupyter-widgets/controls",
      "model_module_version": "1.5.0",
      "model_name": "LabelModel",
      "state": {
       "layout": "IPY_MODEL_c4a095e9916949e7b263add6b22099d0",
       "style": "IPY_MODEL_18bb5243844d47ce977a17c5f423c4a1",
       "value": "Nous vous avons envoyé un Email de réinitialisation à @gmail.com"
      }
     },
     "b991c703d89f442b95a560dfaa6fed0d": {
      "model_module": "@jupyter-widgets/controls",
      "model_module_version": "1.5.0",
      "model_name": "DescriptionStyleModel",
      "state": {
       "description_width": ""
      }
     },
     "ba154fc064db46f88c9b5dafa9b92de0": {
      "model_module": "@jupyter-widgets/controls",
      "model_module_version": "1.5.0",
      "model_name": "DescriptionStyleModel",
      "state": {
       "description_width": ""
      }
     },
     "ba26568f13d04303b5d3e018540a6be8": {
      "model_module": "@jupyter-widgets/controls",
      "model_module_version": "1.5.0",
      "model_name": "DescriptionStyleModel",
      "state": {
       "description_width": ""
      }
     },
     "ba58f346b92d4db1add7b375b0f9b288": {
      "model_module": "@jupyter-widgets/controls",
      "model_module_version": "1.5.0",
      "model_name": "LabelModel",
      "state": {
       "layout": "IPY_MODEL_ac6a29faf6bc40e1aef3c00cc1038891",
       "style": "IPY_MODEL_5ae1c5a962c54b278645bb78baf4a39f",
       "value": "Votre mot de passe est incorrect"
      }
     },
     "ba5c2f57d57d4d49a8cb2f2bae06a8ae": {
      "model_module": "@jupyter-widgets/base",
      "model_module_version": "1.2.0",
      "model_name": "LayoutModel",
      "state": {}
     },
     "ba6642a1de694bde9bb5dbd9f411cb5f": {
      "model_module": "@jupyter-widgets/controls",
      "model_module_version": "1.5.0",
      "model_name": "TextModel",
      "state": {
       "description": "Adresse mail",
       "layout": "IPY_MODEL_db124abecbb049198577fbe68d801516",
       "style": "IPY_MODEL_e7cc5619bfff4b658ae76c9d6002e24c",
       "value": "a@gmail.com"
      }
     },
     "ba664dac0744491889f23438182552e4": {
      "model_module": "@jupyter-widgets/controls",
      "model_module_version": "1.5.0",
      "model_name": "LabelModel",
      "state": {
       "layout": "IPY_MODEL_71e2afbffb304cbb8975006fb3dd6272",
       "style": "IPY_MODEL_747c49a681c642bd9d49642451e18eee",
       "value": "Veuillez entrer une adresse Gmail valide (...@gmail.com)"
      }
     },
     "ba6cb378f8e14c4ea2e9cf2984fe7761": {
      "model_module": "@jupyter-widgets/controls",
      "model_module_version": "1.5.0",
      "model_name": "ButtonModel",
      "state": {
       "description": "Se connecter",
       "layout": "IPY_MODEL_e2a2a173b595466796d41de2a2c1a209",
       "style": "IPY_MODEL_2dba142527f34144afa805c2787700d5"
      }
     },
     "ba7fd060386e40478beca57ff0c4ed28": {
      "model_module": "@jupyter-widgets/base",
      "model_module_version": "1.2.0",
      "model_name": "LayoutModel",
      "state": {}
     },
     "bab9b14ab60745828d31639836d5726f": {
      "model_module": "@jupyter-widgets/base",
      "model_module_version": "1.2.0",
      "model_name": "LayoutModel",
      "state": {}
     },
     "baea17d70fe747e38144bb96009595d1": {
      "model_module": "@jupyter-widgets/controls",
      "model_module_version": "1.5.0",
      "model_name": "PasswordModel",
      "state": {
       "description": "Mot de passe",
       "layout": "IPY_MODEL_74979213fcc04c5cb380442bb85228ce",
       "style": "IPY_MODEL_a76bffff698242ceb90a0f1087748109"
      }
     },
     "bb1eddeb781b4ee2a2530d8f7fa241b7": {
      "model_module": "@jupyter-widgets/base",
      "model_module_version": "1.2.0",
      "model_name": "LayoutModel",
      "state": {}
     },
     "bb7ac80b2f314cf4aee1dd4cf872ca38": {
      "model_module": "@jupyter-widgets/base",
      "model_module_version": "1.2.0",
      "model_name": "LayoutModel",
      "state": {}
     },
     "bba13d2d039648309331368d4e203775": {
      "model_module": "@jupyter-widgets/controls",
      "model_module_version": "1.5.0",
      "model_name": "LabelModel",
      "state": {
       "layout": "IPY_MODEL_6b9354e7f97d4ef5913c2ef0276cf24d",
       "style": "IPY_MODEL_36777b901f024132a501903963cf7047",
       "value": "Nous vous avons envoyé un Email de réinitialisation à @gmail.com"
      }
     },
     "bbf2992920b64e2f89f92e2f2305afab": {
      "model_module": "@jupyter-widgets/controls",
      "model_module_version": "1.5.0",
      "model_name": "DescriptionStyleModel",
      "state": {
       "description_width": ""
      }
     },
     "bc21b8667378486a833f5fe4ba42086b": {
      "model_module": "@jupyter-widgets/controls",
      "model_module_version": "1.5.0",
      "model_name": "DescriptionStyleModel",
      "state": {
       "description_width": ""
      }
     },
     "bc2f5373c75d4a0aac9956a1e688a51b": {
      "model_module": "@jupyter-widgets/controls",
      "model_module_version": "1.5.0",
      "model_name": "DescriptionStyleModel",
      "state": {
       "description_width": ""
      }
     },
     "bc3ad90e385b4db694d61d2af509f572": {
      "model_module": "@jupyter-widgets/controls",
      "model_module_version": "1.5.0",
      "model_name": "DescriptionStyleModel",
      "state": {
       "description_width": ""
      }
     },
     "bc84392c1f1b48049d5e25ed65b1bbfa": {
      "model_module": "@jupyter-widgets/controls",
      "model_module_version": "1.5.0",
      "model_name": "DescriptionStyleModel",
      "state": {
       "description_width": ""
      }
     },
     "bd0eb4a38045405e9aa9333adb1db0ac": {
      "model_module": "@jupyter-widgets/base",
      "model_module_version": "1.2.0",
      "model_name": "LayoutModel",
      "state": {}
     },
     "bd3f8408d9a64d9a98ea1c7a8c63b642": {
      "model_module": "@jupyter-widgets/controls",
      "model_module_version": "1.5.0",
      "model_name": "DescriptionStyleModel",
      "state": {
       "description_width": ""
      }
     },
     "bd712f1f59004f7d9a165e322069e950": {
      "model_module": "@jupyter-widgets/controls",
      "model_module_version": "1.5.0",
      "model_name": "TextModel",
      "state": {
       "description": "Adresse mail",
       "layout": "IPY_MODEL_c7c83baf1f5c47fbaa8fe0fe17808917",
       "style": "IPY_MODEL_042c18c58a394e95879ac7c04a4dc7df",
       "value": "a@gmail.com"
      }
     },
     "bd71d1a1de22440c93249c846c37d8c7": {
      "model_module": "@jupyter-widgets/base",
      "model_module_version": "1.2.0",
      "model_name": "LayoutModel",
      "state": {}
     },
     "bdaddbc5103e4ba8bfac679e007f20a4": {
      "model_module": "@jupyter-widgets/controls",
      "model_module_version": "1.5.0",
      "model_name": "LabelModel",
      "state": {
       "layout": "IPY_MODEL_6f60e0fba39142b399312878b41cccc6",
       "style": "IPY_MODEL_2755673721e140d485a1178c7ae90263",
       "value": "Connection en cours ..."
      }
     },
     "bdb6ce7a6f014e928088ea706e52c8e4": {
      "model_module": "@jupyter-widgets/controls",
      "model_module_version": "1.5.0",
      "model_name": "DescriptionStyleModel",
      "state": {
       "description_width": ""
      }
     },
     "bdf0beaa36564aff98f8a927d5708215": {
      "model_module": "@jupyter-widgets/base",
      "model_module_version": "1.2.0",
      "model_name": "LayoutModel",
      "state": {}
     },
     "be0c20199daa4a5f9d34ad7d241580a1": {
      "model_module": "@jupyter-widgets/controls",
      "model_module_version": "1.5.0",
      "model_name": "DescriptionStyleModel",
      "state": {
       "description_width": ""
      }
     },
     "be45055b208f4e8aa619beb215bca2bf": {
      "model_module": "@jupyter-widgets/controls",
      "model_module_version": "1.5.0",
      "model_name": "DescriptionStyleModel",
      "state": {
       "description_width": ""
      }
     },
     "be4b566809ee4c16ada6eb6d30bf5657": {
      "model_module": "@jupyter-widgets/controls",
      "model_module_version": "1.5.0",
      "model_name": "LabelModel",
      "state": {
       "layout": "IPY_MODEL_328ed0a15b304e18bdc60caf8ddbf8f0",
       "style": "IPY_MODEL_1275c9459b734cfabd7e93056353ccd0",
       "value": "Votre adresse mail n'est pas reconnue"
      }
     },
     "be55804c870747fda398cacbfa031743": {
      "model_module": "@jupyter-widgets/controls",
      "model_module_version": "1.5.0",
      "model_name": "ButtonModel",
      "state": {
       "description": "Mot de passe oublié",
       "layout": "IPY_MODEL_8f2e0c287fd1477fba705be00473b674",
       "style": "IPY_MODEL_4eaafca565b443bdad973fb8f1079de0"
      }
     },
     "be5b7ab2221e435b804dedc9fd6b22b9": {
      "model_module": "@jupyter-widgets/controls",
      "model_module_version": "1.5.0",
      "model_name": "LabelModel",
      "state": {
       "layout": "IPY_MODEL_e811ca06a5904c23bcc6e11bf5de1e14",
       "style": "IPY_MODEL_05da16a4d98f4fad927172cfc1c6bb90",
       "value": "Votre adresse mail n'est pas reconnue"
      }
     },
     "be8d5d26bfd14d62b05febfcc90d6f55": {
      "model_module": "@jupyter-widgets/controls",
      "model_module_version": "1.5.0",
      "model_name": "LabelModel",
      "state": {
       "layout": "IPY_MODEL_2289415991f7422eb9200c3af53a9cb7",
       "style": "IPY_MODEL_1866fd2ad73c4f0e85986a1f7e7ad732",
       "value": "Votre adresse mail n'est pas reconnue"
      }
     },
     "bed7251f5c174269a2f345736ecd8fbd": {
      "model_module": "@jupyter-widgets/controls",
      "model_module_version": "1.5.0",
      "model_name": "LabelModel",
      "state": {
       "layout": "IPY_MODEL_7c5e682b191f4dea8bccc35dd99b55b3",
       "style": "IPY_MODEL_9a5414e5f3cc4bf994e73e6277413577",
       "value": "Votre mot de passe est incorrect"
      }
     },
     "bee0fdb3af44473da515e9a75e08ed15": {
      "model_module": "@jupyter-widgets/base",
      "model_module_version": "1.2.0",
      "model_name": "LayoutModel",
      "state": {}
     },
     "bf0ad660b7844aca82a6fb8fba494644": {
      "model_module": "@jupyter-widgets/controls",
      "model_module_version": "1.5.0",
      "model_name": "ButtonStyleModel",
      "state": {}
     },
     "bf45aaf02c7143908ce49b52be78372c": {
      "model_module": "@jupyter-widgets/controls",
      "model_module_version": "1.5.0",
      "model_name": "PasswordModel",
      "state": {
       "description": "Mot de passe",
       "layout": "IPY_MODEL_2c10cd11f410425e8b3d56064d03bc71",
       "style": "IPY_MODEL_e0e3ebccbd2a44aba82ac8feac010e9f"
      }
     },
     "bf5e780032734fa2860ae8630665deaf": {
      "model_module": "@jupyter-widgets/base",
      "model_module_version": "1.2.0",
      "model_name": "LayoutModel",
      "state": {}
     },
     "bfe4bb0bdd5a4a07b37d5b513519e8e0": {
      "model_module": "@jupyter-widgets/base",
      "model_module_version": "1.2.0",
      "model_name": "LayoutModel",
      "state": {}
     },
     "c108bdafc57d4148b5617791c28a8a39": {
      "model_module": "@jupyter-widgets/controls",
      "model_module_version": "1.5.0",
      "model_name": "DescriptionStyleModel",
      "state": {
       "description_width": ""
      }
     },
     "c13f64c94e6f4dbf861b87c841292a2a": {
      "model_module": "@jupyter-widgets/base",
      "model_module_version": "1.2.0",
      "model_name": "LayoutModel",
      "state": {}
     },
     "c147b905320147878f6589dcd7d9d7fc": {
      "model_module": "@jupyter-widgets/controls",
      "model_module_version": "1.5.0",
      "model_name": "DescriptionStyleModel",
      "state": {
       "description_width": ""
      }
     },
     "c170ae38eb6b4e50a94903d9fd024b4f": {
      "model_module": "@jupyter-widgets/controls",
      "model_module_version": "1.5.0",
      "model_name": "DescriptionStyleModel",
      "state": {
       "description_width": ""
      }
     },
     "c221d09ce83c4fcebfa0a7cf43c96c4c": {
      "model_module": "@jupyter-widgets/controls",
      "model_module_version": "1.5.0",
      "model_name": "DescriptionStyleModel",
      "state": {
       "description_width": ""
      }
     },
     "c223e4c27bdb4784bba42ff6616580f8": {
      "model_module": "@jupyter-widgets/controls",
      "model_module_version": "1.5.0",
      "model_name": "LabelModel",
      "state": {
       "layout": "IPY_MODEL_bd71d1a1de22440c93249c846c37d8c7",
       "style": "IPY_MODEL_1e7220a0605d42298ac128d04c299ed3",
       "value": "Veuillez entrer une adresse Gmail valide (...@gmail.com)"
      }
     },
     "c291b22f2b7142f2942af08dca22a61e": {
      "model_module": "@jupyter-widgets/controls",
      "model_module_version": "1.5.0",
      "model_name": "DescriptionStyleModel",
      "state": {
       "description_width": ""
      }
     },
     "c2bbb9bd502b487ea4430e49564943af": {
      "model_module": "@jupyter-widgets/base",
      "model_module_version": "1.2.0",
      "model_name": "LayoutModel",
      "state": {}
     },
     "c3f4151884684716866d1995d807273b": {
      "model_module": "@jupyter-widgets/controls",
      "model_module_version": "1.5.0",
      "model_name": "DescriptionStyleModel",
      "state": {
       "description_width": ""
      }
     },
     "c4826e999e0d4ae38f5990a69b87b4ba": {
      "model_module": "@jupyter-widgets/controls",
      "model_module_version": "1.5.0",
      "model_name": "TextModel",
      "state": {
       "description": "Adresse mail",
       "layout": "IPY_MODEL_7102697994304b60b912ec743443fe80",
       "style": "IPY_MODEL_f9a8799e86fd4012848e8682e08e1c15",
       "value": "a@gmail.com"
      }
     },
     "c4910295a6224550adc17ffca3263d42": {
      "model_module": "@jupyter-widgets/controls",
      "model_module_version": "1.5.0",
      "model_name": "LabelModel",
      "state": {
       "layout": "IPY_MODEL_c9441d39a6b348ce88423e9aecbf5644",
       "style": "IPY_MODEL_18f7d19045ca406d9c23a81294c037d2",
       "value": "Veuillez entrer une adresse Gmail valide (...@gmail.com)"
      }
     },
     "c4a095e9916949e7b263add6b22099d0": {
      "model_module": "@jupyter-widgets/base",
      "model_module_version": "1.2.0",
      "model_name": "LayoutModel",
      "state": {}
     },
     "c4aca9386a9c49fbbb4821f2dd0b2de1": {
      "model_module": "@jupyter-widgets/controls",
      "model_module_version": "1.5.0",
      "model_name": "ButtonStyleModel",
      "state": {}
     },
     "c4e5ade222c640cfac3801c2f068e500": {
      "model_module": "@jupyter-widgets/base",
      "model_module_version": "1.2.0",
      "model_name": "LayoutModel",
      "state": {}
     },
     "c5ac1228eef54c4790c07739832151e3": {
      "model_module": "@jupyter-widgets/controls",
      "model_module_version": "1.5.0",
      "model_name": "DescriptionStyleModel",
      "state": {
       "description_width": ""
      }
     },
     "c5eb5e7a4ffb4d07b0ed2e8276f62abe": {
      "model_module": "@jupyter-widgets/base",
      "model_module_version": "1.2.0",
      "model_name": "LayoutModel",
      "state": {}
     },
     "c69c9e1e1f7f4e63b05a88ff3dbe7a76": {
      "model_module": "@jupyter-widgets/controls",
      "model_module_version": "1.5.0",
      "model_name": "LabelModel",
      "state": {
       "layout": "IPY_MODEL_b1dcfd7fa1094709b22b7ed292264ff9",
       "style": "IPY_MODEL_016b1e79eff147e7b8e28a61a0c53151",
       "value": "Votre mot de passe est incorrect"
      }
     },
     "c6a58af5b2eb4a169cadd109958a179a": {
      "model_module": "@jupyter-widgets/base",
      "model_module_version": "1.2.0",
      "model_name": "LayoutModel",
      "state": {}
     },
     "c6b71a25f9444281a1b12110c143b739": {
      "model_module": "@jupyter-widgets/controls",
      "model_module_version": "1.5.0",
      "model_name": "DescriptionStyleModel",
      "state": {
       "description_width": ""
      }
     },
     "c6bbde6fd85d4b2bb54c8efc3bc3d743": {
      "model_module": "@jupyter-widgets/controls",
      "model_module_version": "1.5.0",
      "model_name": "LabelModel",
      "state": {
       "layout": "IPY_MODEL_294722ab747c432f82e241c861eab95d",
       "style": "IPY_MODEL_902a1e5d5e3d43639c1721a77f5e7282",
       "value": "Votre mot de passe est incorrect"
      }
     },
     "c743fba920c04cd6849a0fdfe88748f2": {
      "model_module": "@jupyter-widgets/controls",
      "model_module_version": "1.5.0",
      "model_name": "PasswordModel",
      "state": {
       "description": "Mot de passe",
       "layout": "IPY_MODEL_430e4445ad474de5b04a0ec776c18143",
       "style": "IPY_MODEL_af2f698ac37f436b9e3d1c9292bdb9ed"
      }
     },
     "c783247ed2d64cad818145439864a86d": {
      "model_module": "@jupyter-widgets/controls",
      "model_module_version": "1.5.0",
      "model_name": "LabelModel",
      "state": {
       "layout": "IPY_MODEL_ba7fd060386e40478beca57ff0c4ed28",
       "style": "IPY_MODEL_7f214477a7f343d6ae9567da8e5505db",
       "value": "Connection en cours ..."
      }
     },
     "c7b808caa90f4da9a2053d8bb7641109": {
      "model_module": "@jupyter-widgets/base",
      "model_module_version": "1.2.0",
      "model_name": "LayoutModel",
      "state": {}
     },
     "c7c074bf26774b55965dda77aefcda8a": {
      "model_module": "@jupyter-widgets/controls",
      "model_module_version": "1.5.0",
      "model_name": "ButtonModel",
      "state": {
       "description": "Se connecter",
       "layout": "IPY_MODEL_484705146d864e8e9ac2746d565dc2a4",
       "style": "IPY_MODEL_7c0530d1fa844840b9787100b99283b9"
      }
     },
     "c7c83baf1f5c47fbaa8fe0fe17808917": {
      "model_module": "@jupyter-widgets/base",
      "model_module_version": "1.2.0",
      "model_name": "LayoutModel",
      "state": {}
     },
     "c7cb05b584cd425b8aa4461919f559e3": {
      "model_module": "@jupyter-widgets/base",
      "model_module_version": "1.2.0",
      "model_name": "LayoutModel",
      "state": {}
     },
     "c7d6c971cbe34f729835a884740da536": {
      "model_module": "@jupyter-widgets/base",
      "model_module_version": "1.2.0",
      "model_name": "LayoutModel",
      "state": {}
     },
     "c89efbc92cfa497584953ee3e3befae7": {
      "model_module": "@jupyter-widgets/controls",
      "model_module_version": "1.5.0",
      "model_name": "TextModel",
      "state": {
       "description": "Adresse mail",
       "layout": "IPY_MODEL_3d31973521e9441282d7f8c75369e7b3",
       "style": "IPY_MODEL_f32a22260d3f45af8a5cb965ed5fce3a",
       "value": "a@gmail.com"
      }
     },
     "c8a614d355374374b1417ef9099d9608": {
      "model_module": "@jupyter-widgets/controls",
      "model_module_version": "1.5.0",
      "model_name": "DescriptionStyleModel",
      "state": {
       "description_width": ""
      }
     },
     "c8d50e37ff1a42028aa488fc2d2b26c8": {
      "model_module": "@jupyter-widgets/controls",
      "model_module_version": "1.5.0",
      "model_name": "DescriptionStyleModel",
      "state": {
       "description_width": ""
      }
     },
     "c9441d39a6b348ce88423e9aecbf5644": {
      "model_module": "@jupyter-widgets/base",
      "model_module_version": "1.2.0",
      "model_name": "LayoutModel",
      "state": {}
     },
     "c9bfa31467aa49109485a82f1a5cffb2": {
      "model_module": "@jupyter-widgets/controls",
      "model_module_version": "1.5.0",
      "model_name": "LabelModel",
      "state": {
       "layout": "IPY_MODEL_bb1eddeb781b4ee2a2530d8f7fa241b7",
       "style": "IPY_MODEL_2f0046d3b1d943ae92bb317c67d5f6b7",
       "value": "Nous vous avons envoyé un Email de réinitialisation à @gmail.com"
      }
     },
     "ca2a480460f841a790df883cfee1229d": {
      "model_module": "@jupyter-widgets/base",
      "model_module_version": "1.2.0",
      "model_name": "LayoutModel",
      "state": {}
     },
     "ca53823fe2c74f2897754992e48a2cf9": {
      "model_module": "@jupyter-widgets/base",
      "model_module_version": "1.2.0",
      "model_name": "LayoutModel",
      "state": {}
     },
     "ca794b26695d439993feb142a17a17c9": {
      "model_module": "@jupyter-widgets/base",
      "model_module_version": "1.2.0",
      "model_name": "LayoutModel",
      "state": {}
     },
     "ca80a31d1d6a48378a65bec26f082c28": {
      "model_module": "@jupyter-widgets/controls",
      "model_module_version": "1.5.0",
      "model_name": "ButtonModel",
      "state": {
       "description": "Mot de passe oublié",
       "layout": "IPY_MODEL_43b9c324e0c44972be8113aa01b98d47",
       "style": "IPY_MODEL_51dd9e531c2a49aa98292b90550b4ac4"
      }
     },
     "ca9740513dbf44eeb65feb2b47691740": {
      "model_module": "@jupyter-widgets/controls",
      "model_module_version": "1.5.0",
      "model_name": "DescriptionStyleModel",
      "state": {
       "description_width": ""
      }
     },
     "cb688cf9fa7c478db5c493fa4a235a56": {
      "model_module": "@jupyter-widgets/base",
      "model_module_version": "1.2.0",
      "model_name": "LayoutModel",
      "state": {}
     },
     "cb73056071ac4bf5ab8857681f6f153a": {
      "model_module": "@jupyter-widgets/controls",
      "model_module_version": "1.5.0",
      "model_name": "ButtonStyleModel",
      "state": {}
     },
     "cb856cfdb72a4cfab7513f4c007095f7": {
      "model_module": "@jupyter-widgets/base",
      "model_module_version": "1.2.0",
      "model_name": "LayoutModel",
      "state": {}
     },
     "cb8a566690fd46ac8f8cf9a5fc2e4e62": {
      "model_module": "@jupyter-widgets/controls",
      "model_module_version": "1.5.0",
      "model_name": "DescriptionStyleModel",
      "state": {
       "description_width": ""
      }
     },
     "cc1acb2e5ab346088e60734156047c43": {
      "model_module": "@jupyter-widgets/controls",
      "model_module_version": "1.5.0",
      "model_name": "ButtonStyleModel",
      "state": {}
     },
     "cd56490057b34c5c9d1e3c163b8f0817": {
      "model_module": "@jupyter-widgets/controls",
      "model_module_version": "1.5.0",
      "model_name": "PasswordModel",
      "state": {
       "description": "Mot de passe",
       "layout": "IPY_MODEL_97cda0e7173e4c518c9a2c444ac8033e",
       "style": "IPY_MODEL_e9098dd8afbb490da76aeff370b1b894"
      }
     },
     "cd8fa00cd0e2415eb7145f960f0c23dd": {
      "model_module": "@jupyter-widgets/controls",
      "model_module_version": "1.5.0",
      "model_name": "ButtonStyleModel",
      "state": {}
     },
     "ce02e3b10cbb434d8118c47ae8fe499f": {
      "model_module": "@jupyter-widgets/controls",
      "model_module_version": "1.5.0",
      "model_name": "TextModel",
      "state": {
       "description": "Adresse mail",
       "layout": "IPY_MODEL_487d173bc58748549486e3d7f033a5a0",
       "style": "IPY_MODEL_8eed6db75d034b8a9fc1c2ae01a6ad37",
       "value": "alex.capelle97@gmail.com"
      }
     },
     "ce101a8e452e4603addb1d048ab08d89": {
      "model_module": "@jupyter-widgets/base",
      "model_module_version": "1.2.0",
      "model_name": "LayoutModel",
      "state": {}
     },
     "ce15bef5fe064562930fbaaf046d7f04": {
      "model_module": "@jupyter-widgets/controls",
      "model_module_version": "1.5.0",
      "model_name": "ButtonModel",
      "state": {
       "description": "Mot de passe oublié",
       "layout": "IPY_MODEL_908c1adcdf674b9a982a086d0956cf2e",
       "style": "IPY_MODEL_296718f35dd74619a5e77deb91053565"
      }
     },
     "ce2a4a4e6c87445bb06cf08a4ec74fda": {
      "model_module": "@jupyter-widgets/base",
      "model_module_version": "1.2.0",
      "model_name": "LayoutModel",
      "state": {}
     },
     "ce32134787c44e0d806ecb69c8a1fb20": {
      "model_module": "@jupyter-widgets/base",
      "model_module_version": "1.2.0",
      "model_name": "LayoutModel",
      "state": {}
     },
     "ce455861ad0944c894164369b8eaa408": {
      "model_module": "@jupyter-widgets/controls",
      "model_module_version": "1.5.0",
      "model_name": "DescriptionStyleModel",
      "state": {
       "description_width": ""
      }
     },
     "cea605107518418c89a5eb7c3574e3b6": {
      "model_module": "@jupyter-widgets/base",
      "model_module_version": "1.2.0",
      "model_name": "LayoutModel",
      "state": {}
     },
     "ceccce2dd5294412b610806af415b006": {
      "model_module": "@jupyter-widgets/base",
      "model_module_version": "1.2.0",
      "model_name": "LayoutModel",
      "state": {}
     },
     "cfeaadd4cc6040c39aaa7555cb559a42": {
      "model_module": "@jupyter-widgets/controls",
      "model_module_version": "1.5.0",
      "model_name": "DescriptionStyleModel",
      "state": {
       "description_width": ""
      }
     },
     "d171b0dd2acb449a9bdca5fc3941f18c": {
      "model_module": "@jupyter-widgets/controls",
      "model_module_version": "1.5.0",
      "model_name": "LabelModel",
      "state": {
       "layout": "IPY_MODEL_2c3bee3144b84af3a7e830214fa1c933",
       "style": "IPY_MODEL_894552c0dcdc40f3beef18eee18a3706",
       "value": "Votre adresse mail n'est pas reconnue"
      }
     },
     "d1afa71b6f7e439e956e732700f2b39b": {
      "model_module": "@jupyter-widgets/controls",
      "model_module_version": "1.5.0",
      "model_name": "ButtonStyleModel",
      "state": {}
     },
     "d21cef8284214e9e9aed67d513643973": {
      "model_module": "@jupyter-widgets/controls",
      "model_module_version": "1.5.0",
      "model_name": "DescriptionStyleModel",
      "state": {
       "description_width": ""
      }
     },
     "d2621c6fd104486abd6eed06e32781b5": {
      "model_module": "@jupyter-widgets/controls",
      "model_module_version": "1.5.0",
      "model_name": "DescriptionStyleModel",
      "state": {
       "description_width": ""
      }
     },
     "d2868aecc01d448a8e679a0af433ed48": {
      "model_module": "@jupyter-widgets/base",
      "model_module_version": "1.2.0",
      "model_name": "LayoutModel",
      "state": {}
     },
     "d2d37701fbdf4e11997f68e5374ff261": {
      "model_module": "@jupyter-widgets/controls",
      "model_module_version": "1.5.0",
      "model_name": "LabelModel",
      "state": {
       "layout": "IPY_MODEL_f92934ee17bf4e25a2003c2321ee37fd",
       "style": "IPY_MODEL_9c4eabb78d154bddb33fac2eb7a8c2c0",
       "value": "Votre mot de passe est incorrect"
      }
     },
     "d3a6c33b7b7c46eaa366206e5c18234d": {
      "model_module": "@jupyter-widgets/controls",
      "model_module_version": "1.5.0",
      "model_name": "ButtonModel",
      "state": {
       "description": "Se connecter",
       "layout": "IPY_MODEL_7b4eda7d83ed4f06ac46321eb55cb479",
       "style": "IPY_MODEL_75e22d0c67634c3fbfe2abec5e0ee2fa"
      }
     },
     "d3cd7bbf8ac44f6195e6647497eda848": {
      "model_module": "@jupyter-widgets/controls",
      "model_module_version": "1.5.0",
      "model_name": "DescriptionStyleModel",
      "state": {
       "description_width": ""
      }
     },
     "d3e8a6c77e5241cea74713084c2cad54": {
      "model_module": "@jupyter-widgets/controls",
      "model_module_version": "1.5.0",
      "model_name": "LabelModel",
      "state": {
       "layout": "IPY_MODEL_7707b8b82c6646bd9c472f927d9a1ab6",
       "style": "IPY_MODEL_d54c495d96a14bc3a2d3540c4d5b8114",
       "value": "Votre adresse mail n'est pas reconnue"
      }
     },
     "d42e014a8738412c93c3840debd5ac4c": {
      "model_module": "@jupyter-widgets/base",
      "model_module_version": "1.2.0",
      "model_name": "LayoutModel",
      "state": {}
     },
     "d42e62c41e354d5596f7b7328a8721e8": {
      "model_module": "@jupyter-widgets/base",
      "model_module_version": "1.2.0",
      "model_name": "LayoutModel",
      "state": {}
     },
     "d4426a79c3554276a00a255eb36eac5a": {
      "model_module": "@jupyter-widgets/controls",
      "model_module_version": "1.5.0",
      "model_name": "LabelModel",
      "state": {
       "layout": "IPY_MODEL_ca53823fe2c74f2897754992e48a2cf9",
       "style": "IPY_MODEL_2fea84fb8d734aad8b33af8a8eac123b",
       "value": "Votre adresse mail n'est pas reconnue"
      }
     },
     "d46e1a6e754e447190c92cc9ecd3f9c6": {
      "model_module": "@jupyter-widgets/base",
      "model_module_version": "1.2.0",
      "model_name": "LayoutModel",
      "state": {}
     },
     "d4b56922a78541d3b68486a122a27442": {
      "model_module": "@jupyter-widgets/base",
      "model_module_version": "1.2.0",
      "model_name": "LayoutModel",
      "state": {}
     },
     "d5283546d1af49dd8b6afffe7ad699b7": {
      "model_module": "@jupyter-widgets/base",
      "model_module_version": "1.2.0",
      "model_name": "LayoutModel",
      "state": {}
     },
     "d54c495d96a14bc3a2d3540c4d5b8114": {
      "model_module": "@jupyter-widgets/controls",
      "model_module_version": "1.5.0",
      "model_name": "DescriptionStyleModel",
      "state": {
       "description_width": ""
      }
     },
     "d5b2f3df60264144bc8f7a97b1de7b9a": {
      "model_module": "@jupyter-widgets/controls",
      "model_module_version": "1.5.0",
      "model_name": "DescriptionStyleModel",
      "state": {
       "description_width": ""
      }
     },
     "d5c75cd40b3346e09602fa0b6ac2e2fb": {
      "model_module": "@jupyter-widgets/controls",
      "model_module_version": "1.5.0",
      "model_name": "ButtonStyleModel",
      "state": {}
     },
     "d601f29953ac40b5b694ae2ec2260df6": {
      "model_module": "@jupyter-widgets/base",
      "model_module_version": "1.2.0",
      "model_name": "LayoutModel",
      "state": {}
     },
     "d6ab9b14774a4303852ea75918e75c68": {
      "model_module": "@jupyter-widgets/base",
      "model_module_version": "1.2.0",
      "model_name": "LayoutModel",
      "state": {}
     },
     "d837a2cf723248e4b0af285123e7ed0c": {
      "model_module": "@jupyter-widgets/controls",
      "model_module_version": "1.5.0",
      "model_name": "DescriptionStyleModel",
      "state": {
       "description_width": ""
      }
     },
     "d848f7baa0a542cea878fc88203adfd8": {
      "model_module": "@jupyter-widgets/controls",
      "model_module_version": "1.5.0",
      "model_name": "DescriptionStyleModel",
      "state": {
       "description_width": ""
      }
     },
     "d8b7d166384946fb9e5f4a99c33548a7": {
      "model_module": "@jupyter-widgets/controls",
      "model_module_version": "1.5.0",
      "model_name": "LabelModel",
      "state": {
       "layout": "IPY_MODEL_3e2fc1f1b62c40a394739da9059d5bd8",
       "style": "IPY_MODEL_d947c0f8da514442b4114974a7709a2a",
       "value": "Connection en cours ..."
      }
     },
     "d911b93482e64094b29fd9087d4a538f": {
      "model_module": "@jupyter-widgets/controls",
      "model_module_version": "1.5.0",
      "model_name": "DescriptionStyleModel",
      "state": {
       "description_width": ""
      }
     },
     "d947c0f8da514442b4114974a7709a2a": {
      "model_module": "@jupyter-widgets/controls",
      "model_module_version": "1.5.0",
      "model_name": "DescriptionStyleModel",
      "state": {
       "description_width": ""
      }
     },
     "da5cd7a4a6544104acf71aae8d0751c6": {
      "model_module": "@jupyter-widgets/controls",
      "model_module_version": "1.5.0",
      "model_name": "PasswordModel",
      "state": {
       "description": "Mot de passe",
       "layout": "IPY_MODEL_59fdea54251d486d9c0e60d2a8424add",
       "style": "IPY_MODEL_c3f4151884684716866d1995d807273b"
      }
     },
     "da5d8153f43a493c9aab1f78c43738ff": {
      "model_module": "@jupyter-widgets/controls",
      "model_module_version": "1.5.0",
      "model_name": "ButtonStyleModel",
      "state": {}
     },
     "da7232e72a954f4db4d6f0744edd82bc": {
      "model_module": "@jupyter-widgets/controls",
      "model_module_version": "1.5.0",
      "model_name": "DescriptionStyleModel",
      "state": {
       "description_width": ""
      }
     },
     "dab47536675a48daa70da3f360d94f2c": {
      "model_module": "@jupyter-widgets/controls",
      "model_module_version": "1.5.0",
      "model_name": "LabelModel",
      "state": {
       "layout": "IPY_MODEL_5bdb1d4cae7f4b85ab5b15816a7bcf1d",
       "style": "IPY_MODEL_002876a3d8014fe1be231b41916b4283",
       "value": "Connection en cours ..."
      }
     },
     "dad52f815ae74badbc4ac2f4c60ee085": {
      "model_module": "@jupyter-widgets/base",
      "model_module_version": "1.2.0",
      "model_name": "LayoutModel",
      "state": {}
     },
     "db124abecbb049198577fbe68d801516": {
      "model_module": "@jupyter-widgets/base",
      "model_module_version": "1.2.0",
      "model_name": "LayoutModel",
      "state": {}
     },
     "db170116e2b64d57bc272683b0cd22e0": {
      "model_module": "@jupyter-widgets/controls",
      "model_module_version": "1.5.0",
      "model_name": "ButtonModel",
      "state": {
       "description": "Mot de passe oublié",
       "layout": "IPY_MODEL_40b0adc79b66432f8d686af563a2d1a3",
       "style": "IPY_MODEL_b21b9897b2b440db8b8555d9eee595d9"
      }
     },
     "db1a445856b84222813c2362860657c9": {
      "model_module": "@jupyter-widgets/base",
      "model_module_version": "1.2.0",
      "model_name": "LayoutModel",
      "state": {}
     },
     "db2b5e0751e04ba994ed1fb79d5e05d0": {
      "model_module": "@jupyter-widgets/base",
      "model_module_version": "1.2.0",
      "model_name": "LayoutModel",
      "state": {}
     },
     "db67fdf9a64f4998a72a219584dc941c": {
      "model_module": "@jupyter-widgets/controls",
      "model_module_version": "1.5.0",
      "model_name": "ButtonStyleModel",
      "state": {}
     },
     "db90f2b091ab48b4a39d78d6e26a94ff": {
      "model_module": "@jupyter-widgets/controls",
      "model_module_version": "1.5.0",
      "model_name": "DescriptionStyleModel",
      "state": {
       "description_width": ""
      }
     },
     "dc11ae6ef9c94e51bdfbb5f8d42cde9f": {
      "model_module": "@jupyter-widgets/base",
      "model_module_version": "1.2.0",
      "model_name": "LayoutModel",
      "state": {}
     },
     "dc4035b2a055452a95d6bc76a5498efe": {
      "model_module": "@jupyter-widgets/controls",
      "model_module_version": "1.5.0",
      "model_name": "LabelModel",
      "state": {
       "layout": "IPY_MODEL_873ca88429364f608ab608d0e09f1f2c",
       "style": "IPY_MODEL_dcfabd35878240a7833af337a508ba25",
       "value": "Votre adresse mail n'est pas reconnue"
      }
     },
     "dc414294b56142a98ea032095c5cab2a": {
      "model_module": "@jupyter-widgets/base",
      "model_module_version": "1.2.0",
      "model_name": "LayoutModel",
      "state": {}
     },
     "dcd4d05ddb5842eca1060c7020c03308": {
      "model_module": "@jupyter-widgets/base",
      "model_module_version": "1.2.0",
      "model_name": "LayoutModel",
      "state": {}
     },
     "dcfabd35878240a7833af337a508ba25": {
      "model_module": "@jupyter-widgets/controls",
      "model_module_version": "1.5.0",
      "model_name": "DescriptionStyleModel",
      "state": {
       "description_width": ""
      }
     },
     "dd532993be2343dd89f76a997e04cde5": {
      "model_module": "@jupyter-widgets/controls",
      "model_module_version": "1.5.0",
      "model_name": "LabelModel",
      "state": {
       "layout": "IPY_MODEL_71a9945516314dea83b5363d9d4b609e",
       "style": "IPY_MODEL_ecbf2dddbe5544f9ab9af006dc2755b6",
       "value": "Nous vous avons envoyé un Email de réinitialisation à @gmail.com"
      }
     },
     "dd9994eb1223481dae4b314e1fec331e": {
      "model_module": "@jupyter-widgets/controls",
      "model_module_version": "1.5.0",
      "model_name": "DescriptionStyleModel",
      "state": {
       "description_width": ""
      }
     },
     "ddd86fd346fd4ff391438b1f68ee8219": {
      "model_module": "@jupyter-widgets/controls",
      "model_module_version": "1.5.0",
      "model_name": "DescriptionStyleModel",
      "state": {
       "description_width": ""
      }
     },
     "de498a4bcb8c45c2aaa843cf9534cfb5": {
      "model_module": "@jupyter-widgets/controls",
      "model_module_version": "1.5.0",
      "model_name": "DescriptionStyleModel",
      "state": {
       "description_width": ""
      }
     },
     "de89e47b0f9641798e397c0d246499ad": {
      "model_module": "@jupyter-widgets/base",
      "model_module_version": "1.2.0",
      "model_name": "LayoutModel",
      "state": {}
     },
     "df24d52e862647bc95ace12a7d5cee3c": {
      "model_module": "@jupyter-widgets/controls",
      "model_module_version": "1.5.0",
      "model_name": "DescriptionStyleModel",
      "state": {
       "description_width": ""
      }
     },
     "df9dc0ee04214ac0bce64f8aef1e36b9": {
      "model_module": "@jupyter-widgets/base",
      "model_module_version": "1.2.0",
      "model_name": "LayoutModel",
      "state": {}
     },
     "dfbb6a912d8b4104929c4fb13037eabb": {
      "model_module": "@jupyter-widgets/controls",
      "model_module_version": "1.5.0",
      "model_name": "TextModel",
      "state": {
       "description": "Adresse mail",
       "layout": "IPY_MODEL_a85a5fa66643402290711a1a543af6b3",
       "style": "IPY_MODEL_640f9ab1cf9c4274bc2a965a3af681c9",
       "value": "a@gmail.com"
      }
     },
     "e0dc7f3681714ec08d617dc229c602d0": {
      "model_module": "@jupyter-widgets/controls",
      "model_module_version": "1.5.0",
      "model_name": "LabelModel",
      "state": {
       "layout": "IPY_MODEL_0999a6a1deac4c16be90611a8ae4b526",
       "style": "IPY_MODEL_112b9b8845fe43889eda60b7c7c68898",
       "value": "Veuillez entrer une adresse Gmail valide (...@gmail.com)"
      }
     },
     "e0e3ebccbd2a44aba82ac8feac010e9f": {
      "model_module": "@jupyter-widgets/controls",
      "model_module_version": "1.5.0",
      "model_name": "DescriptionStyleModel",
      "state": {
       "description_width": ""
      }
     },
     "e2a2a173b595466796d41de2a2c1a209": {
      "model_module": "@jupyter-widgets/base",
      "model_module_version": "1.2.0",
      "model_name": "LayoutModel",
      "state": {}
     },
     "e2eaaadc81bd4e5ba33b51bd635f9f33": {
      "model_module": "@jupyter-widgets/base",
      "model_module_version": "1.2.0",
      "model_name": "LayoutModel",
      "state": {}
     },
     "e35551328ed04624840cfca2eaf971ba": {
      "model_module": "@jupyter-widgets/controls",
      "model_module_version": "1.5.0",
      "model_name": "ButtonModel",
      "state": {
       "description": "Se connecter",
       "layout": "IPY_MODEL_0b02197ac794471f8134ce6f3be87bb9",
       "style": "IPY_MODEL_6096e13b5150416b8cf68b5a66f49a0a"
      }
     },
     "e358ecce596b465c90839dc53412476a": {
      "model_module": "@jupyter-widgets/base",
      "model_module_version": "1.2.0",
      "model_name": "LayoutModel",
      "state": {}
     },
     "e387f1dfbd894b2f91a6fedd780639d9": {
      "model_module": "@jupyter-widgets/base",
      "model_module_version": "1.2.0",
      "model_name": "LayoutModel",
      "state": {}
     },
     "e38c4a71790444699139a621a75b1f62": {
      "model_module": "@jupyter-widgets/base",
      "model_module_version": "1.2.0",
      "model_name": "LayoutModel",
      "state": {}
     },
     "e39d9cc3c857428ab26375473fbc1bf5": {
      "model_module": "@jupyter-widgets/base",
      "model_module_version": "1.2.0",
      "model_name": "LayoutModel",
      "state": {}
     },
     "e3a678e27ffc49b99799f1caea95e205": {
      "model_module": "@jupyter-widgets/controls",
      "model_module_version": "1.5.0",
      "model_name": "DescriptionStyleModel",
      "state": {
       "description_width": ""
      }
     },
     "e3b78994463d4305a264a0b361834aca": {
      "model_module": "@jupyter-widgets/base",
      "model_module_version": "1.2.0",
      "model_name": "LayoutModel",
      "state": {}
     },
     "e3ffdbf9f65542018ebb14185a091b13": {
      "model_module": "@jupyter-widgets/base",
      "model_module_version": "1.2.0",
      "model_name": "LayoutModel",
      "state": {}
     },
     "e4280af7be8944ee86dff24271dd4c60": {
      "model_module": "@jupyter-widgets/base",
      "model_module_version": "1.2.0",
      "model_name": "LayoutModel",
      "state": {}
     },
     "e440d2b5444c4f2eb309ed596cfe527f": {
      "model_module": "@jupyter-widgets/controls",
      "model_module_version": "1.5.0",
      "model_name": "DescriptionStyleModel",
      "state": {
       "description_width": ""
      }
     },
     "e4497a37bddf495f816653972668c5c3": {
      "model_module": "@jupyter-widgets/controls",
      "model_module_version": "1.5.0",
      "model_name": "DescriptionStyleModel",
      "state": {
       "description_width": ""
      }
     },
     "e45f47eacb9f403db772a5f841f161fd": {
      "model_module": "@jupyter-widgets/controls",
      "model_module_version": "1.5.0",
      "model_name": "DescriptionStyleModel",
      "state": {
       "description_width": ""
      }
     },
     "e461db0c14854d9db423552d882bb09e": {
      "model_module": "@jupyter-widgets/base",
      "model_module_version": "1.2.0",
      "model_name": "LayoutModel",
      "state": {}
     },
     "e4c2b1c8a90c4b10b4d1bf52769366b0": {
      "model_module": "@jupyter-widgets/controls",
      "model_module_version": "1.5.0",
      "model_name": "DescriptionStyleModel",
      "state": {
       "description_width": ""
      }
     },
     "e4d582707db84417ab4c16494b7a59d1": {
      "model_module": "@jupyter-widgets/controls",
      "model_module_version": "1.5.0",
      "model_name": "DescriptionStyleModel",
      "state": {
       "description_width": ""
      }
     },
     "e4e5b35dc53143f595bef8899563510f": {
      "model_module": "@jupyter-widgets/controls",
      "model_module_version": "1.5.0",
      "model_name": "DescriptionStyleModel",
      "state": {
       "description_width": ""
      }
     },
     "e519e09122314e1486d002ed80ea7750": {
      "model_module": "@jupyter-widgets/controls",
      "model_module_version": "1.5.0",
      "model_name": "LabelModel",
      "state": {
       "layout": "IPY_MODEL_8051696670764f9e924d440f135cb0d8",
       "style": "IPY_MODEL_f8e540d7036449c3bdc98752e28e3ac5",
       "value": "Veuillez entrer une adresse Gmail valide (...@gmail.com)"
      }
     },
     "e52c9a68b9bb424a8a535f6e901c7c83": {
      "model_module": "@jupyter-widgets/controls",
      "model_module_version": "1.5.0",
      "model_name": "DescriptionStyleModel",
      "state": {
       "description_width": ""
      }
     },
     "e5ac2258235a443f9e57de91372f5682": {
      "model_module": "@jupyter-widgets/base",
      "model_module_version": "1.2.0",
      "model_name": "LayoutModel",
      "state": {}
     },
     "e5b0166f3bba4e47a75680c514290400": {
      "model_module": "@jupyter-widgets/base",
      "model_module_version": "1.2.0",
      "model_name": "LayoutModel",
      "state": {}
     },
     "e5d169e2fbe34a59b91e304b432ee482": {
      "model_module": "@jupyter-widgets/base",
      "model_module_version": "1.2.0",
      "model_name": "LayoutModel",
      "state": {}
     },
     "e5f1719de5b7436593b990d219bd2e79": {
      "model_module": "@jupyter-widgets/base",
      "model_module_version": "1.2.0",
      "model_name": "LayoutModel",
      "state": {}
     },
     "e5f3ba5d2ad3496ab6b606eac5ef1ee6": {
      "model_module": "@jupyter-widgets/controls",
      "model_module_version": "1.5.0",
      "model_name": "ButtonModel",
      "state": {
       "description": "Se connecter",
       "layout": "IPY_MODEL_38bb97eee6e942b886a8620ce2ab167f",
       "style": "IPY_MODEL_9a11105fbfe446a1b36d3825356ce97a"
      }
     },
     "e5f91756b5bb40f7a67f42133cc57283": {
      "model_module": "@jupyter-widgets/controls",
      "model_module_version": "1.5.0",
      "model_name": "DescriptionStyleModel",
      "state": {
       "description_width": ""
      }
     },
     "e651cbf878284fe1b12df458da8638c1": {
      "model_module": "@jupyter-widgets/controls",
      "model_module_version": "1.5.0",
      "model_name": "DescriptionStyleModel",
      "state": {
       "description_width": ""
      }
     },
     "e65517000ad24f1d85b2639c73abb080": {
      "model_module": "@jupyter-widgets/controls",
      "model_module_version": "1.5.0",
      "model_name": "ButtonStyleModel",
      "state": {}
     },
     "e696d81c4ab0479390f70de5705abea4": {
      "model_module": "@jupyter-widgets/base",
      "model_module_version": "1.2.0",
      "model_name": "LayoutModel",
      "state": {}
     },
     "e6fd0fa08b934f44812a8aa1b8d5e05e": {
      "model_module": "@jupyter-widgets/controls",
      "model_module_version": "1.5.0",
      "model_name": "DescriptionStyleModel",
      "state": {
       "description_width": ""
      }
     },
     "e77d2a83d5aa44d7aa6453c218a99be1": {
      "model_module": "@jupyter-widgets/base",
      "model_module_version": "1.2.0",
      "model_name": "LayoutModel",
      "state": {}
     },
     "e7cc5619bfff4b658ae76c9d6002e24c": {
      "model_module": "@jupyter-widgets/controls",
      "model_module_version": "1.5.0",
      "model_name": "DescriptionStyleModel",
      "state": {
       "description_width": ""
      }
     },
     "e80ac078e2a44528b40d1b8457b35737": {
      "model_module": "@jupyter-widgets/controls",
      "model_module_version": "1.5.0",
      "model_name": "LabelModel",
      "state": {
       "layout": "IPY_MODEL_46006359fa644e599e5daaf82d67bc75",
       "style": "IPY_MODEL_59f0d3a3e76b4eb289962e9fb1fd6c18",
       "value": "Nous vous avons envoyé un Email de réinitialisation à @gmail.com"
      }
     },
     "e811ca06a5904c23bcc6e11bf5de1e14": {
      "model_module": "@jupyter-widgets/base",
      "model_module_version": "1.2.0",
      "model_name": "LayoutModel",
      "state": {}
     },
     "e8a3c40937c74629ac0d6b00047dda16": {
      "model_module": "@jupyter-widgets/controls",
      "model_module_version": "1.5.0",
      "model_name": "LabelModel",
      "state": {
       "layout": "IPY_MODEL_61f8c65c585946509a89004d2c289ef8",
       "style": "IPY_MODEL_e45f47eacb9f403db772a5f841f161fd",
       "value": "Veuillez entrer une adresse Gmail valide (...@gmail.com)"
      }
     },
     "e8ad536e126f4eb2bf96b343f6cbfb7e": {
      "model_module": "@jupyter-widgets/controls",
      "model_module_version": "1.5.0",
      "model_name": "DescriptionStyleModel",
      "state": {
       "description_width": ""
      }
     },
     "e8e3e0573a4443868fabcf6317cd2880": {
      "model_module": "@jupyter-widgets/controls",
      "model_module_version": "1.5.0",
      "model_name": "DescriptionStyleModel",
      "state": {
       "description_width": ""
      }
     },
     "e8ef9bb1cf82401fa8e65e957e7ea575": {
      "model_module": "@jupyter-widgets/base",
      "model_module_version": "1.2.0",
      "model_name": "LayoutModel",
      "state": {}
     },
     "e9098dd8afbb490da76aeff370b1b894": {
      "model_module": "@jupyter-widgets/controls",
      "model_module_version": "1.5.0",
      "model_name": "DescriptionStyleModel",
      "state": {
       "description_width": ""
      }
     },
     "e939a69bdb6b40e990c88f3f61f9cdd4": {
      "model_module": "@jupyter-widgets/controls",
      "model_module_version": "1.5.0",
      "model_name": "DescriptionStyleModel",
      "state": {
       "description_width": ""
      }
     },
     "e9412c055f28407eaad42e591120650a": {
      "model_module": "@jupyter-widgets/base",
      "model_module_version": "1.2.0",
      "model_name": "LayoutModel",
      "state": {}
     },
     "ea3cfd0cdb6844ba8dca8f00466926af": {
      "model_module": "@jupyter-widgets/base",
      "model_module_version": "1.2.0",
      "model_name": "LayoutModel",
      "state": {}
     },
     "ea904bd785074f25a7b600ce13274fd1": {
      "model_module": "@jupyter-widgets/base",
      "model_module_version": "1.2.0",
      "model_name": "LayoutModel",
      "state": {}
     },
     "ea93ae53bc6e4b9aa6654418b0cac2b7": {
      "model_module": "@jupyter-widgets/controls",
      "model_module_version": "1.5.0",
      "model_name": "LabelModel",
      "state": {
       "layout": "IPY_MODEL_e5b0166f3bba4e47a75680c514290400",
       "style": "IPY_MODEL_0a8cac90b95e41569226c3e982594b36",
       "value": "Nous vous avons envoyé un Email de réinitialisation à a@gmail.com"
      }
     },
     "eadb3216d4e648c4a767ce83e7786d50": {
      "model_module": "@jupyter-widgets/controls",
      "model_module_version": "1.5.0",
      "model_name": "ButtonModel",
      "state": {
       "description": "Se connecter",
       "layout": "IPY_MODEL_7091067ac0e946b399e45b5a34433a73",
       "style": "IPY_MODEL_ee045111d17c421cb57a1e0b0b17a982"
      }
     },
     "eb7693a97cb94432a657cbd626355ccf": {
      "model_module": "@jupyter-widgets/base",
      "model_module_version": "1.2.0",
      "model_name": "LayoutModel",
      "state": {}
     },
     "ebb4a18738214462b80ea4374a23bbad": {
      "model_module": "@jupyter-widgets/controls",
      "model_module_version": "1.5.0",
      "model_name": "LabelModel",
      "state": {
       "layout": "IPY_MODEL_1ba31039013043099255865acb3ca986",
       "style": "IPY_MODEL_9e37c39ce70f454ea73cf0430cc03c28",
       "value": "Nous vous avons envoyé un Email de réinitialisation à @gmail.com"
      }
     },
     "ebe141b3c910473790ba4e6b023b4bd8": {
      "model_module": "@jupyter-widgets/controls",
      "model_module_version": "1.5.0",
      "model_name": "DescriptionStyleModel",
      "state": {
       "description_width": ""
      }
     },
     "ec232d8a53014dbca4a654e45333c971": {
      "model_module": "@jupyter-widgets/base",
      "model_module_version": "1.2.0",
      "model_name": "LayoutModel",
      "state": {}
     },
     "ecaa9ab29e5c4ca78f476558428dfab2": {
      "model_module": "@jupyter-widgets/base",
      "model_module_version": "1.2.0",
      "model_name": "LayoutModel",
      "state": {}
     },
     "ecbf2dddbe5544f9ab9af006dc2755b6": {
      "model_module": "@jupyter-widgets/controls",
      "model_module_version": "1.5.0",
      "model_name": "DescriptionStyleModel",
      "state": {
       "description_width": ""
      }
     },
     "ed515af1a7a94c1192f34024deb41ad6": {
      "model_module": "@jupyter-widgets/base",
      "model_module_version": "1.2.0",
      "model_name": "LayoutModel",
      "state": {}
     },
     "edc82193539d4b48ba509724572c9b80": {
      "model_module": "@jupyter-widgets/base",
      "model_module_version": "1.2.0",
      "model_name": "LayoutModel",
      "state": {}
     },
     "ee045111d17c421cb57a1e0b0b17a982": {
      "model_module": "@jupyter-widgets/controls",
      "model_module_version": "1.5.0",
      "model_name": "ButtonStyleModel",
      "state": {}
     },
     "ee5174b6ff4544709851fc8c93c013d1": {
      "model_module": "@jupyter-widgets/base",
      "model_module_version": "1.2.0",
      "model_name": "LayoutModel",
      "state": {}
     },
     "eef8f964b1e84a1dba20a3602a9d4452": {
      "model_module": "@jupyter-widgets/base",
      "model_module_version": "1.2.0",
      "model_name": "LayoutModel",
      "state": {}
     },
     "eeff8b32491c4f6a8457ccd5837139c0": {
      "model_module": "@jupyter-widgets/controls",
      "model_module_version": "1.5.0",
      "model_name": "TextModel",
      "state": {
       "description": "Adresse mail",
       "layout": "IPY_MODEL_48bb624bdeaf4a6d9cf6182b1b522a1f",
       "style": "IPY_MODEL_23e53e2d5ae64a33bf3c146eea26680f",
       "value": "@gmail.com"
      }
     },
     "ef09710f5b184e5db9c00ece192d80c9": {
      "model_module": "@jupyter-widgets/controls",
      "model_module_version": "1.5.0",
      "model_name": "DescriptionStyleModel",
      "state": {
       "description_width": ""
      }
     },
     "ef4ee63fd04b4f3b93bbc28574ab8719": {
      "model_module": "@jupyter-widgets/base",
      "model_module_version": "1.2.0",
      "model_name": "LayoutModel",
      "state": {}
     },
     "ef63e3333e2b4185a6f433b72511c80b": {
      "model_module": "@jupyter-widgets/controls",
      "model_module_version": "1.5.0",
      "model_name": "DescriptionStyleModel",
      "state": {
       "description_width": ""
      }
     },
     "ef7246e2de5f4d32b06c1a09dd64700c": {
      "model_module": "@jupyter-widgets/base",
      "model_module_version": "1.2.0",
      "model_name": "LayoutModel",
      "state": {}
     },
     "efb4637925594781b0f8a1e15c613401": {
      "model_module": "@jupyter-widgets/controls",
      "model_module_version": "1.5.0",
      "model_name": "DescriptionStyleModel",
      "state": {
       "description_width": ""
      }
     },
     "f0969c603a344c5086282265fb86aacb": {
      "model_module": "@jupyter-widgets/base",
      "model_module_version": "1.2.0",
      "model_name": "LayoutModel",
      "state": {}
     },
     "f0a68e6ff75f40239345ca806af8bedc": {
      "model_module": "@jupyter-widgets/base",
      "model_module_version": "1.2.0",
      "model_name": "LayoutModel",
      "state": {}
     },
     "f0f232687da24cdba94d394f357cc734": {
      "model_module": "@jupyter-widgets/controls",
      "model_module_version": "1.5.0",
      "model_name": "TextModel",
      "state": {
       "description": "Adresse mail",
       "layout": "IPY_MODEL_30ba852107fd4b5189427e07216d2ef1",
       "style": "IPY_MODEL_010bdb775fc34e36aa08ae2632aef08e",
       "value": "alex.capelle97@gmail.com"
      }
     },
     "f12f0c17d0e44423aef1c9b355f85d48": {
      "model_module": "@jupyter-widgets/controls",
      "model_module_version": "1.5.0",
      "model_name": "DescriptionStyleModel",
      "state": {
       "description_width": ""
      }
     },
     "f13d446d552444e098a6e4ca98ae96ae": {
      "model_module": "@jupyter-widgets/controls",
      "model_module_version": "1.5.0",
      "model_name": "LabelModel",
      "state": {
       "layout": "IPY_MODEL_294a7f713f0d455d98dae36df93a4a7c",
       "style": "IPY_MODEL_348ee61d6f3843b4870a7bb466835e6c",
       "value": "Votre adresse mail n'est pas reconnue"
      }
     },
     "f1ca10ffa806418bb47cd31c110dad18": {
      "model_module": "@jupyter-widgets/controls",
      "model_module_version": "1.5.0",
      "model_name": "DescriptionStyleModel",
      "state": {
       "description_width": ""
      }
     },
     "f2a2f2230d254584bdd32dd42665c1dc": {
      "model_module": "@jupyter-widgets/controls",
      "model_module_version": "1.5.0",
      "model_name": "DescriptionStyleModel",
      "state": {
       "description_width": ""
      }
     },
     "f2f72d91d1ce4f21a6fe5d7af2519052": {
      "model_module": "@jupyter-widgets/controls",
      "model_module_version": "1.5.0",
      "model_name": "DescriptionStyleModel",
      "state": {
       "description_width": ""
      }
     },
     "f32a22260d3f45af8a5cb965ed5fce3a": {
      "model_module": "@jupyter-widgets/controls",
      "model_module_version": "1.5.0",
      "model_name": "DescriptionStyleModel",
      "state": {
       "description_width": ""
      }
     },
     "f343ff30f90d40dd80497840fec07fc8": {
      "model_module": "@jupyter-widgets/controls",
      "model_module_version": "1.5.0",
      "model_name": "DescriptionStyleModel",
      "state": {
       "description_width": ""
      }
     },
     "f4436fc50b7a464fbb539b821125a788": {
      "model_module": "@jupyter-widgets/base",
      "model_module_version": "1.2.0",
      "model_name": "LayoutModel",
      "state": {}
     },
     "f460c97b07a146608cad66a6a99912c8": {
      "model_module": "@jupyter-widgets/controls",
      "model_module_version": "1.5.0",
      "model_name": "DescriptionStyleModel",
      "state": {
       "description_width": ""
      }
     },
     "f47a9f99ba5f4265884c60c79af72434": {
      "model_module": "@jupyter-widgets/base",
      "model_module_version": "1.2.0",
      "model_name": "LayoutModel",
      "state": {}
     },
     "f52486eccd5d43fbb01721b464bc08e7": {
      "model_module": "@jupyter-widgets/base",
      "model_module_version": "1.2.0",
      "model_name": "LayoutModel",
      "state": {}
     },
     "f56d650b553d46c5842a722a9004d26a": {
      "model_module": "@jupyter-widgets/base",
      "model_module_version": "1.2.0",
      "model_name": "LayoutModel",
      "state": {}
     },
     "f5c6e7ae6f5b405b91c072f624366a7e": {
      "model_module": "@jupyter-widgets/controls",
      "model_module_version": "1.5.0",
      "model_name": "DescriptionStyleModel",
      "state": {
       "description_width": ""
      }
     },
     "f60cceef603043378457121222b1e57e": {
      "model_module": "@jupyter-widgets/controls",
      "model_module_version": "1.5.0",
      "model_name": "TextModel",
      "state": {
       "description": "Adresse mail",
       "layout": "IPY_MODEL_3af123bf8735466298e115f9383257e6",
       "style": "IPY_MODEL_62f4bce36aac45f9872913bfb2d8ecca",
       "value": "a@gmail.com"
      }
     },
     "f6222d020f424ee1844a258f09ce801d": {
      "model_module": "@jupyter-widgets/controls",
      "model_module_version": "1.5.0",
      "model_name": "DescriptionStyleModel",
      "state": {
       "description_width": ""
      }
     },
     "f6287dd9eeb54b2488aac032cb7d8296": {
      "model_module": "@jupyter-widgets/controls",
      "model_module_version": "1.5.0",
      "model_name": "ButtonStyleModel",
      "state": {}
     },
     "f6c24fa4d38c4712ba386c054a255af5": {
      "model_module": "@jupyter-widgets/controls",
      "model_module_version": "1.5.0",
      "model_name": "LabelModel",
      "state": {
       "layout": "IPY_MODEL_76310fea4cf845c9a3b5d2c37dcba605",
       "style": "IPY_MODEL_da7232e72a954f4db4d6f0744edd82bc",
       "value": "Votre mot de passe est incorrect"
      }
     },
     "f6e110d09ba94c93a2fa85b28384584d": {
      "model_module": "@jupyter-widgets/controls",
      "model_module_version": "1.5.0",
      "model_name": "LabelModel",
      "state": {
       "layout": "IPY_MODEL_ce32134787c44e0d806ecb69c8a1fb20",
       "style": "IPY_MODEL_f2a2f2230d254584bdd32dd42665c1dc",
       "value": "Votre mot de passe est incorrect"
      }
     },
     "f6f0eb1f9b7c478493f5464526843b59": {
      "model_module": "@jupyter-widgets/base",
      "model_module_version": "1.2.0",
      "model_name": "LayoutModel",
      "state": {}
     },
     "f7045b70969d442fac43ea31da4a473a": {
      "model_module": "@jupyter-widgets/controls",
      "model_module_version": "1.5.0",
      "model_name": "DescriptionStyleModel",
      "state": {
       "description_width": ""
      }
     },
     "f7b208a0b85e4b0286cefeec109e0775": {
      "model_module": "@jupyter-widgets/controls",
      "model_module_version": "1.5.0",
      "model_name": "ButtonStyleModel",
      "state": {}
     },
     "f7eaeafc3c7442ac8c5d86b1ffd53a13": {
      "model_module": "@jupyter-widgets/base",
      "model_module_version": "1.2.0",
      "model_name": "LayoutModel",
      "state": {}
     },
     "f7eb09a2350b484f88173994a9484c4d": {
      "model_module": "@jupyter-widgets/controls",
      "model_module_version": "1.5.0",
      "model_name": "PasswordModel",
      "state": {
       "description": "Mot de passe",
       "layout": "IPY_MODEL_7697787f767e4ce9ba337a1d0ba17682",
       "style": "IPY_MODEL_b23b3f0317d34806ac216062a06d19c3"
      }
     },
     "f84fe8b20a0b4dd5ae5077ed925c5f54": {
      "model_module": "@jupyter-widgets/controls",
      "model_module_version": "1.5.0",
      "model_name": "LabelModel",
      "state": {
       "layout": "IPY_MODEL_930544e78c4c41c7b67bda52f528061d",
       "style": "IPY_MODEL_4536ffb2bc20438b809a7e9bb2b6ffed",
       "value": "Connection en cours ..."
      }
     },
     "f8772cd456024f4a8b2ac205bd46bb0e": {
      "model_module": "@jupyter-widgets/controls",
      "model_module_version": "1.5.0",
      "model_name": "LabelModel",
      "state": {
       "layout": "IPY_MODEL_053d8311783d48d6bff4e93979fcbbab",
       "style": "IPY_MODEL_4c97610b94924199ab25659acf633bc0",
       "value": "Votre mot de passe est incorrect"
      }
     },
     "f8a2fcbc721d42a2ba0e2eb364e2a1e5": {
      "model_module": "@jupyter-widgets/controls",
      "model_module_version": "1.5.0",
      "model_name": "ButtonStyleModel",
      "state": {}
     },
     "f8e540d7036449c3bdc98752e28e3ac5": {
      "model_module": "@jupyter-widgets/controls",
      "model_module_version": "1.5.0",
      "model_name": "DescriptionStyleModel",
      "state": {
       "description_width": ""
      }
     },
     "f92934ee17bf4e25a2003c2321ee37fd": {
      "model_module": "@jupyter-widgets/base",
      "model_module_version": "1.2.0",
      "model_name": "LayoutModel",
      "state": {}
     },
     "f92a9182f38f4873b8b843146e786d95": {
      "model_module": "@jupyter-widgets/controls",
      "model_module_version": "1.5.0",
      "model_name": "LabelModel",
      "state": {
       "layout": "IPY_MODEL_93d55a39781644efb349e0a1828725f4",
       "style": "IPY_MODEL_6ce36b40385b434c89e1400f23919759",
       "value": "Nous vous avons envoyé un Email de réinitialisation à @gmail.com"
      }
     },
     "f96cfa31ff4e4115a9c5da51fbce3149": {
      "model_module": "@jupyter-widgets/base",
      "model_module_version": "1.2.0",
      "model_name": "LayoutModel",
      "state": {}
     },
     "f9a8799e86fd4012848e8682e08e1c15": {
      "model_module": "@jupyter-widgets/controls",
      "model_module_version": "1.5.0",
      "model_name": "DescriptionStyleModel",
      "state": {
       "description_width": ""
      }
     },
     "f9cd59d53e884fda83abbcb3d69616cb": {
      "model_module": "@jupyter-widgets/controls",
      "model_module_version": "1.5.0",
      "model_name": "TextModel",
      "state": {
       "description": "Adresse mail",
       "layout": "IPY_MODEL_12f768214ee540d6979c4e2af22b2ea1",
       "style": "IPY_MODEL_c291b22f2b7142f2942af08dca22a61e",
       "value": "alex.capelle97@gmail.com"
      }
     },
     "fa38ab22725242708b27e05ef1dccf49": {
      "model_module": "@jupyter-widgets/base",
      "model_module_version": "1.2.0",
      "model_name": "LayoutModel",
      "state": {}
     },
     "fa5cbc12173c4a538de3f3903937a4b2": {
      "model_module": "@jupyter-widgets/controls",
      "model_module_version": "1.5.0",
      "model_name": "LabelModel",
      "state": {
       "layout": "IPY_MODEL_db1a445856b84222813c2362860657c9",
       "style": "IPY_MODEL_3464d64c75bf42ca9ee4f9bbc5732eab",
       "value": "Connection en cours ..."
      }
     },
     "fa81979a24544a75ab161344b10c0874": {
      "model_module": "@jupyter-widgets/controls",
      "model_module_version": "1.5.0",
      "model_name": "LabelModel",
      "state": {
       "layout": "IPY_MODEL_a3738b94685f4b3cb1d48e5d3a9d7de5",
       "style": "IPY_MODEL_5c79e024aa2a42968c4a935256751e34",
       "value": "Votre adresse mail n'est pas reconnue"
      }
     },
     "faabe41f277d46b1891f63d198cd0873": {
      "model_module": "@jupyter-widgets/controls",
      "model_module_version": "1.5.0",
      "model_name": "DescriptionStyleModel",
      "state": {
       "description_width": ""
      }
     },
     "fad447a73ab64da29f75aebc55b932bc": {
      "model_module": "@jupyter-widgets/controls",
      "model_module_version": "1.5.0",
      "model_name": "DescriptionStyleModel",
      "state": {
       "description_width": ""
      }
     },
     "fb8c9c727c7d44c9832f6a5afce84373": {
      "model_module": "@jupyter-widgets/base",
      "model_module_version": "1.2.0",
      "model_name": "LayoutModel",
      "state": {}
     },
     "fbf09c2fdad34e03b56ff4dcc68f6cae": {
      "model_module": "@jupyter-widgets/controls",
      "model_module_version": "1.5.0",
      "model_name": "LabelModel",
      "state": {
       "layout": "IPY_MODEL_b8c1e54453a94dbfaceaac7c2fa4c2a2",
       "style": "IPY_MODEL_fd194d8b6a904e74b4c03529c7fe4a4e",
       "value": "Votre mot de passe est incorrect"
      }
     },
     "fc00db3c56404541ab4d704c0c0b72fa": {
      "model_module": "@jupyter-widgets/controls",
      "model_module_version": "1.5.0",
      "model_name": "ButtonModel",
      "state": {
       "description": "Mot de passe oublié",
       "layout": "IPY_MODEL_8ee0e9ce2a994d39807e259a7cbc8702",
       "style": "IPY_MODEL_3eaaea6a54f64f8da19f5ee7c605aa19"
      }
     },
     "fc2e98b4ce4e45a4880033a9c9f28802": {
      "model_module": "@jupyter-widgets/controls",
      "model_module_version": "1.5.0",
      "model_name": "DescriptionStyleModel",
      "state": {
       "description_width": ""
      }
     },
     "fc4cae926dfd4a98a347a7d0954ce17c": {
      "model_module": "@jupyter-widgets/base",
      "model_module_version": "1.2.0",
      "model_name": "LayoutModel",
      "state": {}
     },
     "fc9f764130b0415a824a1bdb92d3d030": {
      "model_module": "@jupyter-widgets/controls",
      "model_module_version": "1.5.0",
      "model_name": "DescriptionStyleModel",
      "state": {
       "description_width": ""
      }
     },
     "fd194d8b6a904e74b4c03529c7fe4a4e": {
      "model_module": "@jupyter-widgets/controls",
      "model_module_version": "1.5.0",
      "model_name": "DescriptionStyleModel",
      "state": {
       "description_width": ""
      }
     },
     "fd30bded956c49bc88f9e13afdbee8c1": {
      "model_module": "@jupyter-widgets/controls",
      "model_module_version": "1.5.0",
      "model_name": "LabelModel",
      "state": {
       "layout": "IPY_MODEL_4c7d4d0d23834f1385678d0cf5679e39",
       "style": "IPY_MODEL_e4e5b35dc53143f595bef8899563510f",
       "value": "Votre adresse mail n'est pas reconnue"
      }
     },
     "fd3d06f05b4b48568ef6ff141e8bd499": {
      "model_module": "@jupyter-widgets/controls",
      "model_module_version": "1.5.0",
      "model_name": "DescriptionStyleModel",
      "state": {
       "description_width": ""
      }
     },
     "fd67128cf77048909691408327ebc62a": {
      "model_module": "@jupyter-widgets/base",
      "model_module_version": "1.2.0",
      "model_name": "LayoutModel",
      "state": {}
     },
     "fe8faed967414a23b0c99bd5d73eff1a": {
      "model_module": "@jupyter-widgets/base",
      "model_module_version": "1.2.0",
      "model_name": "LayoutModel",
      "state": {}
     },
     "ff131be074e8477aae3f0b0cab281256": {
      "model_module": "@jupyter-widgets/controls",
      "model_module_version": "1.5.0",
      "model_name": "LabelModel",
      "state": {
       "layout": "IPY_MODEL_241fe05ea0d640a1b6cc1168dd6bd036",
       "style": "IPY_MODEL_a0f7ac7b4d674794866e55d916070f27",
       "value": "Votre adresse mail n'est pas reconnue"
      }
     },
     "ff15916606484945ab5fc90c9ad32019": {
      "model_module": "@jupyter-widgets/controls",
      "model_module_version": "1.5.0",
      "model_name": "LabelModel",
      "state": {
       "layout": "IPY_MODEL_d42e014a8738412c93c3840debd5ac4c",
       "style": "IPY_MODEL_31bdf66cd973459ca741b15370f184b0",
       "value": "Veuillez entrer une adresse Gmail valide (...@gmail.com)"
      }
     },
     "ff293c8fe8564145bf251bcb49781caf": {
      "model_module": "@jupyter-widgets/base",
      "model_module_version": "1.2.0",
      "model_name": "LayoutModel",
      "state": {}
     },
     "ff6fb1ba6c774691ab44e260004cd9c8": {
      "model_module": "@jupyter-widgets/controls",
      "model_module_version": "1.5.0",
      "model_name": "ButtonModel",
      "state": {
       "description": "Se connecter",
       "layout": "IPY_MODEL_e3ffdbf9f65542018ebb14185a091b13",
       "style": "IPY_MODEL_db67fdf9a64f4998a72a219584dc941c"
      }
     },
     "ffb5c4e081c243ddbc2bdc954f399360": {
      "model_module": "@jupyter-widgets/base",
      "model_module_version": "1.2.0",
      "model_name": "LayoutModel",
      "state": {}
     },
     "ffd2e61928044e1ab9d4383b1604c39b": {
      "model_module": "@jupyter-widgets/base",
      "model_module_version": "1.2.0",
      "model_name": "LayoutModel",
      "state": {}
     },
     "fff885a19f8547f989c801a28c712c07": {
      "model_module": "@jupyter-widgets/base",
      "model_module_version": "1.2.0",
      "model_name": "LayoutModel",
      "state": {}
     }
    },
    "version_major": 2,
    "version_minor": 0
   }
  }
 },
 "nbformat": 4,
 "nbformat_minor": 2
}
